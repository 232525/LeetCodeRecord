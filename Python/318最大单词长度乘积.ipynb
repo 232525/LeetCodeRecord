{
 "cells": [
  {
   "cell_type": "code",
   "execution_count": null,
   "metadata": {},
   "outputs": [],
   "source": [
    "import typing\n",
    "from typing import List"
   ]
  },
  {
   "cell_type": "code",
   "execution_count": 2,
   "metadata": {},
   "outputs": [],
   "source": [
    "# 使用 List 作为哈希表存储数据\n",
    "class Solution:\n",
    "    def maxProduct(self, words: List[str]) -> int:\n",
    "        # 哈希表数据存储\n",
    "        n = len(words)\n",
    "        hash_flags = [[0] * 26 for i in range(n)]\n",
    "        for i, word in enumerate(words):\n",
    "            for c in word:\n",
    "                hash_flags[i][ord(c) - ord('a')] = 1\n",
    "\n",
    "        # 两层循环计算乘积\n",
    "        res = 0\n",
    "        for i in range(n):\n",
    "            for j in range(i+1, n):\n",
    "                # 判断两个字符串是否存在相同字符\n",
    "                same = False\n",
    "                for k in range(26):\n",
    "                    if hash_flags[i][k] and hash_flags[j][k]:\n",
    "                        same = True\n",
    "                        break\n",
    "                if not same:\n",
    "                    res = max(res, len(words[i]) * len(words[j]))\n",
    "\n",
    "        return res\n",
    "    \n",
    "# 使用一个整数作为哈希表存储数据\n",
    "class Solution:\n",
    "    def maxProduct(self, words: List[str]) -> int:\n",
    "        # 哈希表数据存储\n",
    "        n = len(words)\n",
    "        hash_flags = [0] * n\n",
    "        for i in range(n):\n",
    "            for c in words[i]:\n",
    "                hash_flags[i] |= (1 << ord(c) - ord('a'))\n",
    "\n",
    "        # 两层循环计算乘积\n",
    "        res = 0\n",
    "        for i in range(n):\n",
    "            for j in range(i+1, n):\n",
    "                # 判断两个字符串是否存在相同字符\n",
    "                # 位相与，如果结果 > 1，则存在相同字符\n",
    "                same = (hash_flags[i] & hash_flags[j]) >= 1\n",
    "                if not same:\n",
    "                    res = max(res, len(words[i]) * len(words[j]))\n",
    "\n",
    "        return res"
   ]
  },
  {
   "cell_type": "code",
   "execution_count": 3,
   "metadata": {},
   "outputs": [
    {
     "name": "stdout",
     "output_type": "stream",
     "text": [
      "0\n"
     ]
    }
   ],
   "source": [
    "words = [\"abcw\",\"baz\",\"foo\",\"bar\",\"xtfn\",\"abcdef\"]\n",
    "words = [\"a\",\"aa\",\"aaa\",\"aaaa\"]\n",
    "print(Solution().maxProduct(words))"
   ]
  },
  {
   "cell_type": "code",
   "execution_count": null,
   "metadata": {},
   "outputs": [],
   "source": []
  },
  {
   "cell_type": "code",
   "execution_count": null,
   "metadata": {},
   "outputs": [],
   "source": []
  }
 ],
 "metadata": {
  "kernelspec": {
   "display_name": "Python 3 (ipykernel)",
   "language": "python",
   "name": "python3"
  },
  "language_info": {
   "codemirror_mode": {
    "name": "ipython",
    "version": 3
   },
   "file_extension": ".py",
   "mimetype": "text/x-python",
   "name": "python",
   "nbconvert_exporter": "python",
   "pygments_lexer": "ipython3",
   "version": "3.8.3"
  }
 },
 "nbformat": 4,
 "nbformat_minor": 4
}
