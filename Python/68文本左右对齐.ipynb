{
 "cells": [
  {
   "cell_type": "code",
   "execution_count": 1,
   "metadata": {},
   "outputs": [],
   "source": [
    "import typing\n",
    "from typing import List"
   ]
  },
  {
   "cell_type": "code",
   "execution_count": 2,
   "metadata": {},
   "outputs": [],
   "source": [
    "class Solution:\n",
    "    def fullJustify(self, words: List[str], maxWidth: int) -> List[str]:\n",
    "        collect_words = []\n",
    "        collect_length = 0\n",
    "        result = []\n",
    "        \n",
    "        # 对 collect_words 中单词进行左右对齐\n",
    "        def list2str(collect_words, words_length, maxWidth, _left=False):\n",
    "            # 居左对齐，用于最后\n",
    "            if _left:\n",
    "                _ = \" \".join(collect_words)\n",
    "                return _ + \" \" * (maxWidth - len(_))\n",
    "            \n",
    "            # 只有一个单词，空格加在后面\n",
    "            if len(collect_words) == 1:\n",
    "                return collect_words[0] + \" \" * (maxWidth - words_length)\n",
    "            \n",
    "            # 多个单词，需要考虑空格的长度\n",
    "            # 计算单词与单词之间空格的长度\n",
    "            space_cnt = len(collect_words) - 1\n",
    "            space_length = (maxWidth - words_length) // space_cnt\n",
    "            extra_space_length =  (maxWidth - words_length) % space_cnt\n",
    "            if extra_space_length != 0:\n",
    "                _space_left = \" \" * (space_length + 1)\n",
    "                _space_right = \" \" * space_length\n",
    "                return _space_left.join(collect_words[:extra_space_length+1]) + \" \" * space_length + _space_right.join(collect_words[extra_space_length+1:])\n",
    "            else:\n",
    "                _space = \" \" * space_length\n",
    "                return _space.join(collect_words)\n",
    "        \n",
    "        for word in words:\n",
    "            collect_words.append(word)\n",
    "            collect_length += len(word)\n",
    "            space_cnt = len(collect_words) - 1\n",
    "            if collect_length + space_cnt > maxWidth:\n",
    "                _str = list2str(collect_words[:-1], collect_length - len(word), maxWidth)\n",
    "                result.append(_str)\n",
    "                collect_words = [collect_words[-1]]\n",
    "                collect_length = len(word)\n",
    "                \n",
    "        result.append(list2str(collect_words, collect_length, maxWidth, True))\n",
    "        return result"
   ]
  },
  {
   "cell_type": "code",
   "execution_count": 4,
   "metadata": {},
   "outputs": [
    {
     "name": "stdout",
     "output_type": "stream",
     "text": [
      "['Science  is  what we', 'understand      well', 'enough to explain to', 'a  computer.  Art is', 'everything  else  we', 'do                  ']\n"
     ]
    }
   ],
   "source": [
    "words = [\"This\", \"is\", \"an\", \"example\", \"of\", \"text\", \"justification.\"]\n",
    "maxWidth = 16\n",
    "words = [\"Science\",\"is\",\"what\",\"we\",\"understand\",\"well\",\"enough\",\"to\",\"explain\",\"to\",\"a\",\"computer.\",\"Art\",\"is\",\"everything\",\"else\",\"we\",\"do\"]\n",
    "maxWidth = 20\n",
    "print(Solution().fullJustify(words, maxWidth))"
   ]
  },
  {
   "cell_type": "code",
   "execution_count": null,
   "metadata": {},
   "outputs": [],
   "source": []
  }
 ],
 "metadata": {
  "kernelspec": {
   "display_name": "Python 3 (ipykernel)",
   "language": "python",
   "name": "python3"
  },
  "language_info": {
   "codemirror_mode": {
    "name": "ipython",
    "version": 3
   },
   "file_extension": ".py",
   "mimetype": "text/x-python",
   "name": "python",
   "nbconvert_exporter": "python",
   "pygments_lexer": "ipython3",
   "version": "3.8.3"
  }
 },
 "nbformat": 4,
 "nbformat_minor": 4
}
