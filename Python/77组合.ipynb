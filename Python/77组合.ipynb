{
 "cells": [
  {
   "cell_type": "code",
   "execution_count": 1,
   "metadata": {},
   "outputs": [],
   "source": [
    "import typing\n",
    "from typing import List"
   ]
  },
  {
   "cell_type": "code",
   "execution_count": 2,
   "metadata": {},
   "outputs": [],
   "source": [
    "# 初始提交，存在冗余判断，效率较低\n",
    "class Solution:\n",
    "    def combine(self, n: int, k: int) -> List[List[int]]:\n",
    "        num_dict = {_: False for _ in range(1, n+1)}\n",
    "        \n",
    "        results = []\n",
    "        _combine = []\n",
    "        def backtrack(_combine):\n",
    "            if len(_combine) == k:\n",
    "                if _combine not in results:\n",
    "                    results.append(_combine[:])\n",
    "            else:\n",
    "                begin = 1 if not _combine else _combine[-1]\n",
    "                for i in range(begin, n+1):\n",
    "                    if num_dict[i] == True:\n",
    "                        continue\n",
    "                    num_dict[i] = True\n",
    "                    _combine.append(i)\n",
    "                    backtrack(_combine)\n",
    "                    num_dict[i] = False\n",
    "                    _combine.pop()\n",
    "                    \n",
    "        backtrack(_combine)\n",
    "        return results\n",
    "     \n",
    "# 去除冗余判断\n",
    "class Solution:\n",
    "    def combine(self, n: int, k: int) -> List[List[int]]:        \n",
    "        results = []\n",
    "        _combine = []\n",
    "        def backtrack(_combine):\n",
    "            if len(_combine) == k:\n",
    "                results.append(_combine[:])\n",
    "            else:\n",
    "                # 循环下界无需每次都从1开始，\n",
    "                # 为避免重复，结果可以只保存按照字典序的组合，所以在递归时，\n",
    "                # 循环下届可以设置为 _combine[-1] + 1\n",
    "                begin = 1 if not _combine else _combine[-1] + 1\n",
    "                for i in range(begin, n+1):\n",
    "                    _combine.append(i)\n",
    "                    backtrack(_combine)\n",
    "                    _combine.pop()\n",
    "                    \n",
    "        backtrack(_combine)\n",
    "        return results\n",
    "    \n",
    "class Solution:\n",
    "    def combine(self, n: int, k: int) -> List[List[int]]:        \n",
    "        results = list()\n",
    "        # 递归回溯函数增加一个 begin 参数，无需在循环前计算下界值\n",
    "        def backtrack(begin, _combine):\n",
    "            if len(_combine) == k:\n",
    "                results.append(_combine[:])\n",
    "            else:\n",
    "                # 上界可优化，因为题目要求计算 k 个数值的组合，因此当剩余数值少于 k 个时则无需继续循环\n",
    "                # 可基于此重新计算新的上界，而无需每次都设置为 n + 1\n",
    "                # end = n + 1\n",
    "                end = n - (k - len(_combine)) + 1 + 1\n",
    "                for i in range(begin, end):\n",
    "                    _combine.append(i)\n",
    "                    backtrack(i + 1, _combine)  # 下界设置为 i+1\n",
    "                    _combine.pop()\n",
    "                    \n",
    "        backtrack(1, _combine=[]) # 初始下界为 1\n",
    "        return results"
   ]
  },
  {
   "cell_type": "code",
   "execution_count": 3,
   "metadata": {},
   "outputs": [
    {
     "name": "stdout",
     "output_type": "stream",
     "text": [
      "[[1, 2], [1, 3], [1, 4], [2, 3], [2, 4], [3, 4]]\n"
     ]
    }
   ],
   "source": [
    "n, k = 4, 2\n",
    "print(Solution().combine(n, k))"
   ]
  },
  {
   "cell_type": "code",
   "execution_count": null,
   "metadata": {},
   "outputs": [],
   "source": []
  }
 ],
 "metadata": {
  "kernelspec": {
   "display_name": "Python 3 (ipykernel)",
   "language": "python",
   "name": "python3"
  },
  "language_info": {
   "codemirror_mode": {
    "name": "ipython",
    "version": 3
   },
   "file_extension": ".py",
   "mimetype": "text/x-python",
   "name": "python",
   "nbconvert_exporter": "python",
   "pygments_lexer": "ipython3",
   "version": "3.8.3"
  }
 },
 "nbformat": 4,
 "nbformat_minor": 4
}
