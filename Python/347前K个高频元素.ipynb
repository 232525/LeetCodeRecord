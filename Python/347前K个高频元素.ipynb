{
 "cells": [
  {
   "cell_type": "code",
   "execution_count": 1,
   "metadata": {},
   "outputs": [],
   "source": [
    "import typing\n",
    "from typing import List\n",
    "import heapq"
   ]
  },
  {
   "cell_type": "code",
   "execution_count": 4,
   "metadata": {},
   "outputs": [],
   "source": [
    "class Solution:\n",
    "    def topKFrequent(self, nums: List[int], k: int) -> List[int]:\n",
    "        # 使用一个哈希表存储数值出现的频率\n",
    "        num2cnt = {}\n",
    "        # O(n)\n",
    "        for num in nums:\n",
    "            if num not in num2cnt:\n",
    "                num2cnt[num] = 1\n",
    "            else:\n",
    "                num2cnt[num] += 1\n",
    "\n",
    "        # 使用一个大小为 k 的最小堆\n",
    "        # NOTE: Python 的 heapq 可以以 tuple 作为元素，tuple[0] 参与比较\n",
    "        heap = []\n",
    "        for num, cnt in num2cnt.items():\n",
    "            if len(heap) < k:\n",
    "                heapq.heappush(heap, (cnt, num))\n",
    "            elif heap[0][0] < cnt:\n",
    "                heapq.heappop(heap)\n",
    "                heapq.heappush(heap, (cnt, num))\n",
    "\n",
    "        return [_[1] for _ in heap]"
   ]
  },
  {
   "cell_type": "code",
   "execution_count": 5,
   "metadata": {},
   "outputs": [
    {
     "name": "stdout",
     "output_type": "stream",
     "text": [
      "[(3, 1), (2, 2)]\n",
      "[2, 1]\n"
     ]
    }
   ],
   "source": [
    "nums = [1,1,1,2,2,3]\n",
    "k = 2\n",
    "print(Solution().topKFrequent(nums, k))"
   ]
  },
  {
   "cell_type": "code",
   "execution_count": null,
   "metadata": {},
   "outputs": [],
   "source": []
  }
 ],
 "metadata": {
  "kernelspec": {
   "display_name": "Python 3 (ipykernel)",
   "language": "python",
   "name": "python3"
  },
  "language_info": {
   "codemirror_mode": {
    "name": "ipython",
    "version": 3
   },
   "file_extension": ".py",
   "mimetype": "text/x-python",
   "name": "python",
   "nbconvert_exporter": "python",
   "pygments_lexer": "ipython3",
   "version": "3.8.3"
  }
 },
 "nbformat": 4,
 "nbformat_minor": 4
}
