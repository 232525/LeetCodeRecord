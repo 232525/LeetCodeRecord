{
 "cells": [
  {
   "cell_type": "code",
   "execution_count": null,
   "metadata": {},
   "outputs": [],
   "source": [
    "import typing\n",
    "from typing import List"
   ]
  },
  {
   "cell_type": "code",
   "execution_count": 2,
   "metadata": {},
   "outputs": [],
   "source": [
    "# 递归写法\n",
    "class Solution1:\n",
    "    def getPermutation(self, n: int, k: int) -> str:\n",
    "        _res = self._getPermutation(n, k, [i for i in range(1, n+1)])\n",
    "        return _res\n",
    "        \n",
    "    def _getPermutation(self, n, k, nums):\n",
    "        if n - 1 == 0:\n",
    "            return str(nums[0])\n",
    "        cnt = self.factorial(n - 1)\n",
    "        idx = k // cnt + (k % cnt > 0)\n",
    "        num = nums[idx - 1]\n",
    "        del nums[idx - 1]\n",
    "        return str(num) + self._getPermutation(n-1, k%cnt, nums)\n",
    "        \n",
    "    # 阶乘\n",
    "    def factorial(self, n):\n",
    "        ans = 1\n",
    "        for i in range(1, n+1):\n",
    "            ans *= i\n",
    "        return ans\n",
    "    \n",
    "# 迭代写法\n",
    "class Solution:\n",
    "    def getPermutation(self, n: int, k: int) -> str:\n",
    "        nums = [i for i in range(1, n+1)]\n",
    "        # 阶乘结果预先计算\n",
    "        factorial = [1]\n",
    "        for i in range(1, n):\n",
    "            factorial.append(factorial[-1] * i)\n",
    "        \n",
    "        ans = []\n",
    "        for i in range(1, n+1):\n",
    "            if len(nums) == 1:\n",
    "                ans.append(str(nums[0]))\n",
    "                break\n",
    "            _factorial = factorial[n-i]\n",
    "            idx = k // _factorial + (k % _factorial > 0)\n",
    "            num = nums[idx - 1]\n",
    "            del nums[idx - 1]   # 动态维护可选用的数值 list\n",
    "            ans.append(str(num))\n",
    "            k = k % _factorial\n",
    "            \n",
    "        return \"\".join(ans)"
   ]
  },
  {
   "cell_type": "code",
   "execution_count": 3,
   "metadata": {},
   "outputs": [
    {
     "name": "stdout",
     "output_type": "stream",
     "text": [
      "2314\n",
      "2314\n"
     ]
    }
   ],
   "source": [
    "n = 3\n",
    "k = 3\n",
    "n = 4\n",
    "k = 9\n",
    "# n = 3\n",
    "# k = 1\n",
    "print(Solution().getPermutation(n, k))\n",
    "print(Solution1().getPermutation(n, k))"
   ]
  },
  {
   "cell_type": "code",
   "execution_count": null,
   "metadata": {},
   "outputs": [],
   "source": []
  }
 ],
 "metadata": {
  "kernelspec": {
   "display_name": "Python 3 (ipykernel)",
   "language": "python",
   "name": "python3"
  },
  "language_info": {
   "codemirror_mode": {
    "name": "ipython",
    "version": 3
   },
   "file_extension": ".py",
   "mimetype": "text/x-python",
   "name": "python",
   "nbconvert_exporter": "python",
   "pygments_lexer": "ipython3",
   "version": "3.8.3"
  }
 },
 "nbformat": 4,
 "nbformat_minor": 4
}
