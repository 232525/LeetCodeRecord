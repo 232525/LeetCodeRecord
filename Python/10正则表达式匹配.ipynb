{
 "cells": [
  {
   "cell_type": "code",
   "execution_count": 1,
   "metadata": {},
   "outputs": [],
   "source": [
    "import typing"
   ]
  },
  {
   "cell_type": "code",
   "execution_count": 112,
   "metadata": {},
   "outputs": [],
   "source": [
    "# 能AC，一堆判断\n",
    "# 递归\n",
    "class Solution:\n",
    "    def isMatch(self, s: str, p: str) -> bool:\n",
    "        # 递归退出条件\n",
    "        # s 小于等于1个字符、p 小于等于1个字符\n",
    "        if p == \"\":\n",
    "            return s == \"\"\n",
    "        elif len(p) == 1:\n",
    "            if len(s) >= 2:\n",
    "                return False\n",
    "            elif len(s) == 1:\n",
    "                return True if p[0] == \".\" else p[0] == s[0]\n",
    "            else:\n",
    "                return False\n",
    "        elif p == \".*\":\n",
    "            return True\n",
    "        \n",
    "        if s == \"\":\n",
    "            if len(p) == 1:\n",
    "                return False\n",
    "            elif len(p) == 2:\n",
    "                return p[1] == \"*\"\n",
    "            else:\n",
    "                return p[1] == \"*\" and self.isMatch(s, p[2:])\n",
    "            \n",
    "        # p满足 \"<a-z><a-z>\"、\"<a-z>.\"\n",
    "        if p[0] != \".\" and p[1] != \"*\":\n",
    "            # 递归\n",
    "            return p[0] == s[0] and self.isMatch(s[1:], p[1:])\n",
    "        # p满足 \"<a-z>*\"\n",
    "        if p[0] != \".\" and p[1] == \"*\":\n",
    "            idx = 0\n",
    "            # 找到s中第一个不为p[0]字符的位置\n",
    "            while idx < len(s) and s[idx] == p[0]:\n",
    "                _ = self.isMatch(s[idx:], p[2:])\n",
    "                if _:\n",
    "                    return True\n",
    "                idx += 1\n",
    "            return self.isMatch(s[idx:], p[2:])\n",
    "        # p满足 \".<a-z>\"\n",
    "        if p[0] == \".\" and p[1] != \"*\":\n",
    "            return self.isMatch(s[1:], p[1:])\n",
    "        # p满足 \".*\"\n",
    "        if p[0] == \".\" and p[1] == \"*\":\n",
    "            for idx in range(len(s)):\n",
    "                _ = self.isMatch(s[idx:], p[2:])\n",
    "                if _:\n",
    "                    return True\n",
    "            return self.isMatch(\"\", p[2:])\n",
    "        \n",
    "# 动态规划\n",
    "class Solution:\n",
    "    def isMatch(self, s: str, p: str) -> bool:\n",
    "        m, n = len(s), len(p)\n",
    "        def matches(i, j):\n",
    "            if i == 0:\n",
    "                return False\n",
    "            if p[j - 1] == \".\":\n",
    "                return True\n",
    "            return s[i - 1] == p[j - 1]\n",
    "        \n",
    "        # DP 矩阵：[m+1, n+1]\n",
    "        DP = [[False] * (n + 1) for _ in range(m + 1)]\n",
    "        DP[0][0] = True\n",
    "        # 更新 DP 矩阵\n",
    "        for i in range(m+1):\n",
    "            for j in range(1, n+1):\n",
    "                if p[j - 1] == \"*\":\n",
    "                    DP[i][j] |= DP[i][j - 2]\n",
    "                    if matches(i, j - 1):\n",
    "                        DP[i][j] |= DP[i - 1][j]\n",
    "                else:\n",
    "                    if matches(i, j):\n",
    "                        DP[i][j] |= DP[i - 1][j - 1]\n",
    "        return DP[m][n]"
   ]
  },
  {
   "cell_type": "code",
   "execution_count": 114,
   "metadata": {},
   "outputs": [
    {
     "name": "stdout",
     "output_type": "stream",
     "text": [
      "True\n"
     ]
    }
   ],
   "source": [
    "s = \"ccaab\"\n",
    "p = \"c*a*b\"\n",
    "s = \"aabcbcbcaccbcaabc\"\n",
    "p = \".*a*aa*.*b*.c*.*a*\"\n",
    "# s = \"abcaaaaaaabaabcabac\"\n",
    "# p = \".*ab.a.*a*a*.*b*b*\"\n",
    "print(Solution().isMatch(s, p))"
   ]
  },
  {
   "cell_type": "code",
   "execution_count": null,
   "metadata": {},
   "outputs": [],
   "source": []
  }
 ],
 "metadata": {
  "kernelspec": {
   "display_name": "Python 3 (ipykernel)",
   "language": "python",
   "name": "python3"
  },
  "language_info": {
   "codemirror_mode": {
    "name": "ipython",
    "version": 3
   },
   "file_extension": ".py",
   "mimetype": "text/x-python",
   "name": "python",
   "nbconvert_exporter": "python",
   "pygments_lexer": "ipython3",
   "version": "3.8.3"
  }
 },
 "nbformat": 4,
 "nbformat_minor": 4
}
