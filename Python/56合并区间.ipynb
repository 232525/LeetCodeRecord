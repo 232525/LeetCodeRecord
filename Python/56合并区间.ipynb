{
 "cells": [
  {
   "cell_type": "code",
   "execution_count": 1,
   "metadata": {},
   "outputs": [],
   "source": [
    "import typing\n",
    "from typing import List"
   ]
  },
  {
   "cell_type": "code",
   "execution_count": 15,
   "metadata": {},
   "outputs": [],
   "source": [
    "class Solution:\n",
    "    def merge(self, intervals: List[List[int]]) -> List[List[int]]:\n",
    "        # 先对 intervals 按照左边界进行排序\n",
    "        intervals = sorted(intervals, key=lambda x: x[0])\n",
    "        # print(intervals)\n",
    "        result = []\n",
    "        \n",
    "        pre = intervals[0]\n",
    "        for i in range(1, len(intervals)):\n",
    "            now = intervals[i]\n",
    "            if now[0] >= pre[0] and now[0] <= pre[1]:\n",
    "                pre = [pre[0], max(pre[1], now[1])]\n",
    "            else:\n",
    "                result.append(pre)\n",
    "                pre = now\n",
    "        # 遗漏数据\n",
    "        result.append(pre)\n",
    "        return result"
   ]
  },
  {
   "cell_type": "code",
   "execution_count": 20,
   "metadata": {},
   "outputs": [
    {
     "name": "stdout",
     "output_type": "stream",
     "text": [
      "[[1, 4], [7, 10]]\n"
     ]
    }
   ],
   "source": [
    "intervals = [[1,3],[2,6],[8,10],[15,18]]\n",
    "intervals = [[1,4],[4,5]]\n",
    "intervals = [[1,4],[2,3],[7,10]]\n",
    "print(Solution().merge(intervals))"
   ]
  },
  {
   "cell_type": "code",
   "execution_count": null,
   "metadata": {},
   "outputs": [],
   "source": []
  }
 ],
 "metadata": {
  "kernelspec": {
   "display_name": "Python 3 (ipykernel)",
   "language": "python",
   "name": "python3"
  },
  "language_info": {
   "codemirror_mode": {
    "name": "ipython",
    "version": 3
   },
   "file_extension": ".py",
   "mimetype": "text/x-python",
   "name": "python",
   "nbconvert_exporter": "python",
   "pygments_lexer": "ipython3",
   "version": "3.8.3"
  }
 },
 "nbformat": 4,
 "nbformat_minor": 4
}
