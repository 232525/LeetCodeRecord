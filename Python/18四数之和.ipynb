{
 "cells": [
  {
   "cell_type": "code",
   "execution_count": 1,
   "metadata": {},
   "outputs": [],
   "source": [
    "import typing\n",
    "from typing import List"
   ]
  },
  {
   "cell_type": "code",
   "execution_count": 89,
   "metadata": {},
   "outputs": [],
   "source": [
    "import collections\n",
    "\n",
    "# 时间超限（思路参考了“40-组合总和II”）\n",
    "class Solution:\n",
    "    def fourSum(self, nums: List[int], target: int) -> List[List[int]]:\n",
    "        freq = sorted(collections.Counter(nums).items())\n",
    "        print(freq)\n",
    "        results = []\n",
    "        combine = []\n",
    "        def dfs(pos, rest):\n",
    "            nonlocal combine\n",
    "            # 回溯退出条件\n",
    "            # 1. 找到一个解\n",
    "            if len(combine) == 4 and rest == 0:\n",
    "                results.append(combine[:])\n",
    "                return\n",
    "            # 2. combine中的数值多于4个，无论rest是否等于0，都不满足题目要求\n",
    "            if len(combine) > 4:\n",
    "                return\n",
    "            # 3. nums中数值已被用完，或者剩余数值不可能构成解\n",
    "            if pos == len(freq) or (rest > 0 and rest < freq[pos][0]) or (rest < 0 and freq[pos][0] >= 0):\n",
    "                return\n",
    "            \n",
    "            # 不使用当前数值\n",
    "            dfs(pos + 1, rest)\n",
    "            # 使用当前数值\n",
    "            # most 表示该数值可使用次数\n",
    "            most = freq[pos][1]\n",
    "            # 依次加入当前数值，并进行递归\n",
    "            for i in range(1, most + 1):\n",
    "                combine.append(freq[pos][0])\n",
    "                dfs(pos + 1, rest - i * freq[pos][0])\n",
    "            # 去除加入的数值\n",
    "            combine = combine[:-most]\n",
    "        \n",
    "        dfs(0, target)\n",
    "        return results\n",
    "    \n",
    "# 排序 + 双指针 (官方题解)\n",
    "class Solution:\n",
    "    def fourSum(self, nums: List[int], target: int) -> List[List[int]]:\n",
    "        results = list()\n",
    "        if not nums or len(nums) < 4:\n",
    "            return results\n",
    "        \n",
    "        # 排序\n",
    "        nums.sort()\n",
    "        length = len(nums)\n",
    "        # 两层循环（i, j） + 双指针（left, right）\n",
    "        for i in range(length - 3):\n",
    "            # 相同数值，直接跳过\n",
    "            if i > 0 and nums[i] == nums[i - 1]:\n",
    "                continue\n",
    "            # 剪枝：nums[i]到nums[i+3] 4数之和大于target，\n",
    "            # 则在往后一定无解（因为j, left, right下标均大于i且为有序数组，最小的和都大于target，则往后的和只会更大），直接退出循环\n",
    "            if nums[i] + nums[i + 1] + nums[i + 2] + nums[i + 3] > target:\n",
    "                break\n",
    "            # 剪枝：i去当前值时，最大的和小于target，同样无解，则跳过当前值，继续循环\n",
    "            if nums[i] + nums[length - 3] + nums[length - 2] + nums[length - 1] < target:\n",
    "                continue\n",
    "            for j in range(i + 1, length - 2):\n",
    "                # 相同数值，直接跳过\n",
    "                if j > i + 1 and nums[j] == nums[j - 1]:\n",
    "                    continue\n",
    "                # 剪枝：同下标 i 循环下剪枝原因一致\n",
    "                if nums[i] + nums[j] + nums[j + 1] + nums[j + 2] > target:\n",
    "                    break\n",
    "                if nums[i] + nums[j] + nums[length - 2] + nums[length - 1] < target:\n",
    "                    continue\n",
    "                # 双指针\n",
    "                left, right = j + 1, length - 1\n",
    "                while left < right:\n",
    "                    # 求和\n",
    "                    total = nums[i] + nums[j] + nums[left] + nums[right]\n",
    "                    # 等于target，left和right同时向中间移动到与自身不同的值；\n",
    "                    # 否则 小于target，移动left（令和变大）；大于target，移动right（令和变小）\n",
    "                    if total == target:\n",
    "                        results.append([nums[i], nums[j], nums[left], nums[right]])\n",
    "                        while left < right and nums[left] == nums[left + 1]:\n",
    "                            left += 1\n",
    "                        left += 1\n",
    "                        while left < right and nums[right] == nums[right - 1]:\n",
    "                            right -= 1\n",
    "                        right -= 1\n",
    "                    elif total < target:\n",
    "                        left += 1\n",
    "                    else:\n",
    "                        right -= 1\n",
    "        \n",
    "        return results"
   ]
  },
  {
   "cell_type": "code",
   "execution_count": 90,
   "metadata": {},
   "outputs": [
    {
     "name": "stdout",
     "output_type": "stream",
     "text": [
      "[[-221, 410, 420, 448], [-12, 211, 410, 448], [3, 149, 420, 485], [4, 148, 420, 485], [54, 98, 420, 485], [84, 211, 352, 410], [98, 218, 331, 410], [98, 218, 352, 389], [171, 211, 227, 448]]\n"
     ]
    }
   ],
   "source": [
    "nums = [1,0,-1,0,-2,2]\n",
    "target = 0\n",
    "# nums = [2,2,2,2,2]\n",
    "# target = 8\n",
    "# nums = [1,-2,-5,-4,-3,3,3,5]\n",
    "# target = -11\n",
    "nums = [-1,0,-5,-2,-2,-4,0,1,-2]\n",
    "target = -9\n",
    "nums = [-493,-470,-464,-453,-451,-446,-445,-407,-406,-393,-328,-312,-307,-303,-259,-253,-252,-243,-221,-193,-126,-126,-122,-117,-106,-105,-101,-71,-20,-12,3,4,20,20,54,84,98,111,148,149,152,171,175,176,211,218,227,331,352,389,410,420,448,485]\n",
    "target = 1057\n",
    "print(Solution().fourSum(nums, target))"
   ]
  },
  {
   "cell_type": "code",
   "execution_count": null,
   "metadata": {},
   "outputs": [],
   "source": []
  },
  {
   "cell_type": "code",
   "execution_count": null,
   "metadata": {},
   "outputs": [],
   "source": []
  }
 ],
 "metadata": {
  "kernelspec": {
   "display_name": "Python 3 (ipykernel)",
   "language": "python",
   "name": "python3"
  },
  "language_info": {
   "codemirror_mode": {
    "name": "ipython",
    "version": 3
   },
   "file_extension": ".py",
   "mimetype": "text/x-python",
   "name": "python",
   "nbconvert_exporter": "python",
   "pygments_lexer": "ipython3",
   "version": "3.8.3"
  }
 },
 "nbformat": 4,
 "nbformat_minor": 4
}
