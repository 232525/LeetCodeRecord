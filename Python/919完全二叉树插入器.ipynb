{
 "cells": [
  {
   "cell_type": "code",
   "execution_count": 1,
   "metadata": {},
   "outputs": [],
   "source": [
    "import typing\n",
    "from typing import List"
   ]
  },
  {
   "cell_type": "code",
   "execution_count": 2,
   "metadata": {},
   "outputs": [],
   "source": [
    "# Definition for a binary tree node.\n",
    "class TreeNode:\n",
    "    def __init__(self, val=0, left=None, right=None):\n",
    "        self.val = val\n",
    "        self.left = left\n",
    "        self.right = right\n",
    "        \n",
    "class CBTInserter:\n",
    "\n",
    "    def __init__(self, root: TreeNode):\n",
    "        self.root = root\n",
    "        self.queue = deque()\n",
    "        self.queue.append(self.root)\n",
    "        # 初始化\n",
    "        while self.queue[0].left is not None and self.queue[0].right is not None:\n",
    "            node = self.queue.popleft()\n",
    "            self.queue.append(node.left)\n",
    "            self.queue.append(node.right)\n",
    "\n",
    "    def insert(self, val: int) -> int:\n",
    "        parent = self.queue[0]\n",
    "        node = TreeNode(val)\n",
    "\n",
    "        if parent.left is None:\n",
    "            parent.left = node\n",
    "        else:\n",
    "            parent.right = node\n",
    "            self.queue.popleft()\n",
    "            self.queue.append(parent.left)\n",
    "            self.queue.append(parent.right)\n",
    "\n",
    "        return parent.val\n",
    "\n",
    "    def get_root(self) -> TreeNode:\n",
    "        return self.root\n",
    "\n",
    "\n",
    "# Your CBTInserter object will be instantiated and called as such:\n",
    "# obj = CBTInserter(root)\n",
    "# param_1 = obj.insert(val)\n",
    "# param_2 = obj.get_root()"
   ]
  },
  {
   "cell_type": "code",
   "execution_count": null,
   "metadata": {},
   "outputs": [],
   "source": []
  }
 ],
 "metadata": {
  "kernelspec": {
   "display_name": "Python 3 (ipykernel)",
   "language": "python",
   "name": "python3"
  },
  "language_info": {
   "codemirror_mode": {
    "name": "ipython",
    "version": 3
   },
   "file_extension": ".py",
   "mimetype": "text/x-python",
   "name": "python",
   "nbconvert_exporter": "python",
   "pygments_lexer": "ipython3",
   "version": "3.8.3"
  }
 },
 "nbformat": 4,
 "nbformat_minor": 4
}
