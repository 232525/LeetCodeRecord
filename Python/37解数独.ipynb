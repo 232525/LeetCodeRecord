{
 "cells": [
  {
   "cell_type": "code",
   "execution_count": null,
   "metadata": {},
   "outputs": [],
   "source": [
    "import typing \n",
    "from typing import List"
   ]
  },
  {
   "cell_type": "code",
   "execution_count": 2,
   "metadata": {},
   "outputs": [],
   "source": [
    "# 参考官方题解\n",
    "class Solution:\n",
    "    def solveSudoku(self, board: List[List[str]]) -> None:\n",
    "        # 从board数据中统计每一行、每一列及每一个小方块内的数字填充信息\n",
    "        row = [[False] * 9 for i in range(9)]    # 9行 x 9个数字\n",
    "        column = [[False] * 9 for i in range(9)]  # 9列 x 9个数字\n",
    "        block = [[[False] * 9 for i in range(3)] for j in range(3)] # 3*3个方块 x 9个数字\n",
    "        valid = False\n",
    "        # 待填充位置坐标\n",
    "        empty_idx = []\n",
    "        for i in range(9):\n",
    "            for j in range(9):\n",
    "                if board[i][j] != \".\":\n",
    "                    # 统计已有数字信息\n",
    "                    num = int(board[i][j])\n",
    "                    row[i][num-1] = column[j][num-1] = block[i // 3][j // 3][num-1] = True\n",
    "                else:\n",
    "                    # 统计待填充位置坐标信息\n",
    "                    empty_idx.append((i, j))\n",
    "        \n",
    "        # cnt = 0\n",
    "        def dfs(idx):\n",
    "            nonlocal valid\n",
    "            # nonlocal cnt\n",
    "            if idx == len(empty_idx):\n",
    "                # 递归退出条件\n",
    "                valid = True\n",
    "                # print(\"return\", idx)\n",
    "                return\n",
    "            # 当前坐标\n",
    "            x, y = empty_idx[idx]\n",
    "            for num in range(9):\n",
    "                # cnt += 1  # 计算循环次数\n",
    "                # 判断数值 num + 1 是否能够填入该位置\n",
    "                if row[x][num] == column[y][num] == block[x // 3][y // 3][num] == False:\n",
    "                    row[x][num] = column[y][num] = block[x // 3][y // 3][num] = True\n",
    "                    board[x][y] = str(num + 1)\n",
    "                    dfs(idx + 1)  # 递归\n",
    "                    row[x][num] = column[y][num] = block[x // 3][y // 3][num] = False\n",
    "                if valid:\n",
    "                    # 回溯及时退出，减少循环次数\n",
    "                    # print(\"return\", idx)\n",
    "                    return\n",
    "        dfs(0)\n",
    "        # print(cnt)"
   ]
  },
  {
   "cell_type": "code",
   "execution_count": 3,
   "metadata": {},
   "outputs": [
    {
     "name": "stdout",
     "output_type": "stream",
     "text": [
      "[['5' '3' '.' '.' '7' '.' '.' '.' '.']\n",
      " ['6' '.' '.' '1' '9' '5' '.' '.' '.']\n",
      " ['.' '9' '8' '.' '.' '.' '.' '6' '.']\n",
      " ['8' '.' '.' '.' '6' '.' '.' '.' '3']\n",
      " ['4' '.' '.' '8' '.' '3' '.' '.' '1']\n",
      " ['7' '.' '.' '.' '2' '.' '.' '.' '6']\n",
      " ['.' '6' '.' '.' '.' '.' '2' '8' '.']\n",
      " ['.' '.' '.' '4' '1' '9' '.' '.' '5']\n",
      " ['.' '.' '.' '.' '8' '.' '.' '7' '9']]\n",
      "----------\n",
      "[['5' '3' '4' '6' '7' '8' '9' '1' '2']\n",
      " ['6' '7' '2' '1' '9' '5' '3' '4' '8']\n",
      " ['1' '9' '8' '3' '4' '2' '5' '6' '7']\n",
      " ['8' '5' '9' '7' '6' '1' '4' '2' '3']\n",
      " ['4' '2' '6' '8' '5' '3' '7' '9' '1']\n",
      " ['7' '1' '3' '9' '2' '4' '8' '5' '6']\n",
      " ['9' '6' '1' '5' '3' '7' '2' '8' '4']\n",
      " ['2' '8' '7' '4' '1' '9' '6' '3' '5']\n",
      " ['3' '4' '5' '2' '8' '6' '1' '7' '9']]\n"
     ]
    }
   ],
   "source": [
    "import numpy as np\n",
    "board = [[\"5\",\"3\",\".\",\".\",\"7\",\".\",\".\",\".\",\".\"],[\"6\",\".\",\".\",\"1\",\"9\",\"5\",\".\",\".\",\".\"],[\".\",\"9\",\"8\",\".\",\".\",\".\",\".\",\"6\",\".\"],[\"8\",\".\",\".\",\".\",\"6\",\".\",\".\",\".\",\"3\"],[\"4\",\".\",\".\",\"8\",\".\",\"3\",\".\",\".\",\"1\"],[\"7\",\".\",\".\",\".\",\"2\",\".\",\".\",\".\",\"6\"],[\".\",\"6\",\".\",\".\",\".\",\".\",\"2\",\"8\",\".\"],[\".\",\".\",\".\",\"4\",\"1\",\"9\",\".\",\".\",\"5\"],[\".\",\".\",\".\",\".\",\"8\",\".\",\".\",\"7\",\"9\"]]\n",
    "print(np.array(board))\n",
    "Solution().solveSudoku(board)\n",
    "print('-' * 10)\n",
    "print(np.array(board))"
   ]
  },
  {
   "cell_type": "code",
   "execution_count": null,
   "metadata": {},
   "outputs": [],
   "source": []
  },
  {
   "cell_type": "code",
   "execution_count": null,
   "metadata": {},
   "outputs": [],
   "source": []
  }
 ],
 "metadata": {
  "kernelspec": {
   "display_name": "Python 3 (ipykernel)",
   "language": "python",
   "name": "python3"
  },
  "language_info": {
   "codemirror_mode": {
    "name": "ipython",
    "version": 3
   },
   "file_extension": ".py",
   "mimetype": "text/x-python",
   "name": "python",
   "nbconvert_exporter": "python",
   "pygments_lexer": "ipython3",
   "version": "3.8.3"
  }
 },
 "nbformat": 4,
 "nbformat_minor": 4
}
