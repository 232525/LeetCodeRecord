{
 "cells": [
  {
   "cell_type": "code",
   "execution_count": 1,
   "metadata": {},
   "outputs": [],
   "source": [
    "import typing\n",
    "from typing import List"
   ]
  },
  {
   "cell_type": "code",
   "execution_count": 6,
   "metadata": {},
   "outputs": [],
   "source": [
    "class Solution:\n",
    "    def asteroidCollision(self, asteroids: List[int]) -> List[int]:\n",
    "        stack = []\n",
    "        tag = False      # 标识位\n",
    "        for asteroid in asteroids:\n",
    "            if asteroid > 0:\n",
    "                tag = True\n",
    "                stack.append(asteroid)  # 向右运行的行星直接入栈\n",
    "            else:\n",
    "                if not tag:\n",
    "                    stack.append(asteroid)  # 入栈左端向左运行的行星（即一定不会碰撞的行星）\n",
    "                    continue\n",
    "                # 出栈可以被当前向左运行的行星毁灭的行星\n",
    "                while len(stack) > 0 and stack[-1] > 0 and stack[-1] < -asteroid:\n",
    "                    stack.pop()  # 出栈被毁灭的向右运行的行星\n",
    "                # 出栈可以同时毁灭的行星\n",
    "                if len(stack) > 0 and stack[-1] > 0 and stack[-1] == -asteroid:\n",
    "                    stack.pop()\n",
    "                # 栈为空或者站顶行星为向左运行，则可以将当前向左运行的行星入栈\n",
    "                elif len(stack) == 0 or stack[-1] < 0:\n",
    "                    stack.append(asteroid)\n",
    "        return stack\n",
    "    \n",
    "# 剑指offer II - 037题解，减少判断语句\n",
    "class Solution:\n",
    "    def asteroidCollision(self, asteroids: List[int]) -> List[int]:\n",
    "        stack = []\n",
    "        for asteroid in asteroids:\n",
    "            # 出栈向右运行的且小于当前向左运行的行星，\n",
    "            # stack[-1] > 0 and stack[-1] < -asteroid 限制了只有当前行星 asteroid 为向左运行时，才有可能进入循环\n",
    "            while len(stack) > 0 and stack[-1] > 0 and stack[-1] < -asteroid:\n",
    "                stack.pop()\n",
    "            # 出栈向右运行的且等于当前向左运行的行星\n",
    "            if len(stack) > 0 and stack[-1] > 0 and stack[-1] == -asteroid:\n",
    "                stack.pop()\n",
    "            # 其他可入栈当前行星的情况\n",
    "            # 1、向右运行的行星，直接入栈；2、栈为空，无论是向左还是向右，入栈；3、栈顶行星也向左移动，则可以入栈当前行星\n",
    "            elif asteroid > 0 or len(stack) == 0 or stack[-1] < 0:\n",
    "                stack.append(asteroid)\n",
    "                \n",
    "        return stack"
   ]
  },
  {
   "cell_type": "code",
   "execution_count": 7,
   "metadata": {},
   "outputs": [
    {
     "name": "stdout",
     "output_type": "stream",
     "text": [
      "[10]\n"
     ]
    }
   ],
   "source": [
    "asteroids = [10,2,-5]\n",
    "print(Solution().asteroidCollision(asteroids))"
   ]
  },
  {
   "cell_type": "code",
   "execution_count": null,
   "metadata": {},
   "outputs": [],
   "source": []
  }
 ],
 "metadata": {
  "kernelspec": {
   "display_name": "Python 3 (ipykernel)",
   "language": "python",
   "name": "python3"
  },
  "language_info": {
   "codemirror_mode": {
    "name": "ipython",
    "version": 3
   },
   "file_extension": ".py",
   "mimetype": "text/x-python",
   "name": "python",
   "nbconvert_exporter": "python",
   "pygments_lexer": "ipython3",
   "version": "3.8.3"
  }
 },
 "nbformat": 4,
 "nbformat_minor": 4
}
