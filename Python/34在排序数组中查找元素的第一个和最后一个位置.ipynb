{
 "cells": [
  {
   "cell_type": "code",
   "execution_count": 4,
   "metadata": {},
   "outputs": [],
   "source": [
    "import typing\n",
    "from typing import List"
   ]
  },
  {
   "cell_type": "code",
   "execution_count": 5,
   "metadata": {},
   "outputs": [],
   "source": [
    "class Solution1:\n",
    "    def searchRange(self, nums: List[int], target: int) -> List[int]:\n",
    "        if not nums:\n",
    "            return [-1, -1]\n",
    "        l, r= 0, len(nums) - 1\n",
    "        \n",
    "        # 二分查找\n",
    "        while l <= r:\n",
    "            mid = (l + r) // 2\n",
    "            if nums[mid] == target:\n",
    "                break\n",
    "            if nums[mid] <= target:\n",
    "                l = mid + 1\n",
    "            else:\n",
    "                r = mid - 1\n",
    "        \n",
    "        # 无 target 值\n",
    "        if nums[mid] != target:\n",
    "            return [-1, -1]\n",
    "            \n",
    "        # 向两侧扩张（不满足题目O(logn)的复杂度要求）\n",
    "        left = mid\n",
    "        right = mid\n",
    "        tag = [False, False]\n",
    "        while left >= 0 or right <= len(nums) - 1:\n",
    "            if left >= 0 and nums[left] == target:\n",
    "                left -= 1\n",
    "            else:\n",
    "                tag[0] = True\n",
    "            if right <= len(nums) - 1 and nums[right] == target:\n",
    "                right += 1\n",
    "            else:\n",
    "                tag[1] = True\n",
    "            if sum(tag) == 2:\n",
    "                break\n",
    "        \n",
    "        return [left + 1, right - 1]\n",
    "    \n",
    "class Solution:\n",
    "    def searchRange(self, nums: List[int], target: int) -> List[int]:\n",
    "        if not nums:\n",
    "            return [-1, -1]\n",
    "        l_idx = self.bi_search(nums, target, True)\n",
    "        r_idx = self.bi_search(nums, target, False) - 1\n",
    "        # 需要判断是否找到了 target 值\n",
    "        if l_idx <= r_idx and r_idx < len(nums) and nums[l_idx] == target and nums[r_idx] == target:\n",
    "            return [l_idx, r_idx]\n",
    "        return [-1, -1]\n",
    "        \n",
    "    def bi_search(self, nums, target, low):\n",
    "        left, right = 0, len(nums) - 1\n",
    "        ans = len(nums)\n",
    "        while left <= right:\n",
    "            mid = (left + right) // 2\n",
    "            # low 为 True 时，nums[mid] >= target 起作用（找第一个 >= target的值）\n",
    "            # low 为 False 时，nums[mid] > target 起作用（找第一个 > target的值）\n",
    "            if nums[mid] > target or (low and nums[mid] >= target):\n",
    "                right = mid - 1\n",
    "                ans = mid\n",
    "            else:\n",
    "                left = mid + 1\n",
    "                \n",
    "        return ans"
   ]
  },
  {
   "cell_type": "code",
   "execution_count": 6,
   "metadata": {},
   "outputs": [
    {
     "name": "stdout",
     "output_type": "stream",
     "text": [
      "3\n",
      "[3, 8]\n"
     ]
    }
   ],
   "source": [
    "nums = nums = [5,7,7,8,8,8,8,8,8,10]\n",
    "target = 8\n",
    "print(Solution().bi_search(nums, target, True))\n",
    "# nums = [2,2]\n",
    "# target = 3\n",
    "print(Solution().searchRange(nums, target))"
   ]
  },
  {
   "cell_type": "code",
   "execution_count": null,
   "metadata": {},
   "outputs": [],
   "source": []
  },
  {
   "cell_type": "code",
   "execution_count": null,
   "metadata": {},
   "outputs": [],
   "source": []
  }
 ],
 "metadata": {
  "kernelspec": {
   "display_name": "Python 3 (ipykernel)",
   "language": "python",
   "name": "python3"
  },
  "language_info": {
   "codemirror_mode": {
    "name": "ipython",
    "version": 3
   },
   "file_extension": ".py",
   "mimetype": "text/x-python",
   "name": "python",
   "nbconvert_exporter": "python",
   "pygments_lexer": "ipython3",
   "version": "3.8.3"
  }
 },
 "nbformat": 4,
 "nbformat_minor": 4
}
