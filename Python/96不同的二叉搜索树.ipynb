{
 "cells": [
  {
   "cell_type": "code",
   "execution_count": 2,
   "metadata": {},
   "outputs": [],
   "source": [
    "import typing\n",
    "from typing import List"
   ]
  },
  {
   "cell_type": "code",
   "execution_count": 3,
   "metadata": {},
   "outputs": [],
   "source": [
    "class Solution:\n",
    "    def numTrees(self, n: int) -> int:\n",
    "        _dict = {}\n",
    "        def _numTrees(n):\n",
    "            if n <= 1:\n",
    "                return 1\n",
    "            left, right = 0, n-1\n",
    "            ans = 0\n",
    "            for i in range(n):\n",
    "                l_num = self.numTrees(left) if left not in _dict else _dict[left]\n",
    "                r_num = self.numTrees(right) if right not in _dict else _dict[right]\n",
    "                _dict[left] = l_num\n",
    "                _dict[right] = r_num\n",
    "                left += 1\n",
    "                right -= 1\n",
    "                ans += l_num * r_num\n",
    "            return ans\n",
    "        return _numTrees(n)\n",
    "    \n",
    "class Solution:\n",
    "    def numTrees(self, n: int) -> int:\n",
    "        _dict = {}\n",
    "        def _numTrees(n):\n",
    "            if n <= 1:\n",
    "                return 1\n",
    "            \n",
    "            left, right = 0, n-1\n",
    "            ans = 0\n",
    "            for i in range(n // 2):\n",
    "                l_num = self.numTrees(left) if left not in _dict else _dict[left]\n",
    "                r_num = self.numTrees(right) if right not in _dict else _dict[right]\n",
    "                _dict[left] = l_num\n",
    "                _dict[right] = r_num\n",
    "                left += 1\n",
    "                right -= 1\n",
    "                ans += (l_num * r_num)*2\n",
    "                \n",
    "            if n // 2 * 2 != n:\n",
    "                l_num = self.numTrees(left) if left not in _dict else _dict[left]\n",
    "                r_num = self.numTrees(right) if right not in _dict else _dict[right]\n",
    "                ans += (l_num * r_num)\n",
    "            return ans\n",
    "        return _numTrees(n)\n",
    "    \n",
    "# 动态规划\n",
    "class Solution:\n",
    "    def numTrees(self, n: int) -> int:\n",
    "        DP = [0] * (n + 1)\n",
    "        DP[0] = DP[1] = 1\n",
    "        for _n in range(2, n+1):\n",
    "            for i in range(1, _n+1):\n",
    "                DP[_n] += DP[i-1] * DP[_n-i]\n",
    "            \n",
    "        return DP[-1]"
   ]
  },
  {
   "cell_type": "code",
   "execution_count": 4,
   "metadata": {},
   "outputs": [
    {
     "name": "stdout",
     "output_type": "stream",
     "text": [
      "1767263190\n"
     ]
    }
   ],
   "source": [
    "n = 19\n",
    "print(Solution().numTrees(n))"
   ]
  },
  {
   "cell_type": "code",
   "execution_count": null,
   "metadata": {},
   "outputs": [],
   "source": []
  }
 ],
 "metadata": {
  "kernelspec": {
   "display_name": "Python 3 (ipykernel)",
   "language": "python",
   "name": "python3"
  },
  "language_info": {
   "codemirror_mode": {
    "name": "ipython",
    "version": 3
   },
   "file_extension": ".py",
   "mimetype": "text/x-python",
   "name": "python",
   "nbconvert_exporter": "python",
   "pygments_lexer": "ipython3",
   "version": "3.8.3"
  }
 },
 "nbformat": 4,
 "nbformat_minor": 4
}
