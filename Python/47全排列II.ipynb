{
 "cells": [
  {
   "cell_type": "code",
   "execution_count": 1,
   "metadata": {},
   "outputs": [],
   "source": [
    "import typing\n",
    "from typing import List"
   ]
  },
  {
   "cell_type": "code",
   "execution_count": 5,
   "metadata": {},
   "outputs": [],
   "source": [
    "# 直接在append结果时，判断结果是否重复\n",
    "# （但这样做是最原始的做法）\n",
    "class Solution:\n",
    "    def permuteUnique(self, nums: List[int]) -> List[List[int]]:\n",
    "        n = len(nums)\n",
    "        results = []\n",
    "        def backtrack(idx):\n",
    "            if idx == n:\n",
    "                if nums[:] not in results:\n",
    "                    results.append(nums[:])\n",
    "            else:\n",
    "                for i in range(idx, n):\n",
    "                    nums[idx], nums[i] = nums[i], nums[idx]\n",
    "                    backtrack(idx + 1)\n",
    "                    nums[i], nums[idx] = nums[idx], nums[i]\n",
    "        backtrack(0)\n",
    "        return results\n",
    "    \n",
    "# 回溯 + 剪枝\n",
    "# combine 和 _leaf: 用 dict 速度比用 list 快\n",
    "# 但是如果combine直接用dict，应该保证combine是有序的，才能确保生成结果时的正确性\n",
    "# 但是Python不用OrderedDict，也能AC\n",
    "class Solution:\n",
    "    def permuteUnique(self, nums: List[int]) -> List[List[int]]:\n",
    "        n = len(nums)\n",
    "        results = []\n",
    "        combine = {}\n",
    "        \n",
    "        def backtrack(combine={}):\n",
    "            if len(combine) == n:\n",
    "                # 得保证combine使用dict时，存储是有序的\n",
    "                results.append([v for k, v in combine.items()])\n",
    "                combine = {}\n",
    "            else:\n",
    "                _leaf = {}\n",
    "                for i in range(n):\n",
    "                    if i not in combine:\n",
    "                        # 剪枝\n",
    "                        if nums[i] in _leaf:\n",
    "                            continue\n",
    "                        _leaf[nums[i]] = i\n",
    "                        combine[i] = nums[i]\n",
    "                        backtrack(combine)\n",
    "                        del combine[i]\n",
    "                        \n",
    "        backtrack(combine)\n",
    "        return results\n",
    "    \n",
    "class Solution:\n",
    "    def permuteUnique(self, nums: List[int]) -> List[List[int]]:\n",
    "        n = len(nums)\n",
    "        results = []\n",
    "        combine = []\n",
    "        \n",
    "        def backtrack(combine, map_data={}):\n",
    "            if len(combine) == n:\n",
    "                results.append(combine[:])\n",
    "                combine = []\n",
    "                map_data = {}\n",
    "            else:\n",
    "                _leaf = {}\n",
    "                for i in range(n):\n",
    "                    if i not in map_data:\n",
    "                        # 剪枝\n",
    "                        if nums[i] in _leaf:\n",
    "                            continue\n",
    "                        _leaf[nums[i]] = i\n",
    "                        combine.append(nums[i])\n",
    "                        map_data[i] = nums[i]\n",
    "                        backtrack(combine, map_data)\n",
    "                        combine.pop()\n",
    "                        del map_data[i]\n",
    "                        \n",
    "        backtrack(combine, {})\n",
    "        return results"
   ]
  },
  {
   "cell_type": "code",
   "execution_count": 6,
   "metadata": {},
   "outputs": [
    {
     "name": "stdout",
     "output_type": "stream",
     "text": [
      "[[1, 2, 3, 4], [1, 2, 4, 3], [1, 3, 2, 4], [1, 3, 4, 2], [1, 4, 2, 3], [1, 4, 3, 2], [2, 1, 3, 4], [2, 1, 4, 3], [2, 3, 1, 4], [2, 3, 4, 1], [2, 4, 1, 3], [2, 4, 3, 1], [3, 1, 2, 4], [3, 1, 4, 2], [3, 2, 1, 4], [3, 2, 4, 1], [3, 4, 1, 2], [3, 4, 2, 1], [4, 1, 2, 3], [4, 1, 3, 2], [4, 2, 1, 3], [4, 2, 3, 1], [4, 3, 1, 2], [4, 3, 2, 1]]\n"
     ]
    }
   ],
   "source": [
    "nums = [1, 1, 3]\n",
    "nums = [1, 2, 3, 4]\n",
    "print(Solution().permuteUnique(nums))"
   ]
  },
  {
   "cell_type": "code",
   "execution_count": null,
   "metadata": {},
   "outputs": [],
   "source": []
  },
  {
   "cell_type": "code",
   "execution_count": null,
   "metadata": {},
   "outputs": [],
   "source": []
  }
 ],
 "metadata": {
  "kernelspec": {
   "display_name": "Python 3 (ipykernel)",
   "language": "python",
   "name": "python3"
  },
  "language_info": {
   "codemirror_mode": {
    "name": "ipython",
    "version": 3
   },
   "file_extension": ".py",
   "mimetype": "text/x-python",
   "name": "python",
   "nbconvert_exporter": "python",
   "pygments_lexer": "ipython3",
   "version": "3.8.3"
  }
 },
 "nbformat": 4,
 "nbformat_minor": 4
}
