{
 "cells": [
  {
   "cell_type": "code",
   "execution_count": 1,
   "metadata": {},
   "outputs": [],
   "source": [
    "import typing\n",
    "from typing import List"
   ]
  },
  {
   "cell_type": "code",
   "execution_count": 124,
   "metadata": {},
   "outputs": [],
   "source": [
    "# 暴力求解，计算每个子数组的和，输出其最大值（时间超限）\n",
    "class Solution:\n",
    "    def maxSubArray(self, nums: List[int]) -> int:\n",
    "        n = len(nums)\n",
    "        DP = [[min(nums)] * n for _ in range(n)]\n",
    "        for _len in range(1, n+1):\n",
    "            for i in range(n):\n",
    "                j = i + _len\n",
    "                if j - 1 >= n:\n",
    "                    break\n",
    "                DP[i][j-1] = sum(nums[i:j])\n",
    "        print(DP)\n",
    "        return max([max(_) for _ in DP])\n",
    "    \n",
    "# 动态规划\n",
    "class Solution:\n",
    "    def maxSubArray(self, nums: List[int]) -> int:\n",
    "        n = len(nums)\n",
    "        # DP[i] 存储以nums[i]结尾的最大子数组和\n",
    "        # DP[i] = max(DP[i-1] + nums[i], nums[i])\n",
    "        DP = nums.copy()\n",
    "        for i in range(1, n):\n",
    "            DP[i] = max(DP[i-1]+nums[i], nums[i])\n",
    "        return max(DP)\n",
    "    \n",
    "class Solution:\n",
    "    def maxSubArray(self, nums: List[int]) -> int:\n",
    "        DP_i = 0\n",
    "        result = nums[0]\n",
    "        for _ in nums:\n",
    "            DP_i = max(DP_i + _, _)\n",
    "            result = max(result, DP_i)\n",
    "        return result\n",
    "    \n",
    "# 分治\n",
    "class Solution:\n",
    "    def maxSubArray(self, nums: List[int]) -> int:\n",
    "        _ = self.get(nums, 0, len(nums) - 1)\n",
    "        return _[-1]\n",
    "    \n",
    "    def get(self, nums, l_idx, r_idx):\n",
    "        if l_idx == r_idx:\n",
    "            return [nums[l_idx], nums[l_idx], nums[l_idx], nums[l_idx]]\n",
    "        # 二分\n",
    "        m_idx = (l_idx + r_idx) >> 1\n",
    "        l_state = self.get(nums, l_idx, m_idx)\n",
    "        r_state = self.get(nums, m_idx+1, r_idx)\n",
    "        # 状态更新\n",
    "        return self.updateState(l_state, r_state)\n",
    "    \n",
    "    def updateState(self, l_state, r_state):\n",
    "        iSum = l_state[0] + r_state[0]   # 区间和\n",
    "        lSum = max(l_state[1], l_state[0] + r_state[1]) # 左区间\n",
    "        rSum = max(r_state[2], l_state[2] + r_state[0]) # 右区间\n",
    "        mSum = max(l_state[3], r_state[3], l_state[2] + r_state[1])  # 最大子数组和\n",
    "        return [iSum, lSum, rSum, mSum]\n",
    "    \n",
    "class Solution:\n",
    "    def maxSubArray(self, nums: List[int]) -> int:    \n",
    "        def get(l_idx, r_idx):\n",
    "            if l_idx == r_idx:\n",
    "                return [nums[l_idx], nums[l_idx], nums[l_idx], nums[l_idx]]\n",
    "            # 二分\n",
    "            m_idx = (l_idx + r_idx) >> 1\n",
    "            l_state = get(l_idx, m_idx)\n",
    "            r_state = get(m_idx+1, r_idx)\n",
    "            # 状态更新\n",
    "            return updateState(l_state, r_state)\n",
    "\n",
    "        def updateState(l_state, r_state):\n",
    "            iSum = l_state[0] + r_state[0]   # 区间和\n",
    "            lSum = max(l_state[1], l_state[0] + r_state[1]) # 左区间\n",
    "            rSum = max(r_state[2], l_state[2] + r_state[0]) # 右区间\n",
    "            mSum = max(l_state[3], r_state[3], l_state[2] + r_state[1])  # 最大子数组和\n",
    "            return [iSum, lSum, rSum, mSum]\n",
    "        \n",
    "        _ = get(0, len(nums) - 1)\n",
    "        return _[-1]"
   ]
  },
  {
   "cell_type": "code",
   "execution_count": 128,
   "metadata": {},
   "outputs": [
    {
     "name": "stdout",
     "output_type": "stream",
     "text": [
      "1\n"
     ]
    }
   ],
   "source": [
    "nums = [-2,1,-3,4,-1,2,1,-5,4]\n",
    "nums = [1]\n",
    "# nums = [5,4,-1,7,8]\n",
    "# nums = [-1,-2]\n",
    "print(Solution().maxSubArray(nums))"
   ]
  },
  {
   "cell_type": "code",
   "execution_count": null,
   "metadata": {},
   "outputs": [],
   "source": []
  },
  {
   "cell_type": "code",
   "execution_count": null,
   "metadata": {},
   "outputs": [],
   "source": []
  }
 ],
 "metadata": {
  "kernelspec": {
   "display_name": "Python 3 (ipykernel)",
   "language": "python",
   "name": "python3"
  },
  "language_info": {
   "codemirror_mode": {
    "name": "ipython",
    "version": 3
   },
   "file_extension": ".py",
   "mimetype": "text/x-python",
   "name": "python",
   "nbconvert_exporter": "python",
   "pygments_lexer": "ipython3",
   "version": "3.8.3"
  }
 },
 "nbformat": 4,
 "nbformat_minor": 4
}
