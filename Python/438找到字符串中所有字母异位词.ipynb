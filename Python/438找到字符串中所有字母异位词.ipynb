{
 "cells": [
  {
   "cell_type": "code",
   "execution_count": 1,
   "metadata": {},
   "outputs": [],
   "source": [
    "import typing\n",
    "from typing import List"
   ]
  },
  {
   "cell_type": "code",
   "execution_count": 2,
   "metadata": {},
   "outputs": [],
   "source": [
    "class Solution:\n",
    "    def findAnagrams(self, s: str, p: str) -> List[int]:\n",
    "        ns, np = len(s), len(p)\n",
    "\n",
    "        if ns < np:\n",
    "            return []\n",
    "\n",
    "        ans = []\n",
    "        hash_infos = [0] * 26\n",
    "        for i in range(np):\n",
    "            hash_infos[ord(p[i]) - ord('a')] += 1\n",
    "            hash_infos[ord(s[i]) - ord('a')] -= 1\n",
    "        \n",
    "        if self.check(hash_infos):\n",
    "            ans.append(0)\n",
    "\n",
    "        for i in range(np, ns):\n",
    "            hash_infos[ord(s[i - np]) - ord('a')] += 1\n",
    "            hash_infos[ord(s[i]) - ord('a')] -= 1\n",
    "            if self.check(hash_infos):\n",
    "                ans.append(i - np + 1)\n",
    "\n",
    "        return ans\n",
    "    \n",
    "    def check(self, hash_infos):\n",
    "        for _ in hash_infos:\n",
    "            if _ != 0:\n",
    "                return False\n",
    "        return True"
   ]
  },
  {
   "cell_type": "code",
   "execution_count": 3,
   "metadata": {},
   "outputs": [
    {
     "name": "stdout",
     "output_type": "stream",
     "text": [
      "[0, 6]\n"
     ]
    }
   ],
   "source": [
    "s = \"cbaebabacd\"\n",
    "p = \"abc\"\n",
    "print(Solution().findAnagrams(s, p))"
   ]
  },
  {
   "cell_type": "code",
   "execution_count": null,
   "metadata": {},
   "outputs": [],
   "source": []
  }
 ],
 "metadata": {
  "kernelspec": {
   "display_name": "Python 3 (ipykernel)",
   "language": "python",
   "name": "python3"
  },
  "language_info": {
   "codemirror_mode": {
    "name": "ipython",
    "version": 3
   },
   "file_extension": ".py",
   "mimetype": "text/x-python",
   "name": "python",
   "nbconvert_exporter": "python",
   "pygments_lexer": "ipython3",
   "version": "3.8.3"
  }
 },
 "nbformat": 4,
 "nbformat_minor": 4
}
