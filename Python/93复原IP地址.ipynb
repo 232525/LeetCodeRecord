{
 "cells": [
  {
   "cell_type": "code",
   "execution_count": 1,
   "metadata": {},
   "outputs": [],
   "source": [
    "import typing\n",
    "from typing import List"
   ]
  },
  {
   "cell_type": "code",
   "execution_count": 4,
   "metadata": {},
   "outputs": [],
   "source": [
    "class Solution:\n",
    "    def restoreIpAddresses(self, s: str) -> List[str]:\n",
    "        n = len(s)\n",
    "        results = []\n",
    "        combine = []\n",
    "        def backtrack(combine, begin):\n",
    "            # 边界条件，s中数值用完，但未凑齐4个数值，直接返回\n",
    "            if len(combine) < 4 and begin >= n:\n",
    "                return\n",
    "            # 添加结果\n",
    "            if len(combine) == 4:\n",
    "                results.append(\".\".join(combine))\n",
    "                combine = []\n",
    "            else:\n",
    "                # 如果combine中已经有了三个数，则需要判断剩余的所有数字组合\n",
    "                end_start = begin + 1 if len(combine) < 3 else n\n",
    "                end_end = min(begin + 3 + 1, n + 1) if len(combine) < 3 else n + 1\n",
    "                for end in range(end_start, end_end):\n",
    "                    _num = s[begin:end]\n",
    "                    # 处理前导0，直接退出循环\n",
    "                    if len(_num) > 1 and _num[0] == \"0\":\n",
    "                        break\n",
    "                    # 无前导0\n",
    "                    if int(_num) <= 255:\n",
    "                        combine.append(_num)\n",
    "                        backtrack(combine, begin=end)\n",
    "                        combine.pop()\n",
    "                    else:\n",
    "                        break\n",
    "        backtrack(combine, 0)\n",
    "        return results"
   ]
  },
  {
   "cell_type": "code",
   "execution_count": 5,
   "metadata": {},
   "outputs": [
    {
     "name": "stdout",
     "output_type": "stream",
     "text": [
      "['1.0.10.23', '1.0.102.3', '10.1.0.23', '10.10.2.3', '101.0.2.3']\n"
     ]
    }
   ],
   "source": [
    "s = \"25525511135\"\n",
    "s = \"0000\"\n",
    "s = \"101023\"\n",
    "print(Solution().restoreIpAddresses(s))"
   ]
  },
  {
   "cell_type": "code",
   "execution_count": null,
   "metadata": {},
   "outputs": [],
   "source": []
  },
  {
   "cell_type": "code",
   "execution_count": null,
   "metadata": {},
   "outputs": [],
   "source": []
  }
 ],
 "metadata": {
  "kernelspec": {
   "display_name": "Python 3 (ipykernel)",
   "language": "python",
   "name": "python3"
  },
  "language_info": {
   "codemirror_mode": {
    "name": "ipython",
    "version": 3
   },
   "file_extension": ".py",
   "mimetype": "text/x-python",
   "name": "python",
   "nbconvert_exporter": "python",
   "pygments_lexer": "ipython3",
   "version": "3.8.3"
  }
 },
 "nbformat": 4,
 "nbformat_minor": 4
}
