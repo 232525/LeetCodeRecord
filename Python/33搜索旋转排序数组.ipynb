{
 "cells": [
  {
   "cell_type": "code",
   "execution_count": 1,
   "metadata": {},
   "outputs": [],
   "source": [
    "import typing\n",
    "from typing import List"
   ]
  },
  {
   "cell_type": "code",
   "execution_count": 2,
   "metadata": {},
   "outputs": [],
   "source": [
    "# 写的太复杂了，但可以AC\n",
    "class Solution:\n",
    "    def search(self, nums: List[int], target: int) -> int:\n",
    "        result = -1\n",
    "        rotated = 0\n",
    "        # 锚点\n",
    "        left = nums[0]\n",
    "        right = nums[-1]\n",
    "        if left > right:\n",
    "            # 1- target 在左边；2- target 在右边\n",
    "            rotated = 1 if target > right else 2\n",
    "            \n",
    "        # 二分查找\n",
    "        len_nums = len(nums)\n",
    "        return self.bin_search(nums, target, 0, len_nums - 1, rotated)\n",
    "        \n",
    "    def bin_search(self, nums: List[int], target: int, l_idx: int, r_idx: int, rotated: bool) -> int:\n",
    "        if l_idx == r_idx:\n",
    "            if nums[l_idx] == target: return l_idx\n",
    "            else: return -1\n",
    "        elif l_idx + 1 == r_idx:\n",
    "            if nums[l_idx] == target: return l_idx\n",
    "            elif nums[r_idx] == target: return r_idx\n",
    "            else: return -1\n",
    "        else:\n",
    "            m_idx = (l_idx + r_idx) // 2\n",
    "            if nums[m_idx] == target:\n",
    "                return m_idx\n",
    "            \n",
    "            if not rotated:\n",
    "                # 一般情况下的二分，即无rotated\n",
    "                if nums[m_idx] > target:\n",
    "                    return self.bin_search(nums, target, l_idx, m_idx, rotated)\n",
    "                else:\n",
    "                    return self.bin_search(nums, target, m_idx, r_idx, rotated)\n",
    "            else:\n",
    "                # rotated情况下，二分判断策略存在不同\n",
    "                if rotated == 1:\n",
    "                    # target 在左边\n",
    "                    if nums[m_idx] > target:\n",
    "                        r_idx = m_idx\n",
    "                    elif nums[m_idx] < nums[-1]:\n",
    "                        r_idx = m_idx\n",
    "                    else:\n",
    "                         l_idx = m_idx   \n",
    "                else:\n",
    "                    # target 在右边\n",
    "                    if nums[m_idx] < target:\n",
    "                        l_idx = m_idx\n",
    "                    elif nums[m_idx] > nums[0]:\n",
    "                        l_idx = m_idx\n",
    "                    else:\n",
    "                        r_idx = m_idx\n",
    "                    \n",
    "                return self.bin_search(nums, target, l_idx, r_idx, rotated)"
   ]
  },
  {
   "cell_type": "code",
   "execution_count": 3,
   "metadata": {},
   "outputs": [
    {
     "name": "stdout",
     "output_type": "stream",
     "text": [
      "-1\n"
     ]
    }
   ],
   "source": [
    "nums = [0,1,2,4,5,6,7]\n",
    "target = 4\n",
    "\n",
    "nums = [4,5,6,7,8,9,0,1,2]\n",
    "target = 3\n",
    "\n",
    "# nums = [1,2]\n",
    "# target = -1\n",
    "print(Solution().search(nums, target))"
   ]
  },
  {
   "cell_type": "code",
   "execution_count": null,
   "metadata": {},
   "outputs": [],
   "source": []
  }
 ],
 "metadata": {
  "kernelspec": {
   "display_name": "Python 3 (ipykernel)",
   "language": "python",
   "name": "python3"
  },
  "language_info": {
   "codemirror_mode": {
    "name": "ipython",
    "version": 3
   },
   "file_extension": ".py",
   "mimetype": "text/x-python",
   "name": "python",
   "nbconvert_exporter": "python",
   "pygments_lexer": "ipython3",
   "version": "3.8.3"
  }
 },
 "nbformat": 4,
 "nbformat_minor": 4
}
