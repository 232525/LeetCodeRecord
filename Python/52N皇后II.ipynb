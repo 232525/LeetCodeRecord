{
 "cells": [
  {
   "cell_type": "code",
   "execution_count": 1,
   "metadata": {},
   "outputs": [],
   "source": [
    "import typing\n",
    "from typing import List"
   ]
  },
  {
   "cell_type": "code",
   "execution_count": null,
   "metadata": {},
   "outputs": [],
   "source": [
    "class Solution:\n",
    "    def totalNQueens(self, n: int) -> List[List[str]]:\n",
    "        base_res = [\".\"*n for i in range(n)]\n",
    "        \n",
    "        results = []\n",
    "        combine = []\n",
    "        def backtrack(idx):\n",
    "            if idx >= n:\n",
    "                results.append(combine[:])\n",
    "            else:\n",
    "                _line = [\".\" for _ in range(n)]\n",
    "                for i in range(n):\n",
    "                    # 判断该位置是否可以放置\n",
    "                    valid = True\n",
    "                    for j in range(1, idx+1):\n",
    "                        if combine[idx-j][i] == \"Q\" or (i-j >= 0 and combine[idx-j][i-j] == \"Q\") or (i+j < n and combine[idx-j][i+j] == \"Q\"):\n",
    "                            valid = False\n",
    "                            break\n",
    "                    # 不可以放置，直接进入下一层循环\n",
    "                    if not valid:\n",
    "                        continue\n",
    "                    \n",
    "                    # 可以放置，则进行回溯\n",
    "                    _line[i] = \"Q\"\n",
    "                    combine.append(\"\".join(_line))\n",
    "                    backtrack(idx + 1)\n",
    "                    combine.pop()\n",
    "                    _line[i] = \".\"\n",
    "                    \n",
    "        backtrack(0)\n",
    "        return len(results)"
   ]
  }
 ],
 "metadata": {
  "kernelspec": {
   "display_name": "Python 3 (ipykernel)",
   "language": "python",
   "name": "python3"
  },
  "language_info": {
   "codemirror_mode": {
    "name": "ipython",
    "version": 3
   },
   "file_extension": ".py",
   "mimetype": "text/x-python",
   "name": "python",
   "nbconvert_exporter": "python",
   "pygments_lexer": "ipython3",
   "version": "3.8.3"
  }
 },
 "nbformat": 4,
 "nbformat_minor": 4
}
