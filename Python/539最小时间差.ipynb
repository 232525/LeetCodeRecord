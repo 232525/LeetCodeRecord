{
 "cells": [
  {
   "cell_type": "code",
   "execution_count": 1,
   "metadata": {},
   "outputs": [],
   "source": [
    "import typing\n",
    "from typing import List"
   ]
  },
  {
   "cell_type": "code",
   "execution_count": 2,
   "metadata": {},
   "outputs": [],
   "source": [
    "class Solution:\n",
    "    def findMinDifference(self, timePoints: List[str]) -> int:\n",
    "        # 先对时间 list 进行排序\n",
    "        timePoints = sorted(timePoints)\n",
    "\n",
    "        # 首尾时间差\n",
    "        b_HH, b_MM = timePoints[0].split(\":\")\n",
    "        e_HH, e_MM = timePoints[-1].split(\":\")\n",
    "        prev = int(b_HH) * 60 + int(b_MM)\n",
    "        mindif = prev + 24*60 - (int(e_HH) * 60 + int(e_MM))\n",
    "        # 相邻时间差\n",
    "        for point in timePoints[1:]:\n",
    "            HH, MM = point.split(\":\")\n",
    "            cur = int(HH) * 60 + int(MM) \n",
    "            curdif = cur - prev\n",
    "            prev = cur\n",
    "            mindif = min(mindif, curdif)\n",
    "        \n",
    "        return mindif\n",
    "    \n",
    "# 空间换时间\n",
    "# 创建一个大小为 1440 的数组，表征该时间点是否出现在 timePoints 中，\n",
    "# 避免对 timePoints 进行排序，整体时间复杂度 O(n)，空间复杂度 O(1)\n",
    "class Solution:\n",
    "    def findMinDifference(self, timePoints: List[str]) -> int:\n",
    "        minutes_cnt = 24 * 60\n",
    "        # 鸽巢原理，存在相同时间点，直接返回 0\n",
    "        if len(timePoints) > 1440:\n",
    "            return 0\n",
    "        \n",
    "        # 创建一个大小为 1440 的数组，表征该时间点是否存在与 timePoints 中\n",
    "        # O(n)\n",
    "        minutes_map = [False] * minutes_cnt\n",
    "        for pnt in timePoints:\n",
    "            # 将字符串时间点转化为在一天中的分钟整数\n",
    "            HH, MM = pnt.split(\":\")\n",
    "            minutes = int(HH) * 60 + int(MM)\n",
    "            if minutes_map[minutes] == True:\n",
    "                return 0\n",
    "            else:\n",
    "                minutes_map[minutes] = True\n",
    "\n",
    "        # 然后遍历 minutes_map，计算最小时间差\n",
    "        # O(1440) --> O(1)\n",
    "        min_dif = minutes_cnt\n",
    "        prev = -1\n",
    "        # 首尾时间点\n",
    "        first, last = minutes_cnt, -1\n",
    "        for i, tag in enumerate(minutes_map):\n",
    "            if tag:\n",
    "                if prev >= 0:\n",
    "                    min_dif = min(min_dif, i - prev)\n",
    "                prev = i\n",
    "                first = min(first, i)\n",
    "                last = max(last, i)\n",
    "        # 计算首位时间点之间的时间差\n",
    "        min_dif = min(min_dif, first + minutes_cnt - last)\n",
    "        return min_dif"
   ]
  },
  {
   "cell_type": "code",
   "execution_count": null,
   "metadata": {},
   "outputs": [],
   "source": []
  }
 ],
 "metadata": {
  "kernelspec": {
   "display_name": "Python 3 (ipykernel)",
   "language": "python",
   "name": "python3"
  },
  "language_info": {
   "codemirror_mode": {
    "name": "ipython",
    "version": 3
   },
   "file_extension": ".py",
   "mimetype": "text/x-python",
   "name": "python",
   "nbconvert_exporter": "python",
   "pygments_lexer": "ipython3",
   "version": "3.8.3"
  }
 },
 "nbformat": 4,
 "nbformat_minor": 4
}
