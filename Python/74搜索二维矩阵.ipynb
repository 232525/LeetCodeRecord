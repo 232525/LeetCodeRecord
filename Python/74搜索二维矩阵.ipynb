{
 "cells": [
  {
   "cell_type": "code",
   "execution_count": null,
   "metadata": {},
   "outputs": [],
   "source": [
    "import typing\n",
    "from typing import List"
   ]
  },
  {
   "cell_type": "code",
   "execution_count": 2,
   "metadata": {},
   "outputs": [],
   "source": [
    "# 两次二分：\n",
    "# 1、在matrix[:, 0]上二分查找第一个小于target的值的下标（即数值可能存在的行）\n",
    "# 2、然后在该行上进行二分查找该值\n",
    "class Solution:\n",
    "    def searchMatrix(self, matrix: List[List[int]], target: int) -> bool:\n",
    "        m, n = len(matrix), len(matrix[0])\n",
    "        def binarySearch(row=-1, length=m):\n",
    "            left, right = 0, length - 1\n",
    "            while left <= right:\n",
    "                mid = (left + right) >> 1\n",
    "                num = matrix[mid][0] if row == -1 else matrix[row][mid]\n",
    "                if num < target:\n",
    "                    left = mid + 1\n",
    "                elif num > target:\n",
    "                    right = mid - 1\n",
    "                else:\n",
    "                    return mid\n",
    "            # 返回值不能小于0\n",
    "            return max(mid, 0) if num <= target else max(mid - 1, 0)\n",
    "        # 在matrix[:, 0]上二分查找\n",
    "        x = binarySearch()\n",
    "        if matrix[x][0] > target:\n",
    "            return False\n",
    "        # 在matrix[x, :]上二分查找\n",
    "        y = binarySearch(x, length=n)\n",
    "        return matrix[x][y] == target\n",
    "    \n",
    "class Solution:\n",
    "    def searchMatrix(self, matrix: List[List[int]], target: int) -> bool:\n",
    "        m, n = len(matrix), len(matrix[0])\n",
    "        # 二分 mid 值计算方式不同\n",
    "        def binarySearch(row=-1, length=m):\n",
    "            left, right = 0, length - 1\n",
    "            while left < right:\n",
    "                mid = (left + right + 1) >> 1\n",
    "                num = matrix[mid][0] if row == -1 else matrix[row][mid]\n",
    "                # 返回最后一个 < target 的下标\n",
    "                if num < target:\n",
    "                    left = mid\n",
    "                elif num > target:\n",
    "                    right = mid - 1\n",
    "                else:\n",
    "                    return mid\n",
    "            return left\n",
    "        \n",
    "        # 在matrix[:, 0]上二分查找\n",
    "        x = binarySearch()\n",
    "        if matrix[x][0] > target:\n",
    "            return False\n",
    "        # 在matrix[x, :]上二分查找\n",
    "        y = binarySearch(x, length=n)\n",
    "        return matrix[x][y] == target"
   ]
  },
  {
   "cell_type": "code",
   "execution_count": 3,
   "metadata": {},
   "outputs": [
    {
     "name": "stdout",
     "output_type": "stream",
     "text": [
      "False\n"
     ]
    }
   ],
   "source": [
    "matrix = [[1,3,5,7],[10,11,16,20],[23,30,34,60]]\n",
    "matrix = [[1, 2]]\n",
    "target = 11\n",
    "matrix = [[1,3,5]]\n",
    "target = 6\n",
    "print(Solution().searchMatrix(matrix, target))"
   ]
  },
  {
   "cell_type": "code",
   "execution_count": null,
   "metadata": {},
   "outputs": [],
   "source": []
  }
 ],
 "metadata": {
  "kernelspec": {
   "display_name": "Python 3 (ipykernel)",
   "language": "python",
   "name": "python3"
  },
  "language_info": {
   "codemirror_mode": {
    "name": "ipython",
    "version": 3
   },
   "file_extension": ".py",
   "mimetype": "text/x-python",
   "name": "python",
   "nbconvert_exporter": "python",
   "pygments_lexer": "ipython3",
   "version": "3.8.3"
  }
 },
 "nbformat": 4,
 "nbformat_minor": 4
}
