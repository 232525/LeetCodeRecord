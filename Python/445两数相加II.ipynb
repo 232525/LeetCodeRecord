{
 "cells": [
  {
   "cell_type": "code",
   "execution_count": null,
   "metadata": {},
   "outputs": [],
   "source": [
    "import typing\n",
    "from typing import List"
   ]
  },
  {
   "cell_type": "code",
   "execution_count": null,
   "metadata": {},
   "outputs": [],
   "source": [
    "# Definition for singly-linked list.\n",
    "class ListNode:\n",
    "    def __init__(self, val=0, next=None):\n",
    "        self.val = val\n",
    "        self.next = next\n",
    "\n",
    "class Solution:\n",
    "    def addTwoNumbers(self, l1: ListNode, l2: ListNode) -> ListNode:\n",
    "        reverse_l1 = self.reverseListNode(l1)\n",
    "        reverse_l2 = self.reverseListNode(l2)\n",
    "\n",
    "        ptr1 = reverse_l1\n",
    "        ptr2 = reverse_l2\n",
    "        res = None\n",
    "\n",
    "        carry = 0\n",
    "        while ptr1 is not None or ptr2 is not None:\n",
    "            v1 = ptr1.val if ptr1 else 0\n",
    "            v2 = ptr2.val if ptr2 else 0\n",
    "            sum_v = v1 + v2 + carry\n",
    "            carry = sum_v // 10 # 进位信息\n",
    "            node_v = sum_v % 10 # 结果节点信息\n",
    "            node = ListNode(node_v, res) # 直接构造满足条件的结果链表，无需在结尾再次反向\n",
    "            res = node\n",
    "            ptr1 = ptr1.next if ptr1 else ptr1\n",
    "            ptr2 = ptr2.next if ptr2 else ptr2\n",
    "\n",
    "        if carry > 0:\n",
    "            node = ListNode(carry, res)\n",
    "            res = node\n",
    "        return node\n",
    "\n",
    "    def reverseListNode(self, head):\n",
    "        past = None\n",
    "        cur = head\n",
    "        while cur is not None:\n",
    "            next_ = cur.next\n",
    "            cur.next = past\n",
    "            past = cur\n",
    "            cur = next_\n",
    "        return past"
   ]
  }
 ],
 "metadata": {
  "kernelspec": {
   "display_name": "Python 3 (ipykernel)",
   "language": "python",
   "name": "python3"
  },
  "language_info": {
   "codemirror_mode": {
    "name": "ipython",
    "version": 3
   },
   "file_extension": ".py",
   "mimetype": "text/x-python",
   "name": "python",
   "nbconvert_exporter": "python",
   "pygments_lexer": "ipython3",
   "version": "3.8.3"
  }
 },
 "nbformat": 4,
 "nbformat_minor": 4
}
