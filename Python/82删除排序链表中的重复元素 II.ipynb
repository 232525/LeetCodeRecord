{
 "cells": [
  {
   "cell_type": "code",
   "execution_count": 1,
   "metadata": {},
   "outputs": [],
   "source": [
    "import typing\n",
    "from typing import List"
   ]
  },
  {
   "cell_type": "code",
   "execution_count": 2,
   "metadata": {},
   "outputs": [],
   "source": [
    "# Definition for singly-linked list.\n",
    "class ListNode:\n",
    "    def __init__(self, val=0, next=None):\n",
    "        self.val = val\n",
    "        self.next = next\n",
    "        \n",
    "# 快慢指针\n",
    "class Solution:\n",
    "    def deleteDuplicates(self, head: ListNode) -> ListNode:\n",
    "        if not head:\n",
    "            return head\n",
    "        \n",
    "        # 构造一个新的头节点\n",
    "        new_head = ListNode(0, head)\n",
    "        \n",
    "        ptr = new_head\n",
    "        slow = head\n",
    "        fast = head.next\n",
    "        while fast is not None:\n",
    "            if slow.val != fast.val:\n",
    "                if slow.next == fast:\n",
    "                    ptr = ptr.next\n",
    "                    slow = fast\n",
    "                    fast = fast.next\n",
    "                else:\n",
    "                    ptr.next = fast\n",
    "                    slow = fast\n",
    "                    fast = fast.next\n",
    "            else:\n",
    "                fast = fast.next\n",
    "        \n",
    "        # 边界条件\n",
    "        if slow.next != fast:\n",
    "            ptr.next = None\n",
    "        return new_head.next\n",
    "    \n",
    "# 一个指针\n",
    "class Solution:\n",
    "    def deleteDuplicates(self, head: ListNode) -> ListNode:\n",
    "        if not head:\n",
    "            return head\n",
    "        \n",
    "        # 构造一个新的头节点\n",
    "        new_head = ListNode(0, head)\n",
    "        ptr = new_head\n",
    "        while ptr.next is not None and ptr.next.next is not None:\n",
    "            if ptr.next.val == ptr.next.next.val:\n",
    "                # 数值相同，ptr.next指针移动\n",
    "                ptr.next = ptr.next.next\n",
    "                # 如果移动之后的下一个数值变化，则再移动一步\n",
    "                if ptr.next.next is None or ptr.next.next.val != ptr.next.val:\n",
    "                    ptr.next = ptr.next.next\n",
    "            else:\n",
    "                # 数值不同，ptr指针移动\n",
    "                ptr = ptr.next\n",
    "                \n",
    "        return new_head.next"
   ]
  },
  {
   "cell_type": "code",
   "execution_count": 4,
   "metadata": {},
   "outputs": [
    {
     "name": "stdout",
     "output_type": "stream",
     "text": [
      "1 2 5 "
     ]
    }
   ],
   "source": [
    "head = [1,2,3,3,4,4,5]\n",
    "head = ListNode(1, ListNode(2, ListNode(3, ListNode(3, ListNode(4, ListNode(4, ListNode(5)))))))\n",
    "_ = Solution().deleteDuplicates(head)\n",
    "while _ is not None:\n",
    "    print(_.val, end=\" \")\n",
    "    _ = _.next"
   ]
  },
  {
   "cell_type": "code",
   "execution_count": null,
   "metadata": {},
   "outputs": [],
   "source": []
  }
 ],
 "metadata": {
  "kernelspec": {
   "display_name": "Python 3 (ipykernel)",
   "language": "python",
   "name": "python3"
  },
  "language_info": {
   "codemirror_mode": {
    "name": "ipython",
    "version": 3
   },
   "file_extension": ".py",
   "mimetype": "text/x-python",
   "name": "python",
   "nbconvert_exporter": "python",
   "pygments_lexer": "ipython3",
   "version": "3.8.3"
  }
 },
 "nbformat": 4,
 "nbformat_minor": 4
}
