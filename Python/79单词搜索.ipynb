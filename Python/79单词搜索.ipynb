{
 "cells": [
  {
   "cell_type": "code",
   "execution_count": 1,
   "metadata": {},
   "outputs": [],
   "source": [
    "import typing\n",
    "from typing import List"
   ]
  },
  {
   "cell_type": "code",
   "execution_count": 2,
   "metadata": {},
   "outputs": [],
   "source": [
    "class Solution:\n",
    "    def exist(self, board: List[List[str]], word: str) -> bool:\n",
    "        m, n = len(board), len(board[0])\n",
    "        len_word = len(word)\n",
    "        \n",
    "        def find(i, j, idx):\n",
    "            if idx >= len_word or board[i][j] != word[idx]:\n",
    "                return False\n",
    "            if idx == len_word - 1 and board[i][j] == word[idx]:\n",
    "                return True\n",
    "            board[i][j] = board[i][j] + '1'\n",
    "            # 向四周扩散搜索\n",
    "            _up = find(i-1, j, idx+1) if i-1 >= 0 else False\n",
    "            _right = find(i, j+1, idx+1) if j+1 < n else False\n",
    "            _bottom = find(i+1, j, idx+1) if i+1 < m else False\n",
    "            _left = find(i, j-1, idx+1) if j-1 >= 0 else False\n",
    "            board[i][j] = board[i][j][0]\n",
    "            return _up or _right or _bottom or _left\n",
    "        \n",
    "        ans = False\n",
    "        for i in range(m):\n",
    "            for j in range(n):\n",
    "                if board[i][j] == word[0]:\n",
    "                    ans = find(i, j, idx=0)\n",
    "                    if ans:\n",
    "                        return ans\n",
    "                else:\n",
    "                    continue\n",
    "                \n",
    "        return ans"
   ]
  },
  {
   "cell_type": "code",
   "execution_count": 3,
   "metadata": {},
   "outputs": [
    {
     "name": "stdout",
     "output_type": "stream",
     "text": [
      "False\n"
     ]
    }
   ],
   "source": [
    "board = [[\"A\",\"B\",\"C\",\"E\"],[\"S\",\"F\",\"C\",\"S\"],[\"A\",\"D\",\"E\",\"E\"]]\n",
    "word = \"ABCCED\"\n",
    "# board = [[\"A\",\"B\",\"C\",\"E\"],[\"S\",\"F\",\"C\",\"S\"],[\"A\",\"D\",\"E\",\"E\"]]\n",
    "# word = \"SEE\"\n",
    "board = [[\"A\",\"B\",\"C\",\"E\"],[\"S\",\"F\",\"C\",\"S\"],[\"A\",\"D\",\"E\",\"E\"]]\n",
    "word = \"ABCB\"\n",
    "# board = [[\"C\",\"A\",\"A\"],[\"A\",\"A\",\"A\"],[\"B\",\"C\",\"D\"]]\n",
    "# word = \"AAB\"\n",
    "print(Solution().exist(board, word))"
   ]
  },
  {
   "cell_type": "code",
   "execution_count": null,
   "metadata": {},
   "outputs": [],
   "source": []
  }
 ],
 "metadata": {
  "kernelspec": {
   "display_name": "Python 3 (ipykernel)",
   "language": "python",
   "name": "python3"
  },
  "language_info": {
   "codemirror_mode": {
    "name": "ipython",
    "version": 3
   },
   "file_extension": ".py",
   "mimetype": "text/x-python",
   "name": "python",
   "nbconvert_exporter": "python",
   "pygments_lexer": "ipython3",
   "version": "3.8.3"
  }
 },
 "nbformat": 4,
 "nbformat_minor": 4
}
