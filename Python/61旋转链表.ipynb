{
 "cells": [
  {
   "cell_type": "code",
   "execution_count": 1,
   "metadata": {},
   "outputs": [],
   "source": [
    "import typing\n",
    "from typing import List, Optional"
   ]
  },
  {
   "cell_type": "code",
   "execution_count": 27,
   "metadata": {},
   "outputs": [],
   "source": [
    "# Definition for singly-linked list.\n",
    "class ListNode:\n",
    "    def __init__(self, val=0, next=None):\n",
    "        self.val = val\n",
    "        self.next = next\n",
    "        \n",
    "class Solution:\n",
    "    def rotateRight(self, head: Optional[ListNode], k: int) -> Optional[ListNode]:\n",
    "        # 特殊情况，无节点，直接返回\n",
    "        if not head:\n",
    "            return head\n",
    "        \n",
    "        unk_head = ListNode(0, head)\n",
    "        head_ptr = unk_head\n",
    "        tail_ptr = unk_head\n",
    "        cnt = 0\n",
    "        \n",
    "        stack_list = []\n",
    "        # 入栈\n",
    "        while tail_ptr.next != None:\n",
    "            tail_ptr = tail_ptr.next\n",
    "            stack_list.append(tail_ptr)\n",
    "            cnt += 1\n",
    "            \n",
    "        _k = k % cnt\n",
    "        # 特殊情况，_k=0，无需操作，直接返回\n",
    "        if _k == 0:\n",
    "            return head\n",
    "        \n",
    "        # 出栈\n",
    "        for i in range(_k):\n",
    "            stack_list.pop()\n",
    "        \n",
    "        # 指针重设\n",
    "        new_head = stack_list[-1].next\n",
    "        stack_list[-1].next = tail_ptr.next\n",
    "        tail_ptr.next = unk_head.next\n",
    "        return new_head"
   ]
  },
  {
   "cell_type": "code",
   "execution_count": 28,
   "metadata": {},
   "outputs": [],
   "source": [
    "head = ListNode(1, ListNode(2, ListNode(3, ListNode(4, ListNode(5)))))\n",
    "head = ListNode(0, ListNode(1, ListNode(2)))\n",
    "head = None\n",
    "k = 4\n",
    "_ = Solution().rotateRight(head, k)\n",
    "while _ != None:\n",
    "    print(_.val, end=\" \")\n",
    "    _ = _.next"
   ]
  },
  {
   "cell_type": "code",
   "execution_count": null,
   "metadata": {},
   "outputs": [],
   "source": []
  }
 ],
 "metadata": {
  "kernelspec": {
   "display_name": "Python 3 (ipykernel)",
   "language": "python",
   "name": "python3"
  },
  "language_info": {
   "codemirror_mode": {
    "name": "ipython",
    "version": 3
   },
   "file_extension": ".py",
   "mimetype": "text/x-python",
   "name": "python",
   "nbconvert_exporter": "python",
   "pygments_lexer": "ipython3",
   "version": "3.8.3"
  }
 },
 "nbformat": 4,
 "nbformat_minor": 4
}
