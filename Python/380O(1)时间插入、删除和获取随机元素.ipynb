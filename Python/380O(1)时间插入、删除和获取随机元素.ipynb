{
 "cells": [
  {
   "cell_type": "code",
   "execution_count": 1,
   "metadata": {},
   "outputs": [],
   "source": [
    "import typing\n",
    "from typing import List"
   ]
  },
  {
   "cell_type": "code",
   "execution_count": 2,
   "metadata": {},
   "outputs": [],
   "source": [
    "import random\n",
    "\n",
    "class RandomizedSet:\n",
    "\n",
    "    def __init__(self):\n",
    "        self.val2idx = {}\n",
    "        self.vals = []\n",
    "        self.length = 0\n",
    "\n",
    "    def insert(self, val: int) -> bool:\n",
    "        if val in self.val2idx:\n",
    "            return False\n",
    "        self.val2idx[val] = len(self.vals)\n",
    "        self.vals.append(val)\n",
    "        self.length += 1\n",
    "        return True\n",
    "        \n",
    "    def remove(self, val: int) -> bool:\n",
    "        if val not in self.val2idx:\n",
    "            return False\n",
    "        idx = self.val2idx[val]\n",
    "        # 将 self.vals[idx] 的值替换为 self.vals[-1] (为了在O(1)时间内删除元素)\n",
    "        self.vals[idx] = self.vals[-1]\n",
    "        self.val2idx[self.vals[idx]] = idx\n",
    "        # 然后删除 self.vals[-1]\n",
    "        del self.vals[-1]\n",
    "        # 删除 self.val2idx[val]\n",
    "        del self.val2idx[val]\n",
    "        self.length -= 1\n",
    "        return True\n",
    "\n",
    "    def getRandom(self) -> int:\n",
    "        # 也可以直接使用 choice 函数\n",
    "        # return random.choice(self.vals)\n",
    "        r_idx = random.randint(0, self.length - 1)\n",
    "        return self.vals[r_idx]\n",
    "\n",
    "# Your RandomizedSet object will be instantiated and called as such:\n",
    "# obj = RandomizedSet()\n",
    "# param_1 = obj.insert(val)\n",
    "# param_2 = obj.remove(val)\n",
    "# param_3 = obj.getRandom()"
   ]
  },
  {
   "cell_type": "code",
   "execution_count": null,
   "metadata": {},
   "outputs": [],
   "source": []
  }
 ],
 "metadata": {
  "kernelspec": {
   "display_name": "Python 3 (ipykernel)",
   "language": "python",
   "name": "python3"
  },
  "language_info": {
   "codemirror_mode": {
    "name": "ipython",
    "version": 3
   },
   "file_extension": ".py",
   "mimetype": "text/x-python",
   "name": "python",
   "nbconvert_exporter": "python",
   "pygments_lexer": "ipython3",
   "version": "3.8.3"
  }
 },
 "nbformat": 4,
 "nbformat_minor": 4
}
