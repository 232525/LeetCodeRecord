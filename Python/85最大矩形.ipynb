{
 "cells": [
  {
   "cell_type": "code",
   "execution_count": 1,
   "metadata": {},
   "outputs": [],
   "source": [
    "import typing\n",
    "from typing import List"
   ]
  },
  {
   "cell_type": "code",
   "execution_count": 2,
   "metadata": {},
   "outputs": [],
   "source": [
    "# 基于 LeetCode-84 题进行\n",
    "# 针对 matrix， 逐行构造柱状图，然后按照柱状图去求解最大面积\n",
    "# 剑指offer II 040题解\n",
    "class Solution:\n",
    "    def maximalRectangle(self, matrix: List[List[str]]) -> int:\n",
    "        maxArea = 0\n",
    "        rows, cols = len(matrix), len(matrix[0])\n",
    "        heights = [0] * cols\n",
    "        # 逐行构造柱状图\n",
    "        for i in range(rows):\n",
    "            # 构造 heights 中高度\n",
    "            for j in range(cols):\n",
    "                if matrix[i][j] == \"0\":\n",
    "                    heights[j] = 0\n",
    "                else:\n",
    "                    heights[j] += 1\n",
    "            maxArea = max(maxArea, self.largestRectangleArea(heights))\n",
    "        return maxArea\n",
    "\n",
    "    # LeetCode-84 柱状图中的最大矩形\n",
    "    def largestRectangleArea(self, heights):\n",
    "        stack = [-1]\n",
    "        maxArea = 0\n",
    "        for i, height in enumerate(heights):\n",
    "            while stack[-1] != -1 and height < heights[stack[-1]]:\n",
    "                curHeight = heights[stack.pop()]\n",
    "                curWidth = (i - stack[-1] - 1)\n",
    "                maxArea = max(maxArea, curHeight * curWidth)\n",
    "            stack.append(i)\n",
    "\n",
    "        while stack[-1] != -1:\n",
    "            curHeight = heights[stack.pop()]\n",
    "            curWidth = len(heights) - stack[-1] - 1\n",
    "            maxArea = max(maxArea, curHeight * curWidth)\n",
    "        \n",
    "        return maxArea"
   ]
  },
  {
   "cell_type": "code",
   "execution_count": 3,
   "metadata": {},
   "outputs": [
    {
     "name": "stdout",
     "output_type": "stream",
     "text": [
      "6\n"
     ]
    }
   ],
   "source": [
    "matrix = [\n",
    "    [\"1\",\"0\",\"1\",\"0\",\"0\"],    # [1, 0, 1, 0, 0]   构造的柱状图\n",
    "    [\"1\",\"0\",\"1\",\"1\",\"1\"],    # [2, 0, 2, 1, 1]\n",
    "    [\"1\",\"1\",\"1\",\"1\",\"1\"],    # [3, 1, 3, 2, 2]\n",
    "    [\"1\",\"0\",\"0\",\"1\",\"0\"]     # [4, 0, 0, 3, 0]\n",
    "]\n",
    "print(Solution().maximalRectangle(matrix))"
   ]
  },
  {
   "cell_type": "code",
   "execution_count": null,
   "metadata": {},
   "outputs": [],
   "source": []
  }
 ],
 "metadata": {
  "kernelspec": {
   "display_name": "Python 3 (ipykernel)",
   "language": "python",
   "name": "python3"
  },
  "language_info": {
   "codemirror_mode": {
    "name": "ipython",
    "version": 3
   },
   "file_extension": ".py",
   "mimetype": "text/x-python",
   "name": "python",
   "nbconvert_exporter": "python",
   "pygments_lexer": "ipython3",
   "version": "3.8.3"
  }
 },
 "nbformat": 4,
 "nbformat_minor": 4
}
