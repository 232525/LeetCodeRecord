{
 "cells": [
  {
   "cell_type": "code",
   "execution_count": 63,
   "metadata": {},
   "outputs": [],
   "source": [
    "import typing\n",
    "from typing import List\n",
    "\n",
    "class ListNode:\n",
    "    def __init__(self, val=0, next=None):\n",
    "        self.val = val\n",
    "        self.next = next\n",
    "\n",
    "def addTwoNumbers(l1: ListNode, l2: ListNode) -> ListNode:\n",
    "    _node1 = l1\n",
    "    _node2 = l2\n",
    "    # 结果\n",
    "    _resultsNode = ListNode()\n",
    "    _ptr = _resultsNode\n",
    "    _tmp = 0\n",
    "    while(True):\n",
    "        # 获取当前操作需要的值\n",
    "        if _node1 is not None:\n",
    "            _val1 = _node1.val\n",
    "        else:\n",
    "            _val1 = 0\n",
    "        if _node2 is not None:\n",
    "            _val2 = _node2.val\n",
    "        else:\n",
    "            _val2 = 0\n",
    "        \n",
    "        # 相加\n",
    "        _res = _val1 + _val2 + _tmp        \n",
    "        # 处理进位信息和数据存储信息\n",
    "        _tmp = _res // 10\n",
    "        _ptr.next = ListNode(_res % 10)\n",
    "        \n",
    "        # 链表后移\n",
    "        if _node1 is not None:\n",
    "            _node1 = _node1.next\n",
    "        if _node2 is not None:\n",
    "            _node2 = _node2.next\n",
    "        # 结果指针后移\n",
    "        _ptr = _ptr.next\n",
    "        # 结束时判断是否需要进位，如需要进位，则将进位数存于结果中\n",
    "        if _node1 is None and _node2 is None:\n",
    "            if (_tmp > 0):\n",
    "                _ptr.next = ListNode(_tmp)\n",
    "            break\n",
    "        \n",
    "    return _resultsNode.next"
   ]
  },
  {
   "cell_type": "code",
   "execution_count": 64,
   "metadata": {},
   "outputs": [
    {
     "name": "stdout",
     "output_type": "stream",
     "text": [
      "8 9 9 9 0 0 0 1 "
     ]
    }
   ],
   "source": [
    "l1 = ListNode(2, ListNode(4, ListNode(3)))\n",
    "l2 = ListNode(5, ListNode(6, ListNode(4)))\n",
    "# l1 = ListNode(0)\n",
    "# l2 = ListNode(0)\n",
    "l1 = ListNode(9, ListNode(9, ListNode(9, ListNode(9, ListNode(9, ListNode(9, ListNode(9)))))))\n",
    "l2 = ListNode(9, ListNode(9, ListNode(9, ListNode(9))))\n",
    "_node = addTwoNumbers(l1, l2)\n",
    "\n",
    "_tmp = _node\n",
    "while(True):\n",
    "    print(_tmp.val, end=\" \")\n",
    "    if _tmp.next is not None:\n",
    "        _tmp = _tmp.next\n",
    "    else:\n",
    "        break"
   ]
  },
  {
   "cell_type": "code",
   "execution_count": null,
   "metadata": {},
   "outputs": [],
   "source": []
  },
  {
   "cell_type": "code",
   "execution_count": null,
   "metadata": {},
   "outputs": [],
   "source": []
  }
 ],
 "metadata": {
  "kernelspec": {
   "display_name": "Python 3 (ipykernel)",
   "language": "python",
   "name": "python3"
  },
  "language_info": {
   "codemirror_mode": {
    "name": "ipython",
    "version": 3
   },
   "file_extension": ".py",
   "mimetype": "text/x-python",
   "name": "python",
   "nbconvert_exporter": "python",
   "pygments_lexer": "ipython3",
   "version": "3.8.3"
  }
 },
 "nbformat": 4,
 "nbformat_minor": 4
}
