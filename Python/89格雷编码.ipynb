{
 "cells": [
  {
   "cell_type": "code",
   "execution_count": 1,
   "metadata": {},
   "outputs": [],
   "source": [
    "import typing\n",
    "from typing import List"
   ]
  },
  {
   "cell_type": "code",
   "execution_count": 2,
   "metadata": {},
   "outputs": [],
   "source": [
    "\"\"\"\n",
    "格雷编码生成规律：\n",
    "n = 1 --> [0, 1]\n",
    "n = 2 --> [00, 01, 11, 10]\n",
    "n = 3 --> [000, 001, 011, 010, 110, 111, 101, 100]\n",
    "递归生成：\n",
    "grayCode(n)的前一半数值与grayCode(n-1)一致，后一半数值则可以通过逆序grayCode(n-1)并在其二进制前补1\n",
    "grayCode(n) --> ['0' + grayCode(n-1)] append ['1' + grayCode(n-1)[::-1]]\n",
    "\"\"\"\n",
    "class Solution:\n",
    "    def grayCode(self, n: int) -> List[int]:\n",
    "        if n == 1:\n",
    "            return [0, 1]\n",
    "        else:\n",
    "            _res_pre = self.grayCode(n-1)\n",
    "            # 组织当前结果\n",
    "            res = _res_pre[:]\n",
    "            base_num = 2 ** (n - 1) \n",
    "            # 逆序\n",
    "            for _res in _res_pre[::-1]:\n",
    "                res.append(base_num + _res)\n",
    "            return res"
   ]
  },
  {
   "cell_type": "code",
   "execution_count": 4,
   "metadata": {},
   "outputs": [
    {
     "name": "stdout",
     "output_type": "stream",
     "text": [
      "[0, 1, 3, 2, 6, 7, 5, 4]\n"
     ]
    }
   ],
   "source": [
    "print(Solution().grayCode(3))"
   ]
  },
  {
   "cell_type": "code",
   "execution_count": null,
   "metadata": {},
   "outputs": [],
   "source": []
  }
 ],
 "metadata": {
  "kernelspec": {
   "display_name": "Python 3 (ipykernel)",
   "language": "python",
   "name": "python3"
  },
  "language_info": {
   "codemirror_mode": {
    "name": "ipython",
    "version": 3
   },
   "file_extension": ".py",
   "mimetype": "text/x-python",
   "name": "python",
   "nbconvert_exporter": "python",
   "pygments_lexer": "ipython3",
   "version": "3.8.3"
  }
 },
 "nbformat": 4,
 "nbformat_minor": 4
}
