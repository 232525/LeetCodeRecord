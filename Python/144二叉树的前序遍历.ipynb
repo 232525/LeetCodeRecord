{
 "cells": [
  {
   "cell_type": "code",
   "execution_count": 1,
   "metadata": {},
   "outputs": [],
   "source": [
    "import typing\n",
    "from typing import List"
   ]
  },
  {
   "cell_type": "code",
   "execution_count": null,
   "metadata": {},
   "outputs": [],
   "source": [
    "# Definition for a binary tree node.\n",
    "class TreeNode:\n",
    "    def __init__(self, val=0, left=None, right=None):\n",
    "        self.val = val\n",
    "        self.left = left\n",
    "        self.right = right\n",
    "        \n",
    "# 前序遍历，递归实现\n",
    "class Solution:\n",
    "    def preorderTraversal(self, root: Optional[TreeNode]) -> List[int]:\n",
    "        nodes = []\n",
    "        self.dfs(root, nodes)\n",
    "        return nodes\n",
    "\n",
    "    # 递归实现 前序遍历\n",
    "    def dfs(self, root, nodes):\n",
    "        if root is not None:\n",
    "            nodes.append(root.val)\n",
    "            self.dfs(root.left, nodes)\n",
    "            self.dfs(root.right, nodes)\n",
    "    \n",
    "# 前序遍历，迭代实现\n",
    "class Solution:\n",
    "    # 迭代实现，使用到栈\n",
    "    def preorderTraversal(self, root: Optional[TreeNode]) -> List[int]:\n",
    "        nodes = []\n",
    "        stack = []\n",
    "\n",
    "        curr_node = root\n",
    "        while curr_node is not None or len(stack) > 0:\n",
    "            while curr_node is not None:\n",
    "                nodes.append(curr_node.val)\n",
    "                stack.append(curr_node)\n",
    "                curr_node = curr_node.left\n",
    "            curr_node = stack.pop()\n",
    "            curr_node = curr_node.right\n",
    "\n",
    "        return nodes"
   ]
  }
 ],
 "metadata": {
  "kernelspec": {
   "display_name": "Python 3 (ipykernel)",
   "language": "python",
   "name": "python3"
  },
  "language_info": {
   "codemirror_mode": {
    "name": "ipython",
    "version": 3
   },
   "file_extension": ".py",
   "mimetype": "text/x-python",
   "name": "python",
   "nbconvert_exporter": "python",
   "pygments_lexer": "ipython3",
   "version": "3.8.3"
  }
 },
 "nbformat": 4,
 "nbformat_minor": 4
}
