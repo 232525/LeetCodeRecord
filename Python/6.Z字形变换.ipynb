{
 "cells": [
  {
   "cell_type": "code",
   "execution_count": 1,
   "metadata": {},
   "outputs": [],
   "source": [
    "import typing"
   ]
  },
  {
   "cell_type": "code",
   "execution_count": 2,
   "metadata": {},
   "outputs": [],
   "source": [
    "class Solution:\n",
    "    def convert(self, s: str, numRows: int) -> str:\n",
    "        if numRows == 1:\n",
    "            return s\n",
    "        \n",
    "        vecs = [\"\" for _ in range(numRows)]\n",
    "        idx = 1\n",
    "        direction = 1\n",
    "        for c in s:\n",
    "            # print(idx)\n",
    "            vecs[idx-1] += c\n",
    "            idx = idx + direction\n",
    "            if idx == numRows or idx == 1:\n",
    "                direction = -direction\n",
    "\n",
    "        result = \"\".join(vecs)\n",
    "        return result"
   ]
  },
  {
   "cell_type": "code",
   "execution_count": 3,
   "metadata": {},
   "outputs": [
    {
     "name": "stdout",
     "output_type": "stream",
     "text": [
      "PAHNAPLSIIGYIR\n"
     ]
    }
   ],
   "source": [
    "s = \"PAYPALISHIRING\"\n",
    "numRows = 3\n",
    "print(Solution().convert(s, numRows))"
   ]
  },
  {
   "cell_type": "code",
   "execution_count": null,
   "metadata": {},
   "outputs": [],
   "source": []
  }
 ],
 "metadata": {
  "kernelspec": {
   "display_name": "Python 3 (ipykernel)",
   "language": "python",
   "name": "python3"
  },
  "language_info": {
   "codemirror_mode": {
    "name": "ipython",
    "version": 3
   },
   "file_extension": ".py",
   "mimetype": "text/x-python",
   "name": "python",
   "nbconvert_exporter": "python",
   "pygments_lexer": "ipython3",
   "version": "3.8.3"
  }
 },
 "nbformat": 4,
 "nbformat_minor": 4
}
