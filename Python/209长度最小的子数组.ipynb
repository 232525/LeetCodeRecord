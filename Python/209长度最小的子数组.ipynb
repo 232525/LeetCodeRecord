{
 "cells": [
  {
   "cell_type": "code",
   "execution_count": 1,
   "metadata": {},
   "outputs": [],
   "source": [
    "import typing\n",
    "from typing import List"
   ]
  },
  {
   "cell_type": "code",
   "execution_count": 2,
   "metadata": {},
   "outputs": [],
   "source": [
    "class Solution:\n",
    "    def minSubArrayLen(self, target: int, nums: List[int]) -> int:\n",
    "        res = len(nums) + 1\n",
    "        left, right = 0, 0\n",
    "        _sum = 0\n",
    "        while right < len(nums):  # 遍历右指针\n",
    "            _sum += nums[right]\n",
    "            # _sum 满足条件时，右移左指针，直到不满足条件\n",
    "            while left <= right and _sum >= target:\n",
    "                res = min(res, right - left + 1)\n",
    "                _sum -= nums[left]\n",
    "                left += 1\n",
    "            right += 1\n",
    "\n",
    "        return res if res != len(nums) + 1 else 0"
   ]
  },
  {
   "cell_type": "code",
   "execution_count": 3,
   "metadata": {},
   "outputs": [
    {
     "name": "stdout",
     "output_type": "stream",
     "text": [
      "2\n"
     ]
    }
   ],
   "source": [
    "nums = [5, 1, 4, 3]\n",
    "target = 7\n",
    "print(Solution().minSubArrayLen(target, nums))"
   ]
  },
  {
   "cell_type": "code",
   "execution_count": null,
   "metadata": {},
   "outputs": [],
   "source": []
  }
 ],
 "metadata": {
  "kernelspec": {
   "display_name": "Python 3 (ipykernel)",
   "language": "python",
   "name": "python3"
  },
  "language_info": {
   "codemirror_mode": {
    "name": "ipython",
    "version": 3
   },
   "file_extension": ".py",
   "mimetype": "text/x-python",
   "name": "python",
   "nbconvert_exporter": "python",
   "pygments_lexer": "ipython3",
   "version": "3.8.3"
  }
 },
 "nbformat": 4,
 "nbformat_minor": 4
}
