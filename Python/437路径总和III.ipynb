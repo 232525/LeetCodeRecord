{
 "cells": [
  {
   "cell_type": "code",
   "execution_count": 3,
   "metadata": {},
   "outputs": [],
   "source": [
    "import typing\n",
    "from typing import List, Optional"
   ]
  },
  {
   "cell_type": "code",
   "execution_count": 4,
   "metadata": {},
   "outputs": [],
   "source": [
    "# Definition for a binary tree node.\n",
    "class TreeNode:\n",
    "    def __init__(self, val=0, left=None, right=None):\n",
    "        self.val = val\n",
    "        self.left = left\n",
    "        self.right = right\n",
    "\n",
    "class Solution:\n",
    "    def pathSum(self, root: Optional[TreeNode], targetSum: int) -> int:\n",
    "        sum2cnt = {0: 1}\n",
    "        return self.dfs(root, targetSum, 0, sum2cnt)\n",
    "\n",
    "    def dfs(self, root, targetSum, currSum, sum2cnt):\n",
    "        if root is None:\n",
    "            return 0\n",
    "\n",
    "        # 到达当前节点的和 currSum\n",
    "        currSum += root.val\n",
    "        # 目标和 与 当前和 的 差值\n",
    "        dif = currSum - targetSum\n",
    "        # 如果 dif 在 sum2cnt 中存在，则目前有 sum2cnt[dif] 条路径可以使条件满足\n",
    "        count = sum2cnt[dif] if dif in sum2cnt else 0\n",
    "        # 更新当前和的信息\n",
    "        if currSum not in sum2cnt:\n",
    "            sum2cnt[currSum] = 1\n",
    "        else:\n",
    "            sum2cnt[currSum] += 1 \n",
    "        \n",
    "        count += self.dfs(root.left, targetSum, currSum, sum2cnt)\n",
    "        count += self.dfs(root.right, targetSum, currSum, sum2cnt)\n",
    "\n",
    "        # 函数结束时，会回到节点的父节点，因此需要将当前节点的信息从 sum2cnt 中删除\n",
    "        sum2cnt[currSum] -= 1\n",
    "\n",
    "        return count"
   ]
  },
  {
   "cell_type": "code",
   "execution_count": null,
   "metadata": {},
   "outputs": [],
   "source": []
  }
 ],
 "metadata": {
  "kernelspec": {
   "display_name": "Python 3 (ipykernel)",
   "language": "python",
   "name": "python3"
  },
  "language_info": {
   "codemirror_mode": {
    "name": "ipython",
    "version": 3
   },
   "file_extension": ".py",
   "mimetype": "text/x-python",
   "name": "python",
   "nbconvert_exporter": "python",
   "pygments_lexer": "ipython3",
   "version": "3.8.3"
  }
 },
 "nbformat": 4,
 "nbformat_minor": 4
}
