{
 "cells": [
  {
   "cell_type": "code",
   "execution_count": 1,
   "metadata": {},
   "outputs": [],
   "source": [
    "import typing\n",
    "from typing import List"
   ]
  },
  {
   "cell_type": "markdown",
   "metadata": {},
   "source": [
    "思路：对于长度为N的数组nums，其缺失的第一个正数范围为[1,N]，因此核心思想为在遍历nums的同时，在原数组上保存[1,N]是否出现的信息"
   ]
  },
  {
   "cell_type": "code",
   "execution_count": 39,
   "metadata": {},
   "outputs": [],
   "source": [
    "# 没想出来，看了官方题解：妙蛙种子\n",
    "class Solution:\n",
    "    def firstMissingPositive(self, nums: List[int]) -> int:\n",
    "        len_nums = len(nums)\n",
    "        for i in range(len_nums):\n",
    "            if nums[i] <= 0:\n",
    "                nums[i] = len_nums + 1\n",
    "                \n",
    "        for i in range(len_nums):\n",
    "            num = abs(nums[i])\n",
    "            if num <= len_nums:  # [1, N]\n",
    "                nums[num-1] = -(abs(nums[num-1]))\n",
    "                \n",
    "        for i in range(len_nums):\n",
    "            if nums[i] > 0:\n",
    "                return i + 1\n",
    "        return len_nums + 1\n",
    "    \n",
    "# 数据交换\n",
    "class Solution:\n",
    "    def firstMissingPositive(self, nums: List[int]) -> int:\n",
    "        len_nums = len(nums)\n",
    "        for i in range(len_nums):\n",
    "            # 如果 x = nums[i] 的值位于[1, N]，则把 nums[x-1] 与 nums[i] 的值进行交换\n",
    "            # 每次交换都能使一个位置的值变为正确\n",
    "            while nums[i] >= 1 and nums[i] <= len_nums:\n",
    "                # 如果在交换前已经是正确数值，则不需要再交换\n",
    "                if nums[nums[i] - 1] == nums[i]:\n",
    "                    break\n",
    "                nums[nums[i] - 1], nums[i] = nums[i], nums[nums[i] - 1]\n",
    "                \n",
    "        for i in range(len_nums):\n",
    "            if nums[i] != i + 1:\n",
    "                return i + 1\n",
    "        return len_nums + 1"
   ]
  },
  {
   "cell_type": "code",
   "execution_count": 40,
   "metadata": {},
   "outputs": [
    {
     "name": "stdout",
     "output_type": "stream",
     "text": [
      "5\n"
     ]
    }
   ],
   "source": [
    "nums = [1,2,0,3,4,6,7,9]\n",
    "print(Solution().firstMissingPositive(nums))"
   ]
  },
  {
   "cell_type": "code",
   "execution_count": null,
   "metadata": {},
   "outputs": [],
   "source": []
  }
 ],
 "metadata": {
  "kernelspec": {
   "display_name": "Python 3 (ipykernel)",
   "language": "python",
   "name": "python3"
  },
  "language_info": {
   "codemirror_mode": {
    "name": "ipython",
    "version": 3
   },
   "file_extension": ".py",
   "mimetype": "text/x-python",
   "name": "python",
   "nbconvert_exporter": "python",
   "pygments_lexer": "ipython3",
   "version": "3.8.3"
  }
 },
 "nbformat": 4,
 "nbformat_minor": 4
}
