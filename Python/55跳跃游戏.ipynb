{
 "cells": [
  {
   "cell_type": "code",
   "execution_count": 1,
   "metadata": {},
   "outputs": [],
   "source": [
    "import typing\n",
    "from typing import List"
   ]
  },
  {
   "cell_type": "code",
   "execution_count": 2,
   "metadata": {},
   "outputs": [],
   "source": [
    "# 贪心法 -- 参考 “45-跳跃游戏II”\n",
    "class Solution:\n",
    "    def canJump(self, nums: List[int]) -> bool:\n",
    "        # start和end分别表示当前跳跃可取的起始和末尾位置\n",
    "        # 初始时，起始位置为0，结束位置为0+1\n",
    "        start, end = 0, 1\n",
    "        step = 0\n",
    "        \n",
    "        n = len(nums)\n",
    "        while end < n:\n",
    "            if start == end:\n",
    "                return False\n",
    "            # maxPos 存储当前位置i能跳到的最远位置\n",
    "            maxPos = 0\n",
    "            # 遍历当前跳跃每一个可以的起跳点\n",
    "            for i in range(start, end):\n",
    "                # 更新当前位置i所能跳到的最远位置\n",
    "                maxPos = max(maxPos, i + nums[i])\n",
    "            \n",
    "            # 当所有起跳点位置都遍历完成之后，则必须进入下一个跳跃\n",
    "            # 因此需要更新 start end，并且 step 需要 +1\n",
    "            start, end = end, maxPos + 1\n",
    "            step += 1\n",
    "\n",
    "        return True"
   ]
  },
  {
   "cell_type": "code",
   "execution_count": 4,
   "metadata": {},
   "outputs": [
    {
     "name": "stdout",
     "output_type": "stream",
     "text": [
      "False\n"
     ]
    }
   ],
   "source": [
    "nums = [2,3,1,1,4]\n",
    "nums = [3,2,1,0,4]\n",
    "print(Solution().canJump(nums))"
   ]
  },
  {
   "cell_type": "code",
   "execution_count": null,
   "metadata": {},
   "outputs": [],
   "source": []
  }
 ],
 "metadata": {
  "kernelspec": {
   "display_name": "Python 3 (ipykernel)",
   "language": "python",
   "name": "python3"
  },
  "language_info": {
   "codemirror_mode": {
    "name": "ipython",
    "version": 3
   },
   "file_extension": ".py",
   "mimetype": "text/x-python",
   "name": "python",
   "nbconvert_exporter": "python",
   "pygments_lexer": "ipython3",
   "version": "3.8.3"
  }
 },
 "nbformat": 4,
 "nbformat_minor": 4
}
