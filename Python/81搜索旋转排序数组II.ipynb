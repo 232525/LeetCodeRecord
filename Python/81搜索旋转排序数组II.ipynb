{
 "cells": [
  {
   "cell_type": "code",
   "execution_count": null,
   "metadata": {},
   "outputs": [],
   "source": [
    "import typing\n",
    "from typing import List"
   ]
  },
  {
   "cell_type": "code",
   "execution_count": null,
   "metadata": {},
   "outputs": [],
   "source": [
    "# 官方题解方法\n",
    "class Solution:\n",
    "    def search(self, nums: List[int], target: int) -> bool:\n",
    "        if not nums:\n",
    "            return False\n",
    "        n = len(nums)\n",
    "        if n == 1:\n",
    "            return target == nums[0]\n",
    "        \n",
    "        left, right = 0, n - 1\n",
    "        while left <= right:\n",
    "            mid = (left + right) >> 1\n",
    "            # 找到 target，返回 True\n",
    "            if nums[mid] == target:\n",
    "                return True\n",
    "            # 二分核心\n",
    "            # 左右边界收拢\n",
    "            if nums[left] == nums[mid] == nums[right]:\n",
    "                left += 1\n",
    "                right -= 1\n",
    "            # 与 LeetCode-33 不同在于，此处得使用 nuns[left] 进行比较\n",
    "            elif nums[left] <= nums[mid]:\n",
    "                # [l, mid] 有序\n",
    "                if nums[left] <= target < nums[mid]:\n",
    "                    right = mid - 1\n",
    "                else:\n",
    "                    left = mid + 1\n",
    "            else:\n",
    "                # [mid, r] 有序\n",
    "                if nums[mid] < target <= nums[right]:\n",
    "                    left = mid + 1\n",
    "                else:\n",
    "                    right = mid - 1\n",
    "                    \n",
    "        return False"
   ]
  },
  {
   "cell_type": "code",
   "execution_count": 3,
   "metadata": {},
   "outputs": [
    {
     "name": "stdout",
     "output_type": "stream",
     "text": [
      "True\n"
     ]
    }
   ],
   "source": [
    "nums = [2,5,6,0,0,1,2]\n",
    "target = 0\n",
    "\n",
    "# nums = [2,5,6,0,0,1,2]\n",
    "# target = 3\n",
    "\n",
    "# nums = [1,0,1,1,1]\n",
    "# target = 0\n",
    "\n",
    "nums = [3, 1, 2, 3, 3, 3, 3]\n",
    "target = 2\n",
    "print(Solution().search(nums, target))"
   ]
  },
  {
   "cell_type": "code",
   "execution_count": null,
   "metadata": {},
   "outputs": [],
   "source": []
  }
 ],
 "metadata": {
  "kernelspec": {
   "display_name": "Python 3 (ipykernel)",
   "language": "python",
   "name": "python3"
  },
  "language_info": {
   "codemirror_mode": {
    "name": "ipython",
    "version": 3
   },
   "file_extension": ".py",
   "mimetype": "text/x-python",
   "name": "python",
   "nbconvert_exporter": "python",
   "pygments_lexer": "ipython3",
   "version": "3.8.3"
  }
 },
 "nbformat": 4,
 "nbformat_minor": 4
}
