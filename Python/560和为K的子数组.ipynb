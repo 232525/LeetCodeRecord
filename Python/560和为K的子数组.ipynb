{
 "cells": [
  {
   "cell_type": "code",
   "execution_count": 1,
   "metadata": {},
   "outputs": [],
   "source": [
    "import typing\n",
    "from typing import List"
   ]
  },
  {
   "cell_type": "code",
   "execution_count": 5,
   "metadata": {},
   "outputs": [],
   "source": [
    "class Solution:\n",
    "    def subarraySum(self, nums: List[int], k: int) -> int:\n",
    "        hash_history = {}\n",
    "        _sum = 0\n",
    "        res = 0\n",
    "        for num in nums:\n",
    "            _sum += num\n",
    "            # 当前和等于k，结果+1\n",
    "            if _sum == k:  \n",
    "                res += 1\n",
    "            # _sum - k 存在于 hash_history 中，结果 + hash_history[_sum - k]\n",
    "            if _sum - k in hash_history:\n",
    "                res += hash_history[_sum - k]\n",
    "\n",
    "            if _sum not in hash_history:\n",
    "                hash_history[_sum] = 1\n",
    "            else:\n",
    "                hash_history[_sum] += 1\n",
    "            \n",
    "        return res\n",
    "    \n",
    "class Solution:\n",
    "    def subarraySum(self, nums: List[int], k: int) -> int:\n",
    "        hash_history = {0: 1}\n",
    "        _sum = 0\n",
    "        res = 0\n",
    "        for num in nums:\n",
    "            _sum += num\n",
    "            # 合并处理\n",
    "            # _sum - k 存在于 hash_history 中，结果 + hash_history[_sum - k]\n",
    "            if _sum - k in hash_history:\n",
    "                res += hash_history[_sum - k]\n",
    "\n",
    "            if _sum not in hash_history:\n",
    "                hash_history[_sum] = 1\n",
    "            else:\n",
    "                hash_history[_sum] += 1\n",
    "            \n",
    "        return res"
   ]
  },
  {
   "cell_type": "code",
   "execution_count": 6,
   "metadata": {},
   "outputs": [
    {
     "name": "stdout",
     "output_type": "stream",
     "text": [
      "2\n"
     ]
    }
   ],
   "source": [
    "nums = [1, 1, 1,]\n",
    "k = 2\n",
    "print(Solution().subarraySum(nums, k))"
   ]
  },
  {
   "cell_type": "code",
   "execution_count": null,
   "metadata": {},
   "outputs": [],
   "source": []
  }
 ],
 "metadata": {
  "kernelspec": {
   "display_name": "Python 3 (ipykernel)",
   "language": "python",
   "name": "python3"
  },
  "language_info": {
   "codemirror_mode": {
    "name": "ipython",
    "version": 3
   },
   "file_extension": ".py",
   "mimetype": "text/x-python",
   "name": "python",
   "nbconvert_exporter": "python",
   "pygments_lexer": "ipython3",
   "version": "3.8.3"
  }
 },
 "nbformat": 4,
 "nbformat_minor": 4
}
