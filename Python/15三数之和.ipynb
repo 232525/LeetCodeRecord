{
 "cells": [
  {
   "cell_type": "code",
   "execution_count": 1,
   "metadata": {},
   "outputs": [],
   "source": [
    "import typing\n",
    "from typing import List"
   ]
  },
  {
   "cell_type": "code",
   "execution_count": 59,
   "metadata": {},
   "outputs": [],
   "source": [
    "class Solution:\n",
    "    def threeSum(self, nums: List[int]) -> List[List[int]]:\n",
    "        len_nums = len(nums)\n",
    "        # 边界条件\n",
    "        if len_nums <= 2:\n",
    "            return []\n",
    "        \n",
    "        # 一般情况\n",
    "        # 先排序\n",
    "        sorted_nums = sorted(nums)\n",
    "        # 全为正数或者全为负数，直接返回\n",
    "        if sorted_nums[0] > 0 or sorted_nums[-1] < 0:\n",
    "            return []\n",
    "        \n",
    "        # 找出最后一个负数和第一个正数的idx\n",
    "        neg_idx = -1\n",
    "        pos_idx = len_nums\n",
    "        for i, _ in enumerate(sorted_nums):\n",
    "            if _ < 0:\n",
    "                neg_idx += 1\n",
    "            if _ > 0:\n",
    "                pos_idx = i\n",
    "                break\n",
    "        \n",
    "        # 一层for循环 + 双指针\n",
    "        result = []\n",
    "        for center in range(len_nums):\n",
    "            # left 和 right 指针的初始值可以优化，但是提交速度没太大提升\n",
    "            # 如果 center 的值为负数，则left = center - 1， right 为第一个正数\n",
    "            # 如果 center 的值为正数，则left 为最后一个负数，right = left + 1\n",
    "            left = neg_idx if sorted_nums[center] > 0 else center - 1\n",
    "            right = pos_idx if sorted_nums[center] < 0 else center + 1\n",
    "            target = -sorted_nums[center]\n",
    "            while(left >= 0 and right < len_nums):\n",
    "                tmp = sorted_nums[left] + sorted_nums[right]\n",
    "                if tmp < target:\n",
    "                    # left和right的和太小，因此right要更大\n",
    "                    right += 1\n",
    "                elif tmp > target:\n",
    "                    # left和right的和太大，因此left要更小\n",
    "                    left -= 1\n",
    "                else:\n",
    "                    _result = [sorted_nums[left], sorted_nums[center], sorted_nums[right]]\n",
    "                    if _result not in result:\n",
    "                        result.append(_result)\n",
    "                    # 可能存在其他解，因此不能退出循环\n",
    "                    left -= 1\n",
    "                    right += 1\n",
    "        \n",
    "        return result\n",
    "    \n",
    "# 改进版，参考 《剑指offer》 题解\n",
    "# 整体时间复杂度 O(n^2)\n",
    "class Solution:\n",
    "    def threeSum(self, nums: List[int]) -> List[List[int]]:\n",
    "        # 先对 nums 进行排序\n",
    "        nums.sort()   # O(nlogn)\n",
    "\n",
    "        if len(nums) < 3:\n",
    "            return []\n",
    "\n",
    "        result = []\n",
    "        i = 0\n",
    "        # 遍历 nums，固定 i，计算两数之和\n",
    "        while i < len(nums) - 2:\n",
    "            self.twoSum(nums, i, result)\n",
    "            tmp = nums[i]\n",
    "            # 跳过重复值\n",
    "            while i < len(nums) and nums[i] == tmp:\n",
    "                i += 1\n",
    "        return result\n",
    "\n",
    "    # 固定 nums[i]，计算两数之和 O(n^2)\n",
    "    def twoSum(self, nums, i, result):\n",
    "        j = i + 1\n",
    "        k = len(nums) - 1\n",
    "        while j < k:\n",
    "            _sum = nums[i] + nums[j] + nums[k]\n",
    "            if _sum == 0:\n",
    "                result.append([nums[i], nums[j], nums[k]])\n",
    "                tmp = nums[j]\n",
    "                # 跳过重复值\n",
    "                while nums[j] == tmp and j < k:\n",
    "                    j += 1\n",
    "            elif _sum < 0:\n",
    "                j += 1\n",
    "            else:\n",
    "                k -= 1"
   ]
  },
  {
   "cell_type": "code",
   "execution_count": 63,
   "metadata": {},
   "outputs": [
    {
     "name": "stdout",
     "output_type": "stream",
     "text": [
      "[[-1, -1, 2], [-1, 0, 1]]\n"
     ]
    }
   ],
   "source": [
    "nums = [-1,0,1,2,-1,-4]\n",
    "# nums = [0]\n",
    "# nums = [3,0,-2,-1,1,2]\n",
    "# nums = [0,0,0,0]\n",
    "print(Solution().threeSum(nums))"
   ]
  },
  {
   "cell_type": "code",
   "execution_count": null,
   "metadata": {},
   "outputs": [],
   "source": []
  }
 ],
 "metadata": {
  "kernelspec": {
   "display_name": "Python 3 (ipykernel)",
   "language": "python",
   "name": "python3"
  },
  "language_info": {
   "codemirror_mode": {
    "name": "ipython",
    "version": 3
   },
   "file_extension": ".py",
   "mimetype": "text/x-python",
   "name": "python",
   "nbconvert_exporter": "python",
   "pygments_lexer": "ipython3",
   "version": "3.8.3"
  }
 },
 "nbformat": 4,
 "nbformat_minor": 4
}
