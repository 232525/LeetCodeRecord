{
 "cells": [
  {
   "cell_type": "code",
   "execution_count": null,
   "metadata": {},
   "outputs": [],
   "source": [
    "import typing\n",
    "from typing import List"
   ]
  },
  {
   "cell_type": "code",
   "execution_count": 2,
   "metadata": {},
   "outputs": [],
   "source": [
    "# 不使用 split 函数进行分割\n",
    "class Solution:\n",
    "    def simplifyPath(self, path: str) -> str:\n",
    "        ans = []\n",
    "        left, right = -1, 0\n",
    "        while right < len(path):\n",
    "            if path[right] == \"/\" or right == len(path)-1:\n",
    "                if left == -1:\n",
    "                    left = right\n",
    "                else:\n",
    "                    _dir = path[left+1:right] if path[right] == \"/\" else path[left+1:]\n",
    "                    # \"..\" 需要回退到父路径（出栈一个元素，如果不足以出栈，则不作处理），\n",
    "                    # \".\" 为当前路径，不作处理，其他情况则将 _dir 入栈\n",
    "                    if _dir == \"..\":\n",
    "                        # 如果无法回退，则说明路径存在问题，直接返回 \"/\"\n",
    "                        if len(ans) >= 1:\n",
    "                            ans.pop()\n",
    "                    elif _dir != \".\" and _dir != \"\":\n",
    "                        ans.append(_dir)\n",
    "                    left = right\n",
    "            right += 1\n",
    "            \n",
    "        return \"/\" + \"/\".join(ans)\n",
    "        # return ans\n",
    "        \n",
    "class Solution:\n",
    "    def simplifyPath(self, path: str) -> str:\n",
    "        # 调用 split 函数进行字符串切割\n",
    "        split_path = [_ for _ in path.split(\"/\") if _ != \"\"]\n",
    "        \n",
    "        ans = []\n",
    "        for _path in split_path:\n",
    "            if _path != \".\" and _path != \"..\":\n",
    "                ans.append(_path)\n",
    "            elif _path == \"..\":\n",
    "                if len(ans) >= 1:\n",
    "                    ans.pop()\n",
    "            \n",
    "        return \"/\" + \"/\".join(ans)"
   ]
  },
  {
   "cell_type": "code",
   "execution_count": 4,
   "metadata": {},
   "outputs": [
    {
     "name": "stdout",
     "output_type": "stream",
     "text": [
      "/home/foo\n"
     ]
    }
   ],
   "source": [
    "path = \"/a/./b/../../c/\"\n",
    "path = \"/home//foo/\"\n",
    "# path = \"/home/\"\n",
    "# path = \"/../\"\n",
    "# path = \"/a/../../b/../c//.//\"\n",
    "# path = \"/a//b////c/d//././/..\"\n",
    "print(Solution().simplifyPath(path))"
   ]
  },
  {
   "cell_type": "code",
   "execution_count": null,
   "metadata": {},
   "outputs": [],
   "source": []
  }
 ],
 "metadata": {
  "kernelspec": {
   "display_name": "Python 3 (ipykernel)",
   "language": "python",
   "name": "python3"
  },
  "language_info": {
   "codemirror_mode": {
    "name": "ipython",
    "version": 3
   },
   "file_extension": ".py",
   "mimetype": "text/x-python",
   "name": "python",
   "nbconvert_exporter": "python",
   "pygments_lexer": "ipython3",
   "version": "3.8.3"
  }
 },
 "nbformat": 4,
 "nbformat_minor": 4
}
