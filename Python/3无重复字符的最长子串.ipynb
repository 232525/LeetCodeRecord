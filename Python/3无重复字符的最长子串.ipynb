{
 "cells": [
  {
   "cell_type": "code",
   "execution_count": 140,
   "metadata": {},
   "outputs": [],
   "source": [
    "import typing\n",
    "\n",
    "# 初始提交的错误版本，未考虑重叠情况\n",
    "def lengthOfLongestSubstring_1(self, s: str) -> int:\n",
    "    _left_char = set()\n",
    "    _res = 0\n",
    "    _tmp_res = 0\n",
    "    for i, c in enumerate(s):\n",
    "        # 剩余数据不足，直接跳出返回当前结果\n",
    "        if _tmp_res == 0 and len(s[i:]) < _res:\n",
    "            return _res\n",
    "        if c not in _left_char:\n",
    "            # 加入信息\n",
    "            _left_char |= set(c)\n",
    "            _tmp_res += 1\n",
    "        else:\n",
    "            # 相关参数重置\n",
    "            _res = _tmp_res if _tmp_res > _res else _res\n",
    "            _tmp_res = 1\n",
    "            _left_char = set(c)\n",
    "                \n",
    "    _res = _tmp_res if _tmp_res > _res else _res\n",
    "    return _res\n",
    "\n",
    "# 正确版本\n",
    "def lengthOfLongestSubstring(s: str) -> int:\n",
    "    # 字符的下标 dict：{char: index}\n",
    "    _s_dict = {}\n",
    "    # 子串的左右下标\n",
    "    _left_indx = 0\n",
    "    _right_indx = 0\n",
    "    # 最终结果和临时结果\n",
    "    _res = 0\n",
    "    _tmp_res = 0\n",
    "    for i, c in enumerate(s):\n",
    "        # 新加入char\n",
    "        if c not in _s_dict:\n",
    "            _s_dict[c] = i\n",
    "        # 处理不同情况\n",
    "        if c not in s[_left_indx: _right_indx]:\n",
    "            # 当前未重复，直接更新右边界即可\n",
    "            _right_indx += 1\n",
    "            _tmp_res += 1\n",
    "            _s_dict[c] = i  # 下标更新\n",
    "        else:\n",
    "            # 出现重复，需同时更新左边界、右边界\n",
    "            _left_indx = _s_dict[c] + 1\n",
    "            _right_indx += 1\n",
    "            _s_dict[c] = i  # 下标更新\n",
    "            # 相关参数重置\n",
    "            _res = _tmp_res if _tmp_res > _res else _res\n",
    "            _tmp_res = len(s[_left_indx: _right_indx])\n",
    "            \n",
    "    _res = _tmp_res if _tmp_res > _res else _res\n",
    "    return _res"
   ]
  },
  {
   "cell_type": "code",
   "execution_count": 141,
   "metadata": {},
   "outputs": [
    {
     "data": {
      "text/plain": [
       "3"
      ]
     },
     "execution_count": 141,
     "metadata": {},
     "output_type": "execute_result"
    }
   ],
   "source": [
    "s = \"abcabcbb\"\n",
    "s = \"bbbbbbb\"\n",
    "s = \"kwkkeww\"\n",
    "s = \"dvdf\"\n",
    "lengthOfLongestSubstring(s)"
   ]
  },
  {
   "cell_type": "markdown",
   "metadata": {},
   "source": [
    "## 思路\n",
    "给定一个string，令其char序列为[c1,c2,c3,c4,...,cn]\n",
    "\n"
   ]
  },
  {
   "cell_type": "code",
   "execution_count": null,
   "metadata": {},
   "outputs": [],
   "source": []
  }
 ],
 "metadata": {
  "kernelspec": {
   "display_name": "Python 3 (ipykernel)",
   "language": "python",
   "name": "python3"
  },
  "language_info": {
   "codemirror_mode": {
    "name": "ipython",
    "version": 3
   },
   "file_extension": ".py",
   "mimetype": "text/x-python",
   "name": "python",
   "nbconvert_exporter": "python",
   "pygments_lexer": "ipython3",
   "version": "3.8.3"
  }
 },
 "nbformat": 4,
 "nbformat_minor": 4
}
