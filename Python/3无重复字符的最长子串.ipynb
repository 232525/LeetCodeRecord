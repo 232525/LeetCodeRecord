{
 "cells": [
  {
   "cell_type": "code",
   "execution_count": 140,
   "metadata": {},
   "outputs": [],
   "source": [
    "import typing\n",
    "\n",
    "# 初始提交的错误版本，未考虑重叠情况\n",
    "def lengthOfLongestSubstring_1(self, s: str) -> int:\n",
    "    _left_char = set()\n",
    "    _res = 0\n",
    "    _tmp_res = 0\n",
    "    for i, c in enumerate(s):\n",
    "        # 剩余数据不足，直接跳出返回当前结果\n",
    "        if _tmp_res == 0 and len(s[i:]) < _res:\n",
    "            return _res\n",
    "        if c not in _left_char:\n",
    "            # 加入信息\n",
    "            _left_char |= set(c)\n",
    "            _tmp_res += 1\n",
    "        else:\n",
    "            # 相关参数重置\n",
    "            _res = _tmp_res if _tmp_res > _res else _res\n",
    "            _tmp_res = 1\n",
    "            _left_char = set(c)\n",
    "                \n",
    "    _res = _tmp_res if _tmp_res > _res else _res\n",
    "    return _res\n",
    "\n",
    "# 正确版本\n",
    "def lengthOfLongestSubstring(s: str) -> int:\n",
    "    # 字符的下标 dict：{char: index}\n",
    "    _s_dict = {}\n",
    "    # 子串的左右下标\n",
    "    _left_indx = 0\n",
    "    _right_indx = 0\n",
    "    # 最终结果和临时结果\n",
    "    _res = 0\n",
    "    _tmp_res = 0\n",
    "    for i, c in enumerate(s):\n",
    "        # 新加入char\n",
    "        if c not in _s_dict:\n",
    "            _s_dict[c] = i\n",
    "        # 处理不同情况\n",
    "        if c not in s[_left_indx: _right_indx]:\n",
    "            # 当前未重复，直接更新右边界即可\n",
    "            _right_indx += 1\n",
    "            _tmp_res += 1\n",
    "            _s_dict[c] = i  # 下标更新\n",
    "        else:\n",
    "            # 出现重复，需同时更新左边界、右边界\n",
    "            _left_indx = _s_dict[c] + 1  # 左指针直接移动到无重复位置\n",
    "            _right_indx += 1\n",
    "            _s_dict[c] = i  # 下标更新\n",
    "            # 相关参数重置\n",
    "            _res = _tmp_res if _tmp_res > _res else _res\n",
    "            _tmp_res = len(s[_left_indx: _right_indx])\n",
    "            \n",
    "    _res = _tmp_res if _tmp_res > _res else _res\n",
    "    return _res\n",
    "\n",
    "# 更新\n",
    "# 剑指offer II 题解\n",
    "class Solution:\n",
    "    def lengthOfLongestSubstring(self, s: str) -> int:\n",
    "        n = len(s)\n",
    "        if n == 0:\n",
    "             return 0\n",
    "\n",
    "        hash_infos = [0] * 256  # s 由字母数字空格组成，此处 哈希表 的键值为其 ASCII 码\n",
    "        left = 0  # left, right 初始位置均为 s 的第一个字符\n",
    "        res = 0\n",
    "        for right in range(n):\n",
    "            char = s[right]\n",
    "            hash_infos[ord(char)] += 1\n",
    "            while self.check(hash_infos):   # 此处多次遍历哈希表，耗时\n",
    "                hash_infos[ord(s[left])] -= 1\n",
    "                left += 1\n",
    "            res = max(res, right - left + 1)\n",
    "        return res\n",
    "\n",
    "    def check(self, hash_infos):\n",
    "        for _ in hash_infos:\n",
    "            if _ > 1:\n",
    "                return True\n",
    "        return False\n",
    "    \n",
    "# 剑指offer II 题解\n",
    "class Solution:\n",
    "    def lengthOfLongestSubstring(self, s: str) -> int:\n",
    "        n = len(s)\n",
    "        if n == 0:\n",
    "             return 0\n",
    "\n",
    "        hash_infos = [0] * 256  # s 由字母数字空格组成，此处 哈希表 的键值为其 ASCII 码\n",
    "        left = 0  # left, right 初始位置均为 s 的第一个字符\n",
    "        res = 0\n",
    "        countDup = 0 # 存储出现多于2次的字符个数，避免多次遍历哈希表\n",
    "        for right in range(n):\n",
    "            char = s[right]\n",
    "            hash_infos[ord(char)] += 1\n",
    "            if hash_infos[ord(char)] == 2:\n",
    "                countDup += 1\n",
    "            # left 循环右移动直到无重复\n",
    "            while countDup > 0:\n",
    "                hash_infos[ord(s[left])] -= 1\n",
    "                if hash_infos[ord(s[left])] == 1:\n",
    "                    countDup -= 1\n",
    "                left += 1\n",
    "            res = max(res, right - left + 1)\n",
    "        return res"
   ]
  },
  {
   "cell_type": "code",
   "execution_count": 141,
   "metadata": {},
   "outputs": [
    {
     "data": {
      "text/plain": [
       "3"
      ]
     },
     "execution_count": 141,
     "metadata": {},
     "output_type": "execute_result"
    }
   ],
   "source": [
    "s = \"abcabcbb\"\n",
    "s = \"bbbbbbb\"\n",
    "s = \"kwkkeww\"\n",
    "s = \"dvdf\"\n",
    "lengthOfLongestSubstring(s)"
   ]
  },
  {
   "cell_type": "markdown",
   "metadata": {},
   "source": [
    "## 思路\n",
    "给定一个string，令其char序列为[c1,c2,c3,c4,...,cn]\n",
    "\n"
   ]
  },
  {
   "cell_type": "code",
   "execution_count": null,
   "metadata": {},
   "outputs": [],
   "source": []
  }
 ],
 "metadata": {
  "kernelspec": {
   "display_name": "Python 3 (ipykernel)",
   "language": "python",
   "name": "python3"
  },
  "language_info": {
   "codemirror_mode": {
    "name": "ipython",
    "version": 3
   },
   "file_extension": ".py",
   "mimetype": "text/x-python",
   "name": "python",
   "nbconvert_exporter": "python",
   "pygments_lexer": "ipython3",
   "version": "3.8.3"
  }
 },
 "nbformat": 4,
 "nbformat_minor": 4
}
