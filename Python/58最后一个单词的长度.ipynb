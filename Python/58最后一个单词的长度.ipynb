{
 "cells": [
  {
   "cell_type": "code",
   "execution_count": 1,
   "metadata": {},
   "outputs": [],
   "source": [
    "import typing\n",
    "from typing import List"
   ]
  },
  {
   "cell_type": "code",
   "execution_count": 2,
   "metadata": {},
   "outputs": [],
   "source": [
    "class Solution1:\n",
    "    def lengthOfLastWord(self, s: str) -> int:\n",
    "        s = s.strip()\n",
    "        return len(s.split(\" \")[-1])\n",
    "\n",
    "class Solution:\n",
    "    def lengthOfLastWord(self, s: str) -> int:\n",
    "        idx = len(s) - 1\n",
    "        result = 0\n",
    "        # 找到第一个非“ ”的位置\n",
    "        while idx >= 0 and s[idx] == \" \":\n",
    "            idx -= 1\n",
    "            \n",
    "        # 找到第一个为“ ”的位置\n",
    "        while idx >= 0 and s[idx] != \" \":\n",
    "            idx -= 1\n",
    "            result += 1\n",
    "        return result"
   ]
  },
  {
   "cell_type": "code",
   "execution_count": 3,
   "metadata": {},
   "outputs": [
    {
     "name": "stdout",
     "output_type": "stream",
     "text": [
      "5\n",
      "5\n"
     ]
    }
   ],
   "source": [
    "s = \"Hello World\"\n",
    "# s = \"   fly me   to   the moon  \"\n",
    "# s = \"luffy is still joyboy\"\n",
    "# s = \"a\"\n",
    "# s = \" \"\n",
    "print(Solution().lengthOfLastWord(s))\n",
    "print(Solution1().lengthOfLastWord(s))"
   ]
  },
  {
   "cell_type": "code",
   "execution_count": null,
   "metadata": {},
   "outputs": [],
   "source": []
  }
 ],
 "metadata": {
  "kernelspec": {
   "display_name": "Python 3 (ipykernel)",
   "language": "python",
   "name": "python3"
  },
  "language_info": {
   "codemirror_mode": {
    "name": "ipython",
    "version": 3
   },
   "file_extension": ".py",
   "mimetype": "text/x-python",
   "name": "python",
   "nbconvert_exporter": "python",
   "pygments_lexer": "ipython3",
   "version": "3.8.3"
  }
 },
 "nbformat": 4,
 "nbformat_minor": 4
}
