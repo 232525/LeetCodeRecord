{
 "cells": [
  {
   "cell_type": "code",
   "execution_count": 2,
   "metadata": {},
   "outputs": [],
   "source": [
    "import typing"
   ]
  },
  {
   "cell_type": "code",
   "execution_count": 3,
   "metadata": {},
   "outputs": [],
   "source": [
    "class Solution:\n",
    "    def intToRoman(self, num: int) -> str:\n",
    "        dict_roman = {\n",
    "            1: 'I', 4: 'IV', 5: 'V', 9: 'IX',\n",
    "            10: 'X', 40: 'XL', 50: 'L', 90: 'XC',\n",
    "            100: 'C', 400: 'CD', 500: 'D', 900: 'CM',\n",
    "            1000: 'M'\n",
    "        }\n",
    "        digits = [0] * 4\n",
    "        ptr = 3\n",
    "        while(num > 0):\n",
    "            digit = num % 10\n",
    "            num = num // 10\n",
    "            digits[ptr] = digit\n",
    "            ptr -= 1\n",
    "        \n",
    "        result = \"\"\n",
    "        for i, _ in enumerate(digits):\n",
    "            if _ == 0:\n",
    "                continue\n",
    "            _base = 1000 // 10**i\n",
    "            if _ <= 3:\n",
    "                result += (dict_roman[_base] * _)\n",
    "            elif _ == 4 or _ == 5 or _ == 9:\n",
    "                result += dict_roman[_base*_]\n",
    "            else:\n",
    "                result += dict_roman[_base*5]\n",
    "                result += (dict_roman[_base] * (_-5))\n",
    "                \n",
    "        return result"
   ]
  },
  {
   "cell_type": "code",
   "execution_count": 4,
   "metadata": {},
   "outputs": [
    {
     "name": "stdout",
     "output_type": "stream",
     "text": [
      "MCMXCIV\n"
     ]
    }
   ],
   "source": [
    "num = 1994\n",
    "print(Solution().intToRoman(num))"
   ]
  },
  {
   "cell_type": "code",
   "execution_count": null,
   "metadata": {},
   "outputs": [],
   "source": []
  }
 ],
 "metadata": {
  "kernelspec": {
   "display_name": "Python 3 (ipykernel)",
   "language": "python",
   "name": "python3"
  },
  "language_info": {
   "codemirror_mode": {
    "name": "ipython",
    "version": 3
   },
   "file_extension": ".py",
   "mimetype": "text/x-python",
   "name": "python",
   "nbconvert_exporter": "python",
   "pygments_lexer": "ipython3",
   "version": "3.8.3"
  }
 },
 "nbformat": 4,
 "nbformat_minor": 4
}
