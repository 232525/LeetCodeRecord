{
 "cells": [
  {
   "cell_type": "code",
   "execution_count": 1,
   "metadata": {},
   "outputs": [],
   "source": [
    "import typing"
   ]
  },
  {
   "cell_type": "code",
   "execution_count": 11,
   "metadata": {},
   "outputs": [],
   "source": [
    "class Solution:\n",
    "    def strStr(self, haystack: str, needle: str) -> int:\n",
    "        # 特殊情况\n",
    "        if needle == \"\":\n",
    "            return 0\n",
    "        if haystack == \"\" or len(needle) > len(haystack):\n",
    "            return -1\n",
    "        # 一般情况\n",
    "        result = -1\n",
    "        len_needle = len(needle)\n",
    "        for i in range(len(haystack) - len_needle + 1):\n",
    "            if haystack[i] == needle[0]:\n",
    "                if haystack[i: i+len_needle] == needle:\n",
    "                    return i\n",
    "        return result"
   ]
  },
  {
   "cell_type": "code",
   "execution_count": 12,
   "metadata": {},
   "outputs": [
    {
     "name": "stdout",
     "output_type": "stream",
     "text": [
      "0\n"
     ]
    }
   ],
   "source": [
    "haystack = \"ab\"\n",
    "needle = \"ab\"\n",
    "print(Solution().strStr(haystack, needle))"
   ]
  },
  {
   "cell_type": "code",
   "execution_count": null,
   "metadata": {},
   "outputs": [],
   "source": []
  }
 ],
 "metadata": {
  "kernelspec": {
   "display_name": "Python 3 (ipykernel)",
   "language": "python",
   "name": "python3"
  },
  "language_info": {
   "codemirror_mode": {
    "name": "ipython",
    "version": 3
   },
   "file_extension": ".py",
   "mimetype": "text/x-python",
   "name": "python",
   "nbconvert_exporter": "python",
   "pygments_lexer": "ipython3",
   "version": "3.8.3"
  }
 },
 "nbformat": 4,
 "nbformat_minor": 4
}
