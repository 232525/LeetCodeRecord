{
 "cells": [
  {
   "cell_type": "code",
   "execution_count": 1,
   "metadata": {},
   "outputs": [],
   "source": [
    "import typing\n",
    "from typing import List\n",
    "from typing import Optional"
   ]
  },
  {
   "cell_type": "code",
   "execution_count": 2,
   "metadata": {},
   "outputs": [],
   "source": [
    "# Definition for singly-linked list.\n",
    "class ListNode:\n",
    "    def __init__(self, val=0, next=None):\n",
    "        self.val = val\n",
    "        self.next = next\n",
    "        \n",
    "# 时间超限（最后一个测试用例）\n",
    "class Solution:\n",
    "    def mergeKLists(self, lists: List[Optional[ListNode]]) -> Optional[ListNode]:\n",
    "        # 给每一个链表添加一个新的head\n",
    "        new_lists = [ListNode(0, _) for _ in lists]\n",
    "        # 结果链表\n",
    "        result = ListNode(0)\n",
    "        ptr = result\n",
    "        # 逐个逐个节点进行处理\n",
    "        while True:\n",
    "            end_tag = True\n",
    "            tmp_min = None\n",
    "            # 遍历new_lists\n",
    "            for _ in new_lists:\n",
    "                if _.next is not None:\n",
    "                    end_tag = False\n",
    "                    if tmp_min is None:\n",
    "                        tmp_min = _\n",
    "                        continue\n",
    "                    # 判断是否更新tmp_min\n",
    "                    if tmp_min.next.val > _.next.val:\n",
    "                        tmp_min = _\n",
    "            # 循环退出控制\n",
    "            if end_tag:\n",
    "                break\n",
    "            # 将节点加入到结果链表\n",
    "            # ptr.next = ListNode(tmp_min.next.val)\n",
    "            ptr.next = tmp_min.next\n",
    "            ptr = ptr.next\n",
    "            # 删除原链表中的节点\n",
    "            tmp_min.next = tmp_min.next.next\n",
    "        return result.next\n",
    "\n",
    "# 分治: AC\n",
    "class Solution:\n",
    "    def mergeTwoLists(self, list1: Optional[ListNode], list2: Optional[ListNode]) -> Optional[ListNode]:\n",
    "        ptr1 = list1\n",
    "        ptr2 = list2\n",
    "\n",
    "        new_head = ListNode(0)\n",
    "        ptr = new_head\n",
    "        while ptr1 is not None and ptr2 is not None:\n",
    "            # ptr.next 指定\n",
    "            if ptr1.val < ptr2.val:\n",
    "                ptr.next = ptr1\n",
    "                ptr1 = ptr1.next\n",
    "            else:\n",
    "                ptr.next = ptr2\n",
    "                ptr2 = ptr2.next\n",
    "            # ptr 后移\n",
    "            ptr = ptr.next\n",
    "            \n",
    "        # 收尾\n",
    "        if ptr1 is not None:\n",
    "            ptr.next = ptr1\n",
    "        if ptr2 is not None:\n",
    "            ptr.next = ptr2\n",
    "\n",
    "        return new_head.next\n",
    "    \n",
    "    def mergeKLists(self, lists: List[Optional[ListNode]]) -> Optional[ListNode]:\n",
    "        len_lists = len(lists)\n",
    "        if len_lists == 0:\n",
    "            return None\n",
    "        elif len_lists == 1:\n",
    "            return lists[0]\n",
    "        elif len_lists == 2:\n",
    "            # 退化为两个升序链表的合并\n",
    "            return self.mergeTwoLists(lists[0], lists[1])\n",
    "        else:\n",
    "            # 分治\n",
    "            _1 = self.mergeKLists(lists[:len_lists // 2])\n",
    "            _2 = self.mergeKLists(lists[len_lists // 2:])\n",
    "            # 合并\n",
    "            return self.mergeTwoLists(_1, _2)"
   ]
  },
  {
   "cell_type": "code",
   "execution_count": 5,
   "metadata": {},
   "outputs": [
    {
     "name": "stdout",
     "output_type": "stream",
     "text": [
      "1 1 3 4 5 5 "
     ]
    }
   ],
   "source": [
    "lists = [\n",
    "    ListNode(1, ListNode(4, ListNode(5))),\n",
    "    ListNode(1, ListNode(3, ListNode(5))),\n",
    "    # ListNode(2, ListNode(6, ListNode(6)))\n",
    "]\n",
    "_ = Solution().mergeKLists(lists)\n",
    "while _ is not None:\n",
    "    print(_.val, end=\" \")\n",
    "    _ = _.next"
   ]
  },
  {
   "cell_type": "code",
   "execution_count": null,
   "metadata": {},
   "outputs": [],
   "source": []
  },
  {
   "cell_type": "code",
   "execution_count": null,
   "metadata": {},
   "outputs": [],
   "source": []
  }
 ],
 "metadata": {
  "kernelspec": {
   "display_name": "Python 3 (ipykernel)",
   "language": "python",
   "name": "python3"
  },
  "language_info": {
   "codemirror_mode": {
    "name": "ipython",
    "version": 3
   },
   "file_extension": ".py",
   "mimetype": "text/x-python",
   "name": "python",
   "nbconvert_exporter": "python",
   "pygments_lexer": "ipython3",
   "version": "3.8.3"
  }
 },
 "nbformat": 4,
 "nbformat_minor": 4
}
