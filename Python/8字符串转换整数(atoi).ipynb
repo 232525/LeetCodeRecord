{
 "cells": [
  {
   "cell_type": "code",
   "execution_count": 1,
   "metadata": {},
   "outputs": [],
   "source": [
    "import typing"
   ]
  },
  {
   "cell_type": "code",
   "execution_count": 49,
   "metadata": {},
   "outputs": [],
   "source": [
    "class Solution:\n",
    "    def myAtoi(self, s: str) -> int:\n",
    "        INT_MIN, INT_MAX = -2**31, 2**31-1\n",
    "        nums_str = [str(i) for i in range(10)]\n",
    "        result = 0\n",
    "        negative = False\n",
    "        begin = False\n",
    "        for c in s:\n",
    "            # begin 标志位控制\n",
    "            if not begin and c != ' ':\n",
    "                begin = True\n",
    "                # 初始非空格位如果不是符号位或者数字位，则可以直接返回0\n",
    "                if c not in nums_str and c not in ['+', '-']:\n",
    "                    return 0\n",
    "                # 如果是符号位，读取符号后，直接读取下一个字符处理即可\n",
    "                if c in ['+', '-']:\n",
    "                    negative = c == '-'\n",
    "                    continue\n",
    "            # 处理非空格数字位\n",
    "            if begin:\n",
    "                if c not in nums_str:\n",
    "                    break\n",
    "                # 处理正负数\n",
    "                bit = -int(c) if negative else int(c)\n",
    "                result = result * 10 + bit\n",
    "        # 越界处理\n",
    "        if negative:\n",
    "            result = max(result, INT_MIN)\n",
    "        else:\n",
    "            result = min(result, INT_MAX)\n",
    "        return result"
   ]
  },
  {
   "cell_type": "code",
   "execution_count": 50,
   "metadata": {},
   "outputs": [
    {
     "name": "stdout",
     "output_type": "stream",
     "text": [
      "-42\n"
     ]
    }
   ],
   "source": [
    "s = \"   -42 34a\"\n",
    "print(Solution().myAtoi(s))"
   ]
  },
  {
   "cell_type": "markdown",
   "metadata": {},
   "source": [
    "![image.png](attachment:f8b32039-98b9-4741-a725-32e6dca59f39.png)"
   ]
  },
  {
   "cell_type": "code",
   "execution_count": null,
   "metadata": {},
   "outputs": [],
   "source": []
  }
 ],
 "metadata": {
  "kernelspec": {
   "display_name": "Python 3 (ipykernel)",
   "language": "python",
   "name": "python3"
  },
  "language_info": {
   "codemirror_mode": {
    "name": "ipython",
    "version": 3
   },
   "file_extension": ".py",
   "mimetype": "text/x-python",
   "name": "python",
   "nbconvert_exporter": "python",
   "pygments_lexer": "ipython3",
   "version": "3.8.3"
  }
 },
 "nbformat": 4,
 "nbformat_minor": 4
}
