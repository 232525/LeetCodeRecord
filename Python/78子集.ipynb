{
 "cells": [
  {
   "cell_type": "code",
   "execution_count": null,
   "metadata": {},
   "outputs": [],
   "source": [
    "import typing\n",
    "from typing import List"
   ]
  },
  {
   "cell_type": "code",
   "execution_count": 2,
   "metadata": {},
   "outputs": [],
   "source": [
    "class Solution:\n",
    "    def subsets(self, nums: List[int]) -> List[List[int]]:\n",
    "        results = [[]]\n",
    "        n = len(nums)\n",
    "        for k in range(1, n+1):\n",
    "            results += self.combine(nums, n, k)\n",
    "        return results\n",
    "    \n",
    "    # 基于 “77题 - 组合” 进行修改\n",
    "    def combine(self, nums, n: int, k: int) -> List[List[int]]:        \n",
    "        results = list()\n",
    "        # 递归回溯函数增加一个 begin 参数，无需在循环前计算下界值\n",
    "        def backtrack(begin, _combine):\n",
    "            if len(_combine) == k:\n",
    "                results.append(_combine[:])\n",
    "            else:\n",
    "                # 上界可优化，因为题目要求计算 k 个数值的组合，因此当剩余数值少于 k 个时则无需继续循环\n",
    "                # 可基于此重新计算新的上界，而无需每次都设置为 n + 1\n",
    "                # end = n + 1\n",
    "                end = n - (k - len(_combine)) + 1 + 1\n",
    "                for i in range(begin, end):\n",
    "                    _combine.append(nums[i-1])\n",
    "                    backtrack(i + 1, _combine)  # 下界设置为 i+1\n",
    "                    _combine.pop()\n",
    "                    \n",
    "        backtrack(1, _combine=[]) # 初始下界为 1\n",
    "        return results\n",
    "    \n",
    "class Solution:\n",
    "    def subsets(self, nums: List[int]) -> List[List[int]]:\n",
    "        results = list()\n",
    "        n = len(nums)\n",
    "        # 递归回溯函数增加一个 begin 参数，无需在循环前计算下界值\n",
    "        def backtrack(begin, _combine):\n",
    "            results.append(_combine[:])\n",
    "            end = n + 1\n",
    "            for i in range(begin, end):\n",
    "                _combine.append(nums[i-1])\n",
    "                backtrack(i + 1, _combine)  # 下界设置为 i+1\n",
    "                _combine.pop()\n",
    "                    \n",
    "        backtrack(1, _combine=[]) # 初始下界为 1\n",
    "        return results"
   ]
  },
  {
   "cell_type": "code",
   "execution_count": 3,
   "metadata": {},
   "outputs": [
    {
     "name": "stdout",
     "output_type": "stream",
     "text": [
      "[[], [2], [2, 4], [2, 4, 9], [2, 4, 9, 8], [2, 4, 9, 8, 10], [2, 4, 9, 10], [2, 4, 8], [2, 4, 8, 10], [2, 4, 10], [2, 9], [2, 9, 8], [2, 9, 8, 10], [2, 9, 10], [2, 8], [2, 8, 10], [2, 10], [4], [4, 9], [4, 9, 8], [4, 9, 8, 10], [4, 9, 10], [4, 8], [4, 8, 10], [4, 10], [9], [9, 8], [9, 8, 10], [9, 10], [8], [8, 10], [10]]\n"
     ]
    }
   ],
   "source": [
    "nums = [1,2,3]\n",
    "# nums = [0]\n",
    "nums = [2, 4, 9, 8, 10]\n",
    "print(Solution().subsets(nums))"
   ]
  },
  {
   "cell_type": "code",
   "execution_count": null,
   "metadata": {},
   "outputs": [],
   "source": []
  }
 ],
 "metadata": {
  "kernelspec": {
   "display_name": "Python 3 (ipykernel)",
   "language": "python",
   "name": "python3"
  },
  "language_info": {
   "codemirror_mode": {
    "name": "ipython",
    "version": 3
   },
   "file_extension": ".py",
   "mimetype": "text/x-python",
   "name": "python",
   "nbconvert_exporter": "python",
   "pygments_lexer": "ipython3",
   "version": "3.8.3"
  }
 },
 "nbformat": 4,
 "nbformat_minor": 4
}
