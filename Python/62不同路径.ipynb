{
 "cells": [
  {
   "cell_type": "code",
   "execution_count": 1,
   "metadata": {},
   "outputs": [],
   "source": [
    "import typing\n",
    "from typing import List"
   ]
  },
  {
   "cell_type": "code",
   "execution_count": 2,
   "metadata": {},
   "outputs": [],
   "source": [
    "# 存储空间 m x n\n",
    "class Solution:\n",
    "    def uniquePaths(self, m: int, n: int) -> int:\n",
    "        DP = [[-1] * n for _ in range(m)]\n",
    "        # DP 初始化\n",
    "        for i in range(n):\n",
    "            DP[0][i] = 1\n",
    "        for i in range(m):\n",
    "            DP[i][0] = 1\n",
    "            \n",
    "        # 动态规划\n",
    "        for i in range(1, m):\n",
    "            for j in range(1, n):\n",
    "                DP[i][j] = DP[i][j-1] + DP[i-1][j]\n",
    "                \n",
    "        return DP[-1][-1]\n",
    "    \n",
    "# 存储空间优化\n",
    "class Solution:\n",
    "    def uniquePaths(self, m: int, n: int) -> int:\n",
    "        DP = [1] * n\n",
    "            \n",
    "        # 动态规划\n",
    "        for i in range(1, m):\n",
    "            pre_dp = 1\n",
    "            now_dp = 0\n",
    "            for j in range(1, n):\n",
    "                now_dp = pre_dp + DP[j]\n",
    "                pre_dp = now_dp\n",
    "                DP[j] = now_dp\n",
    "                \n",
    "        return DP[-1]"
   ]
  },
  {
   "cell_type": "code",
   "execution_count": 3,
   "metadata": {},
   "outputs": [
    {
     "name": "stdout",
     "output_type": "stream",
     "text": [
      "28\n"
     ]
    }
   ],
   "source": [
    "print(Solution().uniquePaths(7, 3))"
   ]
  },
  {
   "cell_type": "code",
   "execution_count": null,
   "metadata": {},
   "outputs": [],
   "source": []
  }
 ],
 "metadata": {
  "kernelspec": {
   "display_name": "Python 3 (ipykernel)",
   "language": "python",
   "name": "python3"
  },
  "language_info": {
   "codemirror_mode": {
    "name": "ipython",
    "version": 3
   },
   "file_extension": ".py",
   "mimetype": "text/x-python",
   "name": "python",
   "nbconvert_exporter": "python",
   "pygments_lexer": "ipython3",
   "version": "3.8.3"
  }
 },
 "nbformat": 4,
 "nbformat_minor": 4
}
