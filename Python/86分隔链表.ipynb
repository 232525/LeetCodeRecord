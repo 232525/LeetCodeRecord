{
 "cells": [
  {
   "cell_type": "code",
   "execution_count": 1,
   "metadata": {},
   "outputs": [],
   "source": [
    "import typing\n",
    "from typing import List"
   ]
  },
  {
   "cell_type": "code",
   "execution_count": 2,
   "metadata": {},
   "outputs": [],
   "source": [
    "# Definition for singly-linked list.\n",
    "class ListNode:\n",
    "    def __init__(self, val=0, next=None):\n",
    "        self.val = val\n",
    "        self.next = next\n",
    "\n",
    "class Solution:\n",
    "    def partition(self, head: ListNode, x: int) -> ListNode:\n",
    "        if not head:\n",
    "            return head\n",
    "        \n",
    "        new_head = ListNode(0, head)\n",
    "        left = new_head\n",
    "        right = new_head\n",
    "        while right.next is not None:\n",
    "            # 小于 x，指针操作\n",
    "            if right.next.val < x:\n",
    "                # 如果此时 left 等用 right，无需进行操作，\n",
    "                # 直接将left和right都向后移动一位\n",
    "                if left == right:\n",
    "                    left = left.next\n",
    "                    right = right.next\n",
    "                    continue\n",
    "                # 把 right.next 指向的节点，移动到left\n",
    "                tmp_node = right.next\n",
    "                right.next = right.next.next\n",
    "                tmp_node.next = left.next\n",
    "                left.next = tmp_node\n",
    "                left = left.next\n",
    "            else:\n",
    "                right = right.next\n",
    "                \n",
    "        return new_head.next\n",
    "    \n",
    "# 参考官方题解\n",
    "class Solution:\n",
    "    def partition(self, head: ListNode, x: int) -> ListNode:\n",
    "        if not head:\n",
    "            return head\n",
    "        \n",
    "        # 分别构建两个链表，遍历完成之后将两个链表进行合并\n",
    "        small = ListNode(0)\n",
    "        small_head = small\n",
    "        large = ListNode(0)\n",
    "        large_head = large\n",
    "        \n",
    "        while head is not None:\n",
    "            if head.val < x:\n",
    "                small.next = head\n",
    "                small = small.next\n",
    "            else:\n",
    "                large.next = head\n",
    "                large = large.next\n",
    "            head = head.next\n",
    "                \n",
    "        large.next = None\n",
    "        small.next = large_head.next\n",
    "                \n",
    "        return small_head.next"
   ]
  },
  {
   "cell_type": "code",
   "execution_count": 4,
   "metadata": {},
   "outputs": [
    {
     "name": "stdout",
     "output_type": "stream",
     "text": [
      "1 2 2 4 3 5 "
     ]
    }
   ],
   "source": [
    "head = ListNode(1, ListNode(4, ListNode(3, ListNode(2, ListNode(5, ListNode(2))))))\n",
    "_ = Solution().partition(head, x = 3)\n",
    "while _ is not None:\n",
    "    print(_.val, end=\" \")\n",
    "    _ = _.next"
   ]
  },
  {
   "cell_type": "code",
   "execution_count": null,
   "metadata": {},
   "outputs": [],
   "source": []
  }
 ],
 "metadata": {
  "kernelspec": {
   "display_name": "Python 3 (ipykernel)",
   "language": "python",
   "name": "python3"
  },
  "language_info": {
   "codemirror_mode": {
    "name": "ipython",
    "version": 3
   },
   "file_extension": ".py",
   "mimetype": "text/x-python",
   "name": "python",
   "nbconvert_exporter": "python",
   "pygments_lexer": "ipython3",
   "version": "3.8.3"
  }
 },
 "nbformat": 4,
 "nbformat_minor": 4
}
