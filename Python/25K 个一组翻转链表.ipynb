{
 "cells": [
  {
   "cell_type": "code",
   "execution_count": 2,
   "metadata": {},
   "outputs": [],
   "source": [
    "import typing\n",
    "from typing import Optional"
   ]
  },
  {
   "cell_type": "code",
   "execution_count": 40,
   "metadata": {},
   "outputs": [],
   "source": [
    "# Definition for singly-linked list.\n",
    "class ListNode:\n",
    "    def __init__(self, val=0, next=None):\n",
    "        self.val = val\n",
    "        self.next = next\n",
    "\n",
    "class Solution:\n",
    "    def reverseKGroup(self, head: Optional[ListNode], k: int) -> Optional[ListNode]:\n",
    "        # 使用一个大小为k的栈维护需要反转的节点\n",
    "        stack = []\n",
    "        new_head = ListNode(0, head)\n",
    "        new_head_ptr = new_head\n",
    "        head_ptr = head\n",
    "        # 指针维护\n",
    "        while head_ptr != None:\n",
    "            # 节点入栈\n",
    "            stack.append(head_ptr)\n",
    "            head_ptr = head_ptr.next\n",
    "            # 栈满\n",
    "            if len(stack) == k:\n",
    "                while len(stack) > 0:\n",
    "                    _node = stack.pop()\n",
    "                    # 链表节点交换\n",
    "                    new_head_ptr.next = _node\n",
    "                    new_head_ptr = new_head_ptr.next\n",
    "                    # 断开与原链表的连接，防止循环\n",
    "                    new_head_ptr.next = None\n",
    "        \n",
    "        # 多余节点，接在new_head_ptr之后\n",
    "        if len(stack) > 0:\n",
    "            new_head_ptr.next = stack[0]\n",
    "        return new_head.next"
   ]
  },
  {
   "cell_type": "code",
   "execution_count": 44,
   "metadata": {},
   "outputs": [
    {
     "name": "stdout",
     "output_type": "stream",
     "text": [
      "1 2 3 4 5 "
     ]
    }
   ],
   "source": [
    "head = ListNode(1, ListNode(2, ListNode(3, ListNode(4, ListNode(5)))))\n",
    "# head = ListNode(1, ListNode(2))\n",
    "_ = Solution().reverseKGroup(head, 6)\n",
    "while _ is not None:\n",
    "    print(_.val, end=\" \")\n",
    "    _ = _.next"
   ]
  },
  {
   "cell_type": "code",
   "execution_count": null,
   "metadata": {},
   "outputs": [],
   "source": []
  }
 ],
 "metadata": {
  "kernelspec": {
   "display_name": "Python 3 (ipykernel)",
   "language": "python",
   "name": "python3"
  },
  "language_info": {
   "codemirror_mode": {
    "name": "ipython",
    "version": 3
   },
   "file_extension": ".py",
   "mimetype": "text/x-python",
   "name": "python",
   "nbconvert_exporter": "python",
   "pygments_lexer": "ipython3",
   "version": "3.8.3"
  }
 },
 "nbformat": 4,
 "nbformat_minor": 4
}
