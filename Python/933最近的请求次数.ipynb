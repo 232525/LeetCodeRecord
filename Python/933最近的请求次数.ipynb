{
 "cells": [
  {
   "cell_type": "code",
   "execution_count": 1,
   "metadata": {},
   "outputs": [],
   "source": [
    "import typing\n",
    "from typing import List"
   ]
  },
  {
   "cell_type": "code",
   "execution_count": 3,
   "metadata": {},
   "outputs": [],
   "source": [
    "class RecentCounter:\n",
    "\n",
    "    def __init__(self):\n",
    "        self.times = []\n",
    "        self.windowSize = 3000\n",
    "\n",
    "    def ping(self, t: int) -> int:\n",
    "        self.times.append(t)\n",
    "        while self.times[0] + self.windowSize < t:\n",
    "            del self.times[0]\n",
    "        return len(self.times)\n",
    "\n",
    "\n",
    "# Your RecentCounter object will be instantiated and called as such:\n",
    "# obj = RecentCounter()\n",
    "# param_1 = obj.ping(t)\n",
    "\n",
    "# 可以使用 deque\n",
    "from collections import deque\n",
    "\n",
    "class RecentCounter:\n",
    "\n",
    "    def __init__(self):\n",
    "        self.times = deque()\n",
    "        self.windowSize = 3000\n",
    "\n",
    "    def ping(self, t: int) -> int:\n",
    "        self.times.append(t)\n",
    "        while self.times[0] + self.windowSize < t:\n",
    "            self.times.popleft()\n",
    "        return len(self.times)"
   ]
  },
  {
   "cell_type": "code",
   "execution_count": null,
   "metadata": {},
   "outputs": [],
   "source": []
  }
 ],
 "metadata": {
  "kernelspec": {
   "display_name": "Python 3 (ipykernel)",
   "language": "python",
   "name": "python3"
  },
  "language_info": {
   "codemirror_mode": {
    "name": "ipython",
    "version": 3
   },
   "file_extension": ".py",
   "mimetype": "text/x-python",
   "name": "python",
   "nbconvert_exporter": "python",
   "pygments_lexer": "ipython3",
   "version": "3.8.3"
  }
 },
 "nbformat": 4,
 "nbformat_minor": 4
}
