{
 "cells": [
  {
   "cell_type": "code",
   "execution_count": 1,
   "metadata": {},
   "outputs": [],
   "source": [
    "import typing"
   ]
  },
  {
   "cell_type": "code",
   "execution_count": 17,
   "metadata": {},
   "outputs": [],
   "source": [
    "# 模拟竖式乘法\n",
    "class Solution:\n",
    "    def multiply(self, num1: str, num2: str) -> str:\n",
    "        if num1 == \"0\" or num2 == \"0\":\n",
    "            return \"0\"\n",
    "        if num1 == \"1\":\n",
    "            return num2\n",
    "        if num2 == \"1\":\n",
    "            return num1\n",
    "\n",
    "        idx1 = len(num1) - 1\n",
    "        idx2 = len(num2) - 1\n",
    "        base = 1\n",
    "        res = \"0\"\n",
    "        while idx2 >= 0:\n",
    "            mul_res = self._multiply(num1, int(num2[idx2]))\n",
    "            mul_res = self._multiply(mul_res, base)\n",
    "            res = self._add(res, mul_res)\n",
    "            base *= 10\n",
    "            idx2 -= 1\n",
    "        return res\n",
    "\n",
    "    def _multiply(self, num1, digit):\n",
    "        if digit >= 10:\n",
    "            return num1 + str(digit)[1:]\n",
    "        idx = len(num1) - 1\n",
    "        res = 0\n",
    "        base = 1\n",
    "        carry = 0\n",
    "        while idx >= 0:\n",
    "            _res = int(num1[idx]) * digit\n",
    "            res = res + (_res % 10 + carry) * base\n",
    "            carry = _res // 10\n",
    "            base *= 10\n",
    "            idx -= 1\n",
    "        if carry > 0:\n",
    "            res = res + carry * base\n",
    "        return str(res)\n",
    "    \n",
    "    def _add(self, num1, num2):\n",
    "        idx1 = len(num1) - 1\n",
    "        idx2 = len(num2) - 1\n",
    "        res = 0\n",
    "        base = 1\n",
    "        carry = 0\n",
    "        while idx1 >= 0 or idx2 >= 0:\n",
    "            n1 = 0 if idx1 < 0 else num1[idx1]\n",
    "            n2 = 0 if idx2 < 0 else num2[idx2]\n",
    "            # _res = int(num1[idx1]) + int(num2[idx2])\n",
    "            _res= int(n1) + int (n2)\n",
    "            res = res + (_res % 10 + carry) * base\n",
    "            carry = _res // 10\n",
    "            base *= 10\n",
    "            idx1 -= 1\n",
    "            idx2 -= 1\n",
    "        if carry > 0:\n",
    "            res = res + carry * base\n",
    "        return str(res)\n",
    "\n",
    "# 根据乘法性质\n",
    "class Solution:\n",
    "    def multiply(self, num1: str, num2: str) -> str:\n",
    "        if num1 == \"0\" or num2 == \"0\":\n",
    "            return \"0\"\n",
    "        len1 = len(num1)\n",
    "        len2 = len(num2)\n",
    "        res = [0] * (len1 + len2)\n",
    "        for i in range(len1-1, -1, -1):\n",
    "            for j in range(len2-1, -1, -1):\n",
    "                _res = int(num1[i]) * int(num2[j])\n",
    "                res[i+j+1] += _res\n",
    "        \n",
    "        for i in range(len1+len2-1, 0, -1):\n",
    "            res[i-1] += res[i] // 10\n",
    "            res[i] = res[i] % 10\n",
    "        idx = 1 if res[0] == 0 else 0\n",
    "        return \"\".join(str(_) for _ in res[idx:])\n",
    "    \n",
    "    \n",
    "class Solution:\n",
    "    def multiply(self, num1: str, num2: str) -> str:\n",
    "        if num1 == \"0\" or num2 == \"0\":\n",
    "            return \"0\"\n",
    "        len1 = len(num1)\n",
    "        len2 = len(num2)\n",
    "        res = [0] * (len1 + len2)\n",
    "        for i in range(len1-1, -1, -1):\n",
    "            for j in range(len2-1, -1, -1):\n",
    "                _res = int(num1[i]) * int(num2[j])\n",
    "                _res = res[i+j+1] + _res\n",
    "                # res[i+j+1] += _res\n",
    "                res[i+j+1] = _res % 10\n",
    "                res[i+j] += _res // 10\n",
    "        \n",
    "        idx = 1 if res[0] == 0 else 0\n",
    "        return \"\".join(str(_) for _ in res[idx:])\n",
    "            "
   ]
  },
  {
   "cell_type": "code",
   "execution_count": 18,
   "metadata": {},
   "outputs": [
    {
     "name": "stdout",
     "output_type": "stream",
     "text": [
      "56088\n"
     ]
    }
   ],
   "source": [
    "num1 = \"123\"\n",
    "num2 = \"456\"\n",
    "print(Solution().multiply(num1, num2))"
   ]
  },
  {
   "cell_type": "code",
   "execution_count": null,
   "metadata": {},
   "outputs": [],
   "source": []
  }
 ],
 "metadata": {
  "kernelspec": {
   "display_name": "Python 3 (ipykernel)",
   "language": "python",
   "name": "python3"
  },
  "language_info": {
   "codemirror_mode": {
    "name": "ipython",
    "version": 3
   },
   "file_extension": ".py",
   "mimetype": "text/x-python",
   "name": "python",
   "nbconvert_exporter": "python",
   "pygments_lexer": "ipython3",
   "version": "3.8.3"
  }
 },
 "nbformat": 4,
 "nbformat_minor": 4
}
