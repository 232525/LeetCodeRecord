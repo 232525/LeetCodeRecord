{
 "cells": [
  {
   "cell_type": "code",
   "execution_count": null,
   "metadata": {},
   "outputs": [],
   "source": [
    "import typing\n",
    "from typing import List"
   ]
  },
  {
   "cell_type": "markdown",
   "metadata": {},
   "source": [
    "我自己想出来的，嘿嘿"
   ]
  },
  {
   "cell_type": "code",
   "execution_count": 2,
   "metadata": {},
   "outputs": [],
   "source": [
    "# 双指针：分为三种情况\n",
    "class Solution:\n",
    "    def trap(self, height: List[int]) -> int:\n",
    "        left, right = 0, len(height) - 1\n",
    "        left_h, right_h = height[left], height[right]\n",
    "        result = 0\n",
    "        while left + 1 <= right - 1:\n",
    "            # 分情况讨论，也可以只分为两种情况\n",
    "            if left_h < right_h:\n",
    "                # 移动left\n",
    "                left += 1\n",
    "                if height[left] >= left_h:\n",
    "                    left_h = height[left]\n",
    "                else:\n",
    "                    result += (left_h - height[left])\n",
    "            elif left_h > right_h:\n",
    "                # 移动right\n",
    "                right -= 1\n",
    "                if height[right] >= right_h:\n",
    "                    right_h = height[right]\n",
    "                else:\n",
    "                    result += (right_h - height[right])\n",
    "            else:\n",
    "                # 同时移动left和right\n",
    "                #（该情况也可以与前两个情况中任意一个合并处理，即每次只移动一个指针）\n",
    "                left += 1\n",
    "                right -= 1\n",
    "                if left == right and left_h > height[left]:\n",
    "                    # 可直接退出\n",
    "                    result += (left_h - height[left])\n",
    "                    break\n",
    "                if height[left] >= left_h:\n",
    "                    left_h = height[left]\n",
    "                else:\n",
    "                    result += (left_h - height[left])\n",
    "                if height[right] >= right_h:\n",
    "                    right_h = height[right]\n",
    "                else:\n",
    "                    result += (right_h - height[right])\n",
    "        return result\n",
    "    \n",
    "# 双指针：分为两种情况\n",
    "class Solution:\n",
    "    def trap(self, height: List[int]) -> int:\n",
    "        left, right = 0, len(height) - 1\n",
    "        left_h, right_h = height[left], height[right]\n",
    "        result = 0\n",
    "        # 循环退出条件需注意\n",
    "        while left + 1 <= right - 1:\n",
    "            if left_h < right_h:\n",
    "                # 移动left\n",
    "                left += 1\n",
    "                if height[left] >= left_h:\n",
    "                    left_h = height[left]\n",
    "                else:\n",
    "                    result += (left_h - height[left])\n",
    "            else:\n",
    "                # 移动right\n",
    "                right -= 1\n",
    "                if height[right] >= right_h:\n",
    "                    right_h = height[right]\n",
    "                else:\n",
    "                    result += (right_h - height[right])\n",
    "        return result"
   ]
  },
  {
   "cell_type": "code",
   "execution_count": 3,
   "metadata": {},
   "outputs": [
    {
     "name": "stdout",
     "output_type": "stream",
     "text": [
      "6\n"
     ]
    }
   ],
   "source": [
    "height = [0,1,0,2,1,0,1,3,2,1,2,1]\n",
    "# height = [4,2,0,3,5,2,1,5,3,1,0,1,2]\n",
    "# height = [4,2,0,3,2,5]\n",
    "# height = [1,0,1]\n",
    "# height = [0,2,0]\n",
    "print(Solution().trap(height))"
   ]
  },
  {
   "cell_type": "code",
   "execution_count": null,
   "metadata": {},
   "outputs": [],
   "source": []
  }
 ],
 "metadata": {
  "kernelspec": {
   "display_name": "Python 3 (ipykernel)",
   "language": "python",
   "name": "python3"
  },
  "language_info": {
   "codemirror_mode": {
    "name": "ipython",
    "version": 3
   },
   "file_extension": ".py",
   "mimetype": "text/x-python",
   "name": "python",
   "nbconvert_exporter": "python",
   "pygments_lexer": "ipython3",
   "version": "3.8.3"
  }
 },
 "nbformat": 4,
 "nbformat_minor": 4
}
