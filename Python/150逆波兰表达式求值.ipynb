{
 "cells": [
  {
   "cell_type": "code",
   "execution_count": 1,
   "metadata": {},
   "outputs": [],
   "source": [
    "import typing \n",
    "from typing import List"
   ]
  },
  {
   "cell_type": "code",
   "execution_count": 2,
   "metadata": {},
   "outputs": [],
   "source": [
    "class Solution:\n",
    "    def evalRPN(self, tokens: List[str]) -> int:\n",
    "        # 栈\n",
    "        stack = []\n",
    "        # 运算符号\n",
    "        symbols = ['+', '-', '*', '/']\n",
    "        for token in tokens:\n",
    "            # 遇到运算符号，从 stack 中出栈两个元素进行运算，将结果再次压入 stack 中\n",
    "            # 否则，直接将 token 压入 stack 中\n",
    "            if token in symbols:\n",
    "                num2 = stack.pop()\n",
    "                num1 = stack.pop()\n",
    "                num = 0\n",
    "                if token == '+':\n",
    "                    num = num1 + num2\n",
    "                elif token == '-':\n",
    "                    num = num1 - num2\n",
    "                elif token == '*':\n",
    "                    num = num1 * num2\n",
    "                else:\n",
    "                    num = int(num1 / num2)\n",
    "                stack.append(num)\n",
    "            else:\n",
    "                stack.append(int(token))\n",
    "\n",
    "        # 题目说明一定有解，直接返回 stack[-1] 即可\n",
    "        return stack[-1]"
   ]
  },
  {
   "cell_type": "code",
   "execution_count": 3,
   "metadata": {},
   "outputs": [
    {
     "name": "stdout",
     "output_type": "stream",
     "text": [
      "22\n"
     ]
    }
   ],
   "source": [
    "tokens = [\"10\",\"6\",\"9\",\"3\",\"+\",\"-11\",\"*\",\"/\",\"*\",\"17\",\"+\",\"5\",\"+\"]\n",
    "print(Solution().evalRPN(tokens))"
   ]
  },
  {
   "cell_type": "code",
   "execution_count": null,
   "metadata": {},
   "outputs": [],
   "source": []
  }
 ],
 "metadata": {
  "kernelspec": {
   "display_name": "Python 3 (ipykernel)",
   "language": "python",
   "name": "python3"
  },
  "language_info": {
   "codemirror_mode": {
    "name": "ipython",
    "version": 3
   },
   "file_extension": ".py",
   "mimetype": "text/x-python",
   "name": "python",
   "nbconvert_exporter": "python",
   "pygments_lexer": "ipython3",
   "version": "3.8.3"
  }
 },
 "nbformat": 4,
 "nbformat_minor": 4
}
