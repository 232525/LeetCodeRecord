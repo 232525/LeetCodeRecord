{
 "cells": [
  {
   "cell_type": "code",
   "execution_count": 1,
   "metadata": {},
   "outputs": [],
   "source": [
    "import typing"
   ]
  },
  {
   "cell_type": "code",
   "execution_count": 2,
   "metadata": {},
   "outputs": [],
   "source": [
    "class Solution:\n",
    "    def isValid(self, s: str) -> bool:\n",
    "        # 使用栈进行求解\n",
    "        data = {')': '(', '}': '{', ']': '['}\n",
    "        # 遍历输入s，将每一个字符入栈，如果遇到右括号，则出栈一个符号，判断是否匹配\n",
    "        stack = []\n",
    "        for c in s:\n",
    "            if c not in data:\n",
    "                stack.append(c)\n",
    "            if c in data:\n",
    "                if len(stack) == 0:\n",
    "                    return False\n",
    "                _c = stack.pop()\n",
    "                if _c != data[c]:\n",
    "                    return False\n",
    "        return len(stack) == 0\n"
   ]
  },
  {
   "cell_type": "code",
   "execution_count": 3,
   "metadata": {},
   "outputs": [
    {
     "name": "stdout",
     "output_type": "stream",
     "text": [
      "True\n"
     ]
    }
   ],
   "source": [
    "s = \"(())()[]{}\"\n",
    "print(Solution().isValid(s))"
   ]
  },
  {
   "cell_type": "code",
   "execution_count": null,
   "metadata": {},
   "outputs": [],
   "source": []
  }
 ],
 "metadata": {
  "kernelspec": {
   "display_name": "Python 3 (ipykernel)",
   "language": "python",
   "name": "python3"
  },
  "language_info": {
   "codemirror_mode": {
    "name": "ipython",
    "version": 3
   },
   "file_extension": ".py",
   "mimetype": "text/x-python",
   "name": "python",
   "nbconvert_exporter": "python",
   "pygments_lexer": "ipython3",
   "version": "3.8.3"
  }
 },
 "nbformat": 4,
 "nbformat_minor": 4
}
