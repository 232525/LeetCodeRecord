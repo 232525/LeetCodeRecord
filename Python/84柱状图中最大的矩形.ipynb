{
 "cells": [
  {
   "cell_type": "code",
   "execution_count": 1,
   "metadata": {},
   "outputs": [],
   "source": [
    "import typing\n",
    "from typing import List"
   ]
  },
  {
   "cell_type": "code",
   "execution_count": 29,
   "metadata": {},
   "outputs": [],
   "source": [
    "# 暴力求解，超时\n",
    "class Solution:\n",
    "    def largestRectangleArea(self, heights: List[int]) -> int:\n",
    "        n = len(heights)\n",
    "        maxArea = 0\n",
    "        for i in range(n):\n",
    "            # 枚举所有 height\n",
    "            height = heights[i]\n",
    "            # 以该 height 为中心，向左右扩展\n",
    "            left, right = i, i\n",
    "            while left - 1 >= 0 and heights[left-1] >= height:\n",
    "                left -= 1\n",
    "            while right + 1 < n and heights[right+1] >= height:\n",
    "                right += 1\n",
    "            # 更新 maxArea\n",
    "            maxArea = max(maxArea, height * (right - left + 1))\n",
    "        return maxArea\n",
    "    \n",
    "# 分治法，超时\n",
    "class Solution:\n",
    "    def largestRectangleArea(self, heights: List[int]) -> int:\n",
    "        return self.helper(heights, 0, len(heights))\n",
    "    \n",
    "    # 递归分治\n",
    "    def helper(self, heights, left, right):\n",
    "        if left == right:\n",
    "            return 0\n",
    "        \n",
    "        if left + 1 == right:\n",
    "            return heights[left]\n",
    "        \n",
    "        minHeightIdx = left\n",
    "        for i in range(left + 1, right):\n",
    "            if heights[i] < heights[minHeightIdx]:\n",
    "                minHeightIdx = i\n",
    "                \n",
    "        return max([heights[minHeightIdx] * (right - left), self.helper(heights, left, minHeightIdx), self.helper(heights, minHeightIdx+1, right)])\n",
    "    \n",
    "# 单调栈\n",
    "class Solution:\n",
    "    def largestRectangleArea(self, heights: List[int]) -> int:\n",
    "        stack = [-1]  # 单调栈，栈中的元素的高度为递增的\n",
    "        maxArea = 0\n",
    "        for i, height in enumerate(heights):\n",
    "            # 当当前元素的高度小于栈顶元素的高度时，\n",
    "            # 出栈栈顶元素，求以其高度为顶的矩形面积\n",
    "            while stack[-1] != -1 and height < heights[stack[-1]]:\n",
    "                curHeight = heights[stack.pop()]  # 栈顶元素的高度\n",
    "                curWidth = i - stack[-1] - 1      # 以该高度为顶的矩形的宽\n",
    "                maxArea = max(maxArea, curHeight * curWidth)\n",
    "            stack.append(i) # 将当前元素入栈，此时栈内元素高度仍然是递增的\n",
    "\n",
    "        # 遍历完成之后，栈内可能不为空，继续相同的操作\n",
    "        while stack[-1] != -1:\n",
    "            curHeight = heights[stack.pop()]\n",
    "            curWidth = len(heights) - stack[-1] - 1\n",
    "            maxArea = max(maxArea, curHeight * curWidth)\n",
    "\n",
    "        return maxArea"
   ]
  },
  {
   "cell_type": "code",
   "execution_count": 30,
   "metadata": {},
   "outputs": [
    {
     "name": "stdout",
     "output_type": "stream",
     "text": [
      "10\n"
     ]
    }
   ],
   "source": [
    "heights = [2,1,5,6,2,3]\n",
    "# heights = [2,4]\n",
    "# heights = [2,1,5,6,2,3,2,3]\n",
    "print(Solution().largestRectangleArea(heights))"
   ]
  },
  {
   "cell_type": "code",
   "execution_count": null,
   "metadata": {},
   "outputs": [],
   "source": []
  }
 ],
 "metadata": {
  "kernelspec": {
   "display_name": "Python 3 (ipykernel)",
   "language": "python",
   "name": "python3"
  },
  "language_info": {
   "codemirror_mode": {
    "name": "ipython",
    "version": 3
   },
   "file_extension": ".py",
   "mimetype": "text/x-python",
   "name": "python",
   "nbconvert_exporter": "python",
   "pygments_lexer": "ipython3",
   "version": "3.8.3"
  }
 },
 "nbformat": 4,
 "nbformat_minor": 4
}
