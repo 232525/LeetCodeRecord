{
 "cells": [
  {
   "cell_type": "code",
   "execution_count": null,
   "metadata": {},
   "outputs": [],
   "source": [
    "import typing\n",
    "from typing import List"
   ]
  },
  {
   "cell_type": "code",
   "execution_count": 2,
   "metadata": {},
   "outputs": [],
   "source": [
    "# Python 的负数是以 补码 的形式保存的\n",
    "class Solution:\n",
    "    def singleNumber(self, nums: List[int]) -> int:\n",
    "        bitCount = [0] * 32\n",
    "        # 统计数字每一个比特位的和\n",
    "        for num in nums[-1:]:\n",
    "            for i in range(32):\n",
    "                bitCount[i] += (num >> (31 - i)) & 1;\n",
    "        \n",
    "        print(bitCount)\n",
    "                \n",
    "        res = 0\n",
    "        for i in range(32):\n",
    "            res = (res << 1) + bitCount[i] % 3\n",
    "        \n",
    "        if (bitCount[0] % 3):  # 负数处理\n",
    "            res -= (1 << 32)\n",
    "            \n",
    "        return res"
   ]
  },
  {
   "cell_type": "code",
   "execution_count": 3,
   "metadata": {},
   "outputs": [
    {
     "name": "stdout",
     "output_type": "stream",
     "text": [
      "[1, 0, 0, 0, 0, 0, 0, 0, 0, 0, 0, 0, 0, 0, 0, 0, 0, 0, 0, 0, 0, 0, 0, 0, 0, 0, 0, 0, 0, 0, 0, 1]\n",
      "-2147483647\n"
     ]
    }
   ],
   "source": [
    "nums = [0, -1, 0, -1, 0, -1, -2**31+1]\n",
    "# nums = [2, 2, -3, 2]\n",
    "print(Solution().singleNumber(nums))"
   ]
  },
  {
   "cell_type": "code",
   "execution_count": 5,
   "metadata": {},
   "outputs": [
    {
     "name": "stdout",
     "output_type": "stream",
     "text": [
      "4294967293\n",
      "-3\n"
     ]
    }
   ],
   "source": [
    "print((2147483646 << 1) + 1)            # python 无法区分 有符号数和无符号数\n",
    "print((2147483646 << 1) + 1 - 2 ** 32)  # 因此需要对符号位进行处理"
   ]
  },
  {
   "cell_type": "code",
   "execution_count": null,
   "metadata": {},
   "outputs": [],
   "source": []
  }
 ],
 "metadata": {
  "kernelspec": {
   "display_name": "Python 3 (ipykernel)",
   "language": "python",
   "name": "python3"
  },
  "language_info": {
   "codemirror_mode": {
    "name": "ipython",
    "version": 3
   },
   "file_extension": ".py",
   "mimetype": "text/x-python",
   "name": "python",
   "nbconvert_exporter": "python",
   "pygments_lexer": "ipython3",
   "version": "3.8.3"
  }
 },
 "nbformat": 4,
 "nbformat_minor": 4
}
