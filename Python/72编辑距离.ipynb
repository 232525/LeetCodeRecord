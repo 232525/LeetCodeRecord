{
 "cells": [
  {
   "cell_type": "code",
   "execution_count": 1,
   "metadata": {},
   "outputs": [],
   "source": [
    "import typing\n",
    "from typing import List"
   ]
  },
  {
   "cell_type": "code",
   "execution_count": 2,
   "metadata": {},
   "outputs": [],
   "source": [
    "class Solution:\n",
    "    def minDistance(self, word1: str, word2: str) -> int:\n",
    "        m, n = len(word1), len(word2)\n",
    "        if n*m == 0:\n",
    "            return n + m\n",
    "        \n",
    "        DP = [[0] * (m+1) for i in range(n+1)]\n",
    "        for i in range(m + 1):\n",
    "            DP[0][i] = i\n",
    "        for j in range(n + 1):\n",
    "            DP[j][0] = j\n",
    "        \n",
    "        for i in range(1, n+1):\n",
    "            for j in range(1, m+1):\n",
    "                left = DP[i][j-1] + 1\n",
    "                up = DP[i-1][j] + 1\n",
    "                leftup = DP[i-1][j-1]\n",
    "                if word1[j-1] != word2[i-1]:\n",
    "                    leftup += 1\n",
    "                DP[i][j] = min([left, up, leftup])\n",
    "                \n",
    "        return DP[-1][-1]"
   ]
  },
  {
   "cell_type": "code",
   "execution_count": 3,
   "metadata": {},
   "outputs": [
    {
     "name": "stdout",
     "output_type": "stream",
     "text": [
      "3\n"
     ]
    }
   ],
   "source": [
    "word1 = \"horse\"\n",
    "word2 = \"ros\"\n",
    "print(Solution().minDistance(word1, word2))"
   ]
  },
  {
   "cell_type": "code",
   "execution_count": null,
   "metadata": {},
   "outputs": [],
   "source": []
  }
 ],
 "metadata": {
  "kernelspec": {
   "display_name": "Python 3 (ipykernel)",
   "language": "python",
   "name": "python3"
  },
  "language_info": {
   "codemirror_mode": {
    "name": "ipython",
    "version": 3
   },
   "file_extension": ".py",
   "mimetype": "text/x-python",
   "name": "python",
   "nbconvert_exporter": "python",
   "pygments_lexer": "ipython3",
   "version": "3.8.3"
  }
 },
 "nbformat": 4,
 "nbformat_minor": 4
}
