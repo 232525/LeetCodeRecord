{
 "cells": [
  {
   "cell_type": "code",
   "execution_count": 1,
   "metadata": {},
   "outputs": [],
   "source": [
    "import typing\n",
    "from typing import Optional, List"
   ]
  },
  {
   "cell_type": "code",
   "execution_count": 2,
   "metadata": {},
   "outputs": [],
   "source": [
    "# Definition for a binary tree node.\n",
    "class TreeNode:\n",
    "    def __init__(self, val=0, left=None, right=None):\n",
    "        self.val = val\n",
    "        self.left = left\n",
    "        self.right = right\n",
    "\n",
    "class Solution:\n",
    "    def inorderTraversal(self, root: Optional[TreeNode]) -> List[int]:\n",
    "        results = []\n",
    "        # 递归写法\n",
    "        def dfs(root):\n",
    "            if not root:\n",
    "                return\n",
    "            if root.left is None and root.right is None:\n",
    "                results.append(root.val)\n",
    "            else:\n",
    "                if root.left is not None:\n",
    "                    dfs(root.left)\n",
    "                results.append(root.val)\n",
    "                if root.right is not None:\n",
    "                    dfs(root.right)\n",
    "        dfs(root)\n",
    "        return results\n",
    "    \n",
    "class Solution:\n",
    "    def inorderTraversal(self, root: Optional[TreeNode]) -> List[int]:\n",
    "        stack = []\n",
    "        results = []\n",
    "        \n",
    "        # dfs的迭代写法\n",
    "        while stack or root:\n",
    "            while root:\n",
    "                stack.append(root)\n",
    "                root = root.left\n",
    "            # 出栈一个节点，判断是否为升序（即root.val 是否大于 inorder）\n",
    "            root = stack.pop()\n",
    "            results.append(root.val)\n",
    "            root = root.right\n",
    "        return results"
   ]
  },
  {
   "cell_type": "code",
   "execution_count": null,
   "metadata": {},
   "outputs": [],
   "source": []
  }
 ],
 "metadata": {
  "kernelspec": {
   "display_name": "Python 3 (ipykernel)",
   "language": "python",
   "name": "python3"
  },
  "language_info": {
   "codemirror_mode": {
    "name": "ipython",
    "version": 3
   },
   "file_extension": ".py",
   "mimetype": "text/x-python",
   "name": "python",
   "nbconvert_exporter": "python",
   "pygments_lexer": "ipython3",
   "version": "3.8.3"
  }
 },
 "nbformat": 4,
 "nbformat_minor": 4
}
