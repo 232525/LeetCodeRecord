{
 "cells": [
  {
   "cell_type": "code",
   "execution_count": 1,
   "metadata": {},
   "outputs": [],
   "source": [
    "import typing\n",
    "from typing import List, Optional"
   ]
  },
  {
   "cell_type": "code",
   "execution_count": 2,
   "metadata": {},
   "outputs": [],
   "source": [
    "# Definition for a binary tree node.\n",
    "class TreeNode:\n",
    "    def __init__(self, val=0, left=None, right=None):\n",
    "        self.val = val\n",
    "        self.left = left\n",
    "        self.right = right\n",
    "\n",
    "class BSTIterator:\n",
    "\n",
    "    def __init__(self, root: TreeNode):\n",
    "        self.root = root\n",
    "        self.curr = root\n",
    "\n",
    "        self.stack = []\n",
    "        # 初始化，移动到左下节点\n",
    "        self.step()\n",
    "\n",
    "    def step(self):\n",
    "        while self.curr is not None:\n",
    "            self.stack.append(self.curr)\n",
    "            self.curr = self.curr.left\n",
    "        \n",
    "    def next(self) -> int:\n",
    "        self.step()\n",
    "        self.curr = self.stack.pop()\n",
    "        ans = self.curr.val\n",
    "        self.curr = self.curr.right\n",
    "        return ans\n",
    "\n",
    "    def hasNext(self) -> bool:\n",
    "        if not self.curr and len(self.stack) == 0:\n",
    "            return False\n",
    "\n",
    "        return True\n",
    "\n",
    "\n",
    "\n",
    "# Your BSTIterator object will be instantiated and called as such:\n",
    "# obj = BSTIterator(root)\n",
    "# param_1 = obj.next()\n",
    "# param_2 = obj.hasNext()"
   ]
  },
  {
   "cell_type": "code",
   "execution_count": null,
   "metadata": {},
   "outputs": [],
   "source": []
  }
 ],
 "metadata": {
  "kernelspec": {
   "display_name": "Python 3 (ipykernel)",
   "language": "python",
   "name": "python3"
  },
  "language_info": {
   "codemirror_mode": {
    "name": "ipython",
    "version": 3
   },
   "file_extension": ".py",
   "mimetype": "text/x-python",
   "name": "python",
   "nbconvert_exporter": "python",
   "pygments_lexer": "ipython3",
   "version": "3.8.3"
  }
 },
 "nbformat": 4,
 "nbformat_minor": 4
}
