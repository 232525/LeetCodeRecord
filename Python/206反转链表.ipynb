{
 "cells": [
  {
   "cell_type": "code",
   "execution_count": 1,
   "metadata": {},
   "outputs": [],
   "source": [
    "import typing\n",
    "from typing import List"
   ]
  },
  {
   "cell_type": "code",
   "execution_count": null,
   "metadata": {},
   "outputs": [],
   "source": [
    "# Definition for singly-linked list.\n",
    "class ListNode:\n",
    "    def __init__(self, val=0, next=None):\n",
    "        self.val = val\n",
    "        self.next = next\n",
    "\n",
    "class Solution:\n",
    "    def reverseList(self, head: ListNode) -> ListNode:\n",
    "        # 特殊情况，链表为空或者只有一个节点，直接返回自身\n",
    "        if head is None or head.next is None:\n",
    "            return head\n",
    "        \n",
    "        pastNode = None\n",
    "        currentNode = head\n",
    "        nextNode = head.next\n",
    "        while currentNode.next is not None:\n",
    "            nextNode = currentNode.next\n",
    "            currentNode.next = pastNode\n",
    "            pastNode = currentNode\n",
    "            currentNode = nextNode\n",
    "        \n",
    "        # 处理结尾\n",
    "        currentNode.next = pastNode\n",
    "        return currentNode\n",
    "    \n",
    "# 避免处理特殊情况\n",
    "class Solution:\n",
    "    def reverseList(self, head: ListNode) -> ListNode:\n",
    "        pastNode = None\n",
    "        currentNode = head\n",
    "        while currentNode is not None:\n",
    "            nextNode = currentNode.next\n",
    "            currentNode.next = pastNode\n",
    "            pastNode = currentNode\n",
    "            currentNode = nextNode\n",
    "        \n",
    "        return pastNode"
   ]
  }
 ],
 "metadata": {
  "kernelspec": {
   "display_name": "Python 3 (ipykernel)",
   "language": "python",
   "name": "python3"
  },
  "language_info": {
   "codemirror_mode": {
    "name": "ipython",
    "version": 3
   },
   "file_extension": ".py",
   "mimetype": "text/x-python",
   "name": "python",
   "nbconvert_exporter": "python",
   "pygments_lexer": "ipython3",
   "version": "3.8.3"
  }
 },
 "nbformat": 4,
 "nbformat_minor": 4
}
