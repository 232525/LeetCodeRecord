{
 "cells": [
  {
   "cell_type": "code",
   "execution_count": 1,
   "metadata": {},
   "outputs": [],
   "source": [
    "import typing\n",
    "from typing import List"
   ]
  },
  {
   "cell_type": "code",
   "execution_count": 2,
   "metadata": {},
   "outputs": [],
   "source": [
    "class Solution:\n",
    "    def removeDuplicates(self, nums: List[int]) -> int:\n",
    "        # ptr和i相当于快慢指针，i为快指针，ptr为慢指针\n",
    "        # 指针、指针所指数值、及该数值计数\n",
    "        ptr = 0\n",
    "        ptr_num = nums[0]\n",
    "        cnt = 0\n",
    "        # 遍历 nums\n",
    "        for i, num in enumerate(nums):\n",
    "            if num == ptr_num:\n",
    "                # 数值与当前数值相同，计数 +1\n",
    "                cnt += 1\n",
    "            else:\n",
    "                # 数值不同，基于慢指针修改 nums，同时慢指针右移\n",
    "                nums[ptr] = ptr_num\n",
    "                ptr += 1\n",
    "                # 如果数值计数 >= 2，则多修改一个值，同时 ptr 对应 +1\n",
    "                if cnt >= 2:\n",
    "                    nums[ptr] = ptr_num\n",
    "                    ptr += 1\n",
    "                # 指针所指数值、及数值计数修改\n",
    "                ptr_num = num\n",
    "                cnt = 1\n",
    "        \n",
    "        # 边界处理，末尾数据\n",
    "        nums[ptr] = ptr_num\n",
    "        ptr += 1\n",
    "        if cnt >= 2:\n",
    "            nums[ptr] = ptr_num\n",
    "            ptr += 1\n",
    "            \n",
    "        return ptr\n",
    "    \n",
    "class Solution:\n",
    "    def removeDuplicates(self, nums: List[int]) -> int:\n",
    "        n = len(nums)\n",
    "        # 特殊情况，无需进行处理\n",
    "        if n <= 2:\n",
    "            return n\n",
    "        \n",
    "        # 快慢指针：快指针用于遍历nums，慢指针用于修改nums\n",
    "        slow, fast = 2, 2\n",
    "        while fast < n:\n",
    "            if nums[slow - 2] != nums[fast]:\n",
    "                nums[slow] = nums[fast]\n",
    "                slow += 1\n",
    "            fast += 1\n",
    "        return slow"
   ]
  },
  {
   "cell_type": "code",
   "execution_count": 3,
   "metadata": {},
   "outputs": [
    {
     "name": "stdout",
     "output_type": "stream",
     "text": [
      "5\n",
      "[1, 1, 2, 2, 3, 3]\n"
     ]
    }
   ],
   "source": [
    "nums = [1,1,1,2,2,3]\n",
    "print(Solution().removeDuplicates(nums))\n",
    "print(nums)"
   ]
  },
  {
   "cell_type": "code",
   "execution_count": null,
   "metadata": {},
   "outputs": [],
   "source": []
  }
 ],
 "metadata": {
  "kernelspec": {
   "display_name": "Python 3 (ipykernel)",
   "language": "python",
   "name": "python3"
  },
  "language_info": {
   "codemirror_mode": {
    "name": "ipython",
    "version": 3
   },
   "file_extension": ".py",
   "mimetype": "text/x-python",
   "name": "python",
   "nbconvert_exporter": "python",
   "pygments_lexer": "ipython3",
   "version": "3.8.3"
  }
 },
 "nbformat": 4,
 "nbformat_minor": 4
}
