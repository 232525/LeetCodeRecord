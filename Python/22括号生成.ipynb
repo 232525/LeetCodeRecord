{
 "cells": [
  {
   "cell_type": "code",
   "execution_count": 1,
   "metadata": {},
   "outputs": [],
   "source": [
    "import typing\n",
    "from typing import List"
   ]
  },
  {
   "cell_type": "code",
   "execution_count": 2,
   "metadata": {},
   "outputs": [],
   "source": [
    "class Solution1:\n",
    "    def generateParenthesis(self, n: int) -> List[str]:\n",
    "        def backtrack(_n):\n",
    "            if _n == 2*n:\n",
    "                if cnt[0] > n:\n",
    "                    return\n",
    "                results.append(\"\".join(result))\n",
    "            else:\n",
    "                # 每一步都可以添加左括号或者右括号，但需要判断此时状态是否合法\n",
    "                for _ in [\"(\", \")\"]:\n",
    "                    if _ == \"(\":\n",
    "                        cnt[0] += 1\n",
    "                    else:\n",
    "                        cnt[1] += 1\n",
    "                    # 如果右括号数量大于左括号数量，再往后都非合法组合，直接退出该递归\n",
    "                    if cnt[1] > cnt[0]:\n",
    "                        cnt[1] -= 1\n",
    "                        return\n",
    "                    # 加入当前符号，送入下一步递归\n",
    "                    result.append(_)\n",
    "                    backtrack(_n+1)\n",
    "                    # pop出当前符号\n",
    "                    result.pop()\n",
    "                    # 标志位更新\n",
    "                    if _ == \"(\":\n",
    "                        cnt[0] -= 1\n",
    "                    else:\n",
    "                        cnt[1] -= 1\n",
    "        results = []\n",
    "        result = []\n",
    "        cnt = [0, 0]  # 记录左右括号个数，如果在某一步，出现右括号数 > 左括号数，则为非合法组合，直接退出\n",
    "        backtrack(0)\n",
    "        return results\n",
    "\n",
    "# 简洁写法\n",
    "class Solution:\n",
    "    def generateParenthesis(self, n: int) -> List[str]:\n",
    "        def backtrack(_n, left, right):\n",
    "            if _n == 2*n:\n",
    "                results.append(\"\".join(result))\n",
    "                return\n",
    "            # 左括号小于n，允许加入左括号（即左括号多于等于n时，就不能再加入左括号了）\n",
    "            if left < n:\n",
    "                result.append(\"(\")\n",
    "                backtrack(_n+1, left+1, right)\n",
    "                result.pop()\n",
    "            # 右括号少于左括号，允许加入右括号\n",
    "            # （即当右括号多于等于左括号时，再加入右括号组合就不合法了，因此不能加入右括号）\n",
    "            if right < left:\n",
    "                result.append(\")\")\n",
    "                backtrack(_n+1, left, right+1)\n",
    "                result.pop()\n",
    "            \n",
    "        results = []\n",
    "        result = []\n",
    "        backtrack(0, 0, 0)\n",
    "        return results"
   ]
  },
  {
   "cell_type": "code",
   "execution_count": 5,
   "metadata": {},
   "outputs": [
    {
     "name": "stdout",
     "output_type": "stream",
     "text": [
      "42\n",
      "['((((()))))', '(((()())))', '(((())()))', '(((()))())', '(((())))()', '((()(())))', '((()()()))', '((()())())', '((()()))()', '((())(()))', '((())()())', '((())())()', '((()))(())', '((()))()()', '(()((())))', '(()(()()))', '(()(())())', '(()(()))()', '(()()(()))', '(()()()())', '(()()())()', '(()())(())', '(()())()()', '(())((()))', '(())(()())', '(())(())()', '(())()(())', '(())()()()', '()(((())))', '()((()()))', '()((())())', '()((()))()', '()(()(()))', '()(()()())', '()(()())()', '()(())(())', '()(())()()', '()()((()))', '()()(()())', '()()(())()', '()()()(())', '()()()()()']\n",
      "42\n",
      "['((((()))))', '(((()())))', '(((())()))', '(((()))())', '(((())))()', '((()(())))', '((()()()))', '((()())())', '((()()))()', '((())(()))', '((())()())', '((())())()', '((()))(())', '((()))()()', '(()((())))', '(()(()()))', '(()(())())', '(()(()))()', '(()()(()))', '(()()()())', '(()()())()', '(()())(())', '(()())()()', '(())((()))', '(())(()())', '(())(())()', '(())()(())', '(())()()()', '()(((())))', '()((()()))', '()((())())', '()((()))()', '()(()(()))', '()(()()())', '()(()())()', '()(())(())', '()(())()()', '()()((()))', '()()(()())', '()()(())()', '()()()(())', '()()()()()']\n"
     ]
    }
   ],
   "source": [
    "n = 5\n",
    "results = Solution().generateParenthesis(n)\n",
    "print(len(results))\n",
    "print(results)\n",
    "\n",
    "_results = Solution1().generateParenthesis(n)\n",
    "print(len(_results))\n",
    "print(_results)"
   ]
  },
  {
   "cell_type": "code",
   "execution_count": null,
   "metadata": {},
   "outputs": [],
   "source": []
  }
 ],
 "metadata": {
  "kernelspec": {
   "display_name": "Python 3 (ipykernel)",
   "language": "python",
   "name": "python3"
  },
  "language_info": {
   "codemirror_mode": {
    "name": "ipython",
    "version": 3
   },
   "file_extension": ".py",
   "mimetype": "text/x-python",
   "name": "python",
   "nbconvert_exporter": "python",
   "pygments_lexer": "ipython3",
   "version": "3.8.3"
  }
 },
 "nbformat": 4,
 "nbformat_minor": 4
}
