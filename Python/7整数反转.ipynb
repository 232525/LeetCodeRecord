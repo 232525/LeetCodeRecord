{
 "cells": [
  {
   "cell_type": "code",
   "execution_count": 2,
   "metadata": {},
   "outputs": [],
   "source": [
    "import typing\n",
    "import math"
   ]
  },
  {
   "cell_type": "code",
   "execution_count": 36,
   "metadata": {},
   "outputs": [],
   "source": [
    "class Solution1:\n",
    "    def reverse(self, x: int) -> int:\n",
    "        if x == 0:\n",
    "            return x\n",
    "        \n",
    "        negative = (x < 0)\n",
    "        x = -x if negative else x\n",
    "        \n",
    "        result = 0\n",
    "        while(True):\n",
    "            if x < 10:\n",
    "                result = result * 10 + x\n",
    "                break\n",
    "            _c = int(x % 10)\n",
    "            x = int(x // 10)\n",
    "            result = result * 10 + _c\n",
    "        \n",
    "        # 符号\n",
    "        result = -result if negative else result\n",
    "                \n",
    "        # 特殊情况\n",
    "        # 如此比较似乎不符合题目要求\n",
    "        if result < -2**31 or result > 2**31 - 1:\n",
    "            result = 0\n",
    "        \n",
    "        return int(result)\n",
    "    \n",
    "# NOTE：\n",
    "# Python 与 C++ 负数下的整除与取模运算存在不同（以 -11 / 10 为例）\n",
    "# Python 下：-11 = 10 * (-2) + 9，整除时向 -INF 取整，因此商为 -2，余数为 9 (余数符号与除数相同)\n",
    "# C++ 下：-11 = 10 * (-1) + (-1)，整除时向 0 取整，因此商为 -1，余数为 -1   (余数符号与被除数相同)\n",
    "class Solution:\n",
    "    def reverse(self, x: int) -> int:   \n",
    "        INT_MIN, INT_MAX = -2**31, 2**31 - 1\n",
    "        negative = (x < 0)\n",
    "        \n",
    "        # Python 负数下的整除与取余数操作需要特殊处理\n",
    "        result = 0\n",
    "        while(x != 0):\n",
    "            # Python 负数整除向 -INF 取整，如 -11 // 10 = -2\n",
    "            if result < INT_MIN // 10 + 1 or result > INT_MAX // 10:\n",
    "                return 0\n",
    "            _c = int(x % 10)\n",
    "            # 官方题解\n",
    "            # Python3 的取模运算在 x 为负数时也会返回 [0, 9) 以内的结果，因此这里需要进行特殊判断\n",
    "            if x < 0 and _c > 0:\n",
    "                _c -= 10\n",
    "            # 官方题解\n",
    "            # 同理，Python3 的整数除法在 x 为负数时会向下（更小的负数，-INF）取整，因此不能写成 x //= 10\n",
    "            x = (x - _c) // 10\n",
    "            result = result * 10 + _c\n",
    "        \n",
    "        return int(result)"
   ]
  },
  {
   "cell_type": "code",
   "execution_count": 37,
   "metadata": {},
   "outputs": [
    {
     "name": "stdout",
     "output_type": "stream",
     "text": [
      "0\n"
     ]
    }
   ],
   "source": [
    "x = 2123456789\n",
    "print(Solution().reverse(x))"
   ]
  },
  {
   "cell_type": "code",
   "execution_count": 39,
   "metadata": {},
   "outputs": [
    {
     "name": "stdout",
     "output_type": "stream",
     "text": [
      "-2 9\n"
     ]
    }
   ],
   "source": [
    "print(-11 // 10, -11 % 10)"
   ]
  },
  {
   "cell_type": "code",
   "execution_count": null,
   "metadata": {},
   "outputs": [],
   "source": []
  }
 ],
 "metadata": {
  "kernelspec": {
   "display_name": "Python 3 (ipykernel)",
   "language": "python",
   "name": "python3"
  },
  "language_info": {
   "codemirror_mode": {
    "name": "ipython",
    "version": 3
   },
   "file_extension": ".py",
   "mimetype": "text/x-python",
   "name": "python",
   "nbconvert_exporter": "python",
   "pygments_lexer": "ipython3",
   "version": "3.8.3"
  }
 },
 "nbformat": 4,
 "nbformat_minor": 4
}
