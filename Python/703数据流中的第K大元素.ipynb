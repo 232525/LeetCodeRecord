{
 "cells": [
  {
   "cell_type": "code",
   "execution_count": 1,
   "metadata": {},
   "outputs": [],
   "source": [
    "import typing\n",
    "from typing import List\n",
    "import heapq"
   ]
  },
  {
   "cell_type": "code",
   "execution_count": 2,
   "metadata": {},
   "outputs": [],
   "source": [
    "class KthLargest:\n",
    "    # Python 堆，调用 heapq 库（默认为最小堆）\n",
    "    # import heapq\n",
    "    def __init__(self, k: int, nums: List[int]):\n",
    "        self.k = k\n",
    "        self.nums = []  # 最小堆，堆容量为 k，则堆顶元素极为 第k大 元素\n",
    "        for num in nums:\n",
    "            self.add(num)\n",
    "\n",
    "    def add(self, val: int) -> int:\n",
    "        if len(self.nums) < self.k:\n",
    "            # 堆中元素数量小于 self.k 时，插入元素\n",
    "            heapq.heappush(self.nums, val)\n",
    "        elif val > self.nums[0]:\n",
    "            # 否则，判断新元素是否大于当前堆的最小元素，若大于则弹出当前堆顶元素，压入新元素\n",
    "            heapq.heappop(self.nums)\n",
    "            heapq.heappush(self.nums, val)\n",
    "        # 返回堆顶元素，即为 第k大 元素\n",
    "        return self.nums[0]\n",
    "\n",
    "\n",
    "# Your KthLargest object will be instantiated and called as such:\n",
    "# obj = KthLargest(k, nums)\n",
    "# param_1 = obj.add(val)"
   ]
  },
  {
   "cell_type": "code",
   "execution_count": 3,
   "metadata": {},
   "outputs": [
    {
     "name": "stdout",
     "output_type": "stream",
     "text": [
      "4\n",
      "5\n",
      "5\n",
      "8\n",
      "8\n"
     ]
    }
   ],
   "source": [
    "_ = KthLargest(3, [4, 5, 8, 2])\n",
    "print(_.add(3))\n",
    "print(_.add(5))\n",
    "print(_.add(10))\n",
    "print(_.add(9))\n",
    "print(_.add(4))"
   ]
  },
  {
   "cell_type": "code",
   "execution_count": null,
   "metadata": {},
   "outputs": [],
   "source": []
  }
 ],
 "metadata": {
  "kernelspec": {
   "display_name": "Python 3 (ipykernel)",
   "language": "python",
   "name": "python3"
  },
  "language_info": {
   "codemirror_mode": {
    "name": "ipython",
    "version": 3
   },
   "file_extension": ".py",
   "mimetype": "text/x-python",
   "name": "python",
   "nbconvert_exporter": "python",
   "pygments_lexer": "ipython3",
   "version": "3.8.3"
  }
 },
 "nbformat": 4,
 "nbformat_minor": 4
}
