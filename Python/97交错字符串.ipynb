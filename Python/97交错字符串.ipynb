{
 "cells": [
  {
   "cell_type": "code",
   "execution_count": null,
   "metadata": {},
   "outputs": [],
   "source": [
    "import typing\n",
    "from typing import List"
   ]
  },
  {
   "cell_type": "code",
   "execution_count": 6,
   "metadata": {},
   "outputs": [],
   "source": [
    "# 方法一：超时\n",
    "class Solution:\n",
    "    def isInterleave(self, s1: str, s2: str, s3: str) -> bool:\n",
    "        if len(s1) + len(s2) != len(s3):\n",
    "            return False\n",
    "        if len(s1) + len(s2) == len(s3) == 0:\n",
    "            return True\n",
    "        \n",
    "        n1 = len(s1)\n",
    "        n2 = len(s2)\n",
    "        n3 = len(s3)\n",
    "        \n",
    "        def _isInterleave(ptr1, ptr2, ptr3):\n",
    "            if ptr3 >= n3:\n",
    "                return True\n",
    "            _c1 = s1[ptr1] if ptr1 < n1 else \"\"\n",
    "            _c2 = s2[ptr2] if ptr2 < n2 else \"\"\n",
    "            _c3 = s3[ptr3]\n",
    "            if _c1 == _c3 and _c2 != _c3:\n",
    "                return True and _isInterleave(ptr1 + 1, ptr2, ptr3 + 1)\n",
    "            elif _c1 != _c3 and _c2 == _c3:\n",
    "                return True and _isInterleave(ptr1, ptr2 + 1, ptr3 + 1)\n",
    "            elif _c1 == _c3 and _c2 == _c3:\n",
    "                return True and (_isInterleave(ptr1 + 1, ptr2, ptr3 + 1) or _isInterleave(ptr1, ptr2 + 1, ptr3 + 1))\n",
    "            else:\n",
    "                return False\n",
    "            \n",
    "        return _isInterleave(0, 0, 0)\n",
    "    \n",
    "\n",
    "# 方法二：动态规划\n",
    "class Solution:\n",
    "    def isInterleave(self, s1: str, s2: str, s3: str) -> bool:\n",
    "        if len(s1) + len(s2) != len(s3):\n",
    "            return False\n",
    "        if len(s1) + len(s2) == len(s3) == 0:\n",
    "            return True\n",
    "        \n",
    "        n1 = len(s1)\n",
    "        n2 = len(s2)\n",
    "        n3 = len(s3)\n",
    "        DP = [[-1] * (n1 + 1) for _ in range(n2 + 1)] \n",
    "        DP[0][0] = 0\n",
    "        for i in range(n2 + 1):\n",
    "            for j in range(n1 + 1):\n",
    "                if i == 0 and j == 0:\n",
    "                    continue\n",
    "                left = DP[i][j-1] if j - 1 >= 0 else -1\n",
    "                up   = DP[i-1][j] if i - 1 >= 0 else -1\n",
    "                if left >= 0 and s3[left] == s1[j-1]:\n",
    "                    DP[i][j] = left + 1\n",
    "                if up >= 0 and s3[up] == s2[i-1]:\n",
    "                    DP[i][j] = up + 1\n",
    "                 \n",
    "        return DP[-1][-1] == n3"
   ]
  },
  {
   "cell_type": "code",
   "execution_count": 7,
   "metadata": {},
   "outputs": [
    {
     "name": "stdout",
     "output_type": "stream",
     "text": [
      "True\n"
     ]
    }
   ],
   "source": [
    "s1 = \"aabcc\"\n",
    "s2 = \"dbbca\"\n",
    "s3 = \"aadbbcbcac\"\n",
    "\n",
    "\"\"\"\n",
    "s1 = \"aabcc\" \n",
    "s2 = \"dbbca\"\n",
    "s3 = \"aadbbbaccc\"\n",
    "\n",
    "s1 = \"\"\n",
    "s2 = \"\"\n",
    "s3 = \"\"\n",
    "\"\"\"\n",
    "\n",
    "print(Solution().isInterleave(s1, s2, s3))"
   ]
  },
  {
   "cell_type": "code",
   "execution_count": null,
   "metadata": {},
   "outputs": [],
   "source": []
  }
 ],
 "metadata": {
  "kernelspec": {
   "display_name": "Python 3 (ipykernel)",
   "language": "python",
   "name": "python3"
  },
  "language_info": {
   "codemirror_mode": {
    "name": "ipython",
    "version": 3
   },
   "file_extension": ".py",
   "mimetype": "text/x-python",
   "name": "python",
   "nbconvert_exporter": "python",
   "pygments_lexer": "ipython3",
   "version": "3.8.3"
  }
 },
 "nbformat": 4,
 "nbformat_minor": 4
}
