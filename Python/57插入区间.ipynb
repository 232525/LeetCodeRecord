{
 "cells": [
  {
   "cell_type": "code",
   "execution_count": null,
   "metadata": {},
   "outputs": [],
   "source": [
    "import typing\n",
    "from typing import List"
   ]
  },
  {
   "cell_type": "code",
   "execution_count": 2,
   "metadata": {},
   "outputs": [],
   "source": [
    "# 先插入，再合并\n",
    "class Solution:\n",
    "    def insert(self, intervals: List[List[int]], newInterval: List[int]) -> List[List[int]]:\n",
    "        if not intervals:\n",
    "            return [newInterval]\n",
    "        \n",
    "        # 找到合适的位置，插入 newInterval\n",
    "        idx = 0\n",
    "        for i in range(len(intervals)):\n",
    "            if intervals[i][0] > newInterval[0]:\n",
    "                break\n",
    "            idx += 1\n",
    "            \n",
    "        # 插入 newInterval，得到 _intervals\n",
    "        _intervals = []\n",
    "        if idx != 0:\n",
    "            _intervals += intervals[:idx]\n",
    "        _intervals.append(newInterval)\n",
    "        if idx < len(intervals):\n",
    "            _intervals += intervals[idx:]\n",
    "            \n",
    "        # 调用 merge 函数，得到合并结果\n",
    "        return self.merge(_intervals)\n",
    "    \n",
    "    def merge(self, intervals: List[List[int]]) -> List[List[int]]:\n",
    "        # 先对 intervals 按照左边界进行排序\n",
    "        intervals = sorted(intervals, key=lambda x: x[0])\n",
    "        # print(intervals)\n",
    "        result = []\n",
    "        \n",
    "        pre = intervals[0]\n",
    "        for i in range(1, len(intervals)):\n",
    "            now = intervals[i]\n",
    "            if now[0] >= pre[0] and now[0] <= pre[1]:\n",
    "                pre = [pre[0], max(pre[1], now[1])]\n",
    "            else:\n",
    "                result.append(pre)\n",
    "                pre = now\n",
    "        # 遗漏数据\n",
    "        result.append(pre)\n",
    "        return result\n",
    "    \n",
    "# 插入的同时进行合并\n",
    "class Solution:\n",
    "    def insert(self, intervals: List[List[int]], newInterval: List[int]) -> List[List[int]]:\n",
    "        if not intervals:\n",
    "            return [newInterval]\n",
    "        \n",
    "        result = []\n",
    "        left, right = newInterval\n",
    "        inserted = False  # 标志位，表示newInterval是否已经被插入到结果中\n",
    "        for l, r in intervals:\n",
    "            if left > r: # [l, r] 在 newInterval 左侧且无交集，直接加入 [l, r]\n",
    "                result.append([l, r])\n",
    "            elif right < l: # [l, r] 在 newInterval 右侧且无交集，加入 [left, right] 和 [l, r]，并且标志位置为True\n",
    "                if not inserted:\n",
    "                    result.append([left, right])\n",
    "                    inserted = True\n",
    "                result.append([l, r])\n",
    "            else: # 存在交集，则更新左右边界\n",
    "                left = min(left, l)\n",
    "                right = max(right, r)\n",
    "        \n",
    "        if not inserted:\n",
    "            result.append([left, right])\n",
    "        \n",
    "        return result"
   ]
  },
  {
   "cell_type": "code",
   "execution_count": 3,
   "metadata": {},
   "outputs": [
    {
     "name": "stdout",
     "output_type": "stream",
     "text": [
      "[[1, 2], [3, 10], [12, 16]]\n"
     ]
    }
   ],
   "source": [
    "intervals = [[1,3],[6,9]]\n",
    "newInterval = [2, 5]\n",
    "intervals = [[1,2],[3,5],[6,7],[8,10],[12,16]]\n",
    "newInterval = [4,8]\n",
    "# intervals = [[1,5], [9,11]]\n",
    "# newInterval = [2,7]\n",
    "# intervals = [[1,5]]\n",
    "# newInterval = [0,9]\n",
    "print(Solution().insert(intervals, newInterval))"
   ]
  },
  {
   "cell_type": "code",
   "execution_count": null,
   "metadata": {},
   "outputs": [],
   "source": []
  }
 ],
 "metadata": {
  "kernelspec": {
   "display_name": "Python 3 (ipykernel)",
   "language": "python",
   "name": "python3"
  },
  "language_info": {
   "codemirror_mode": {
    "name": "ipython",
    "version": 3
   },
   "file_extension": ".py",
   "mimetype": "text/x-python",
   "name": "python",
   "nbconvert_exporter": "python",
   "pygments_lexer": "ipython3",
   "version": "3.8.3"
  }
 },
 "nbformat": 4,
 "nbformat_minor": 4
}
