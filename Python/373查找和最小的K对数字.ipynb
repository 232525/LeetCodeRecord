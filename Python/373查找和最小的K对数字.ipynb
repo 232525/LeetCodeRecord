{
 "cells": [
  {
   "cell_type": "code",
   "execution_count": 1,
   "metadata": {},
   "outputs": [],
   "source": [
    "import typing\n",
    "from typing import List\n",
    "import heapq"
   ]
  },
  {
   "cell_type": "code",
   "execution_count": 2,
   "metadata": {},
   "outputs": [],
   "source": [
    "# 使用最大堆，超时\n",
    "class Solution:\n",
    "    def kSmallestPairs(self, nums1: List[int], nums2: List[int], k: int) -> List[List[int]]:\n",
    "        maxHeap = []\n",
    "        m, n = len(nums1), len(nums2)\n",
    "        for i in range(min(k, m)):\n",
    "            num1 = nums1[i]\n",
    "            for j in range(min(k, n)):\n",
    "                num2 = nums2[j]\n",
    "                _sum = num1 + num2\n",
    "                # 使用 heapq 模拟最大堆，因此需要将 _sum 取负数\n",
    "                if len(maxHeap) < k:\n",
    "                    heapq.heappush(maxHeap, (-_sum, [num1, num2]))\n",
    "                elif -maxHeap[0][0] > _sum:\n",
    "                    heapq.heappop(maxHeap)\n",
    "                    heapq.heappush(maxHeap, (-_sum, [num1, num2]))\n",
    "\n",
    "        return [_[1] for _ in maxHeap]\n",
    "    \n",
    "# 使用最小堆\n",
    "class Solution:\n",
    "    def kSmallestPairs(self, nums1: List[int], nums2: List[int], k: int) -> List[List[int]]:\n",
    "        minHeap = []\n",
    "        result = []\n",
    "        m, n = len(nums1), len(nums2)\n",
    "\n",
    "        # 先从 nums1 中选取前 k 个数字，与 nums2 中的第 1 个数字组成 k 个数字对\n",
    "        for i in range(min(k, m)):\n",
    "            heapq.heappush(minHeap, (nums1[i] + nums2[0], i, 0))\n",
    "\n",
    "        while k > 0 and len(minHeap) > 0:\n",
    "            # 每次从最小堆中取出堆顶元素，加入到 result 中\n",
    "            _sum, idx1, idx2 = heapq.heappop(minHeap)\n",
    "            result.append([nums1[idx1], nums2[idx2]])\n",
    "\n",
    "            if idx2 < n - 1:\n",
    "                heapq.heappush(minHeap, (nums1[idx1] + nums2[idx2 + 1], idx1, idx2 + 1))\n",
    "            k -= 1\n",
    "\n",
    "        return result"
   ]
  },
  {
   "cell_type": "code",
   "execution_count": 3,
   "metadata": {},
   "outputs": [
    {
     "name": "stdout",
     "output_type": "stream",
     "text": [
      "[[1, 2], [1, 4], [1, 6]]\n"
     ]
    }
   ],
   "source": [
    "nums1 = [1,7,11]\n",
    "nums2 = [2,4,6]\n",
    "print(Solution().kSmallestPairs(nums1, nums2, 3))"
   ]
  },
  {
   "cell_type": "code",
   "execution_count": null,
   "metadata": {},
   "outputs": [],
   "source": []
  }
 ],
 "metadata": {
  "kernelspec": {
   "display_name": "Python 3 (ipykernel)",
   "language": "python",
   "name": "python3"
  },
  "language_info": {
   "codemirror_mode": {
    "name": "ipython",
    "version": 3
   },
   "file_extension": ".py",
   "mimetype": "text/x-python",
   "name": "python",
   "nbconvert_exporter": "python",
   "pygments_lexer": "ipython3",
   "version": "3.8.3"
  }
 },
 "nbformat": 4,
 "nbformat_minor": 4
}
