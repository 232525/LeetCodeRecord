{
 "cells": [
  {
   "cell_type": "code",
   "execution_count": 1,
   "metadata": {},
   "outputs": [],
   "source": [
    "import typing\n",
    "from typing import List"
   ]
  },
  {
   "cell_type": "code",
   "execution_count": 2,
   "metadata": {},
   "outputs": [],
   "source": [
    "# Definition for a binary tree node.\n",
    "class TreeNode:\n",
    "    def __init__(self, val=0, left=None, right=None):\n",
    "        self.val = val\n",
    "        self.left = left\n",
    "        self.right = right\n",
    "        \n",
    "# 啰嗦版\n",
    "class Solution:\n",
    "    def sumNumbers(self, root: TreeNode) -> int:\n",
    "        ans = 0\n",
    "        return self.dfs(root, 0)\n",
    "\n",
    "    def dfs(self, root, ans):\n",
    "        if root is not None:\n",
    "            ans = ans * 10 + root.val\n",
    "            if root.left is None and root.right is None:\n",
    "                return ans\n",
    "\n",
    "            if root.left:\n",
    "                left_ans = self.dfs(root.left, ans)\n",
    "            else:\n",
    "                left_ans = 0\n",
    "\n",
    "            if root.right:\n",
    "                right_ans = self.dfs(root.right, ans)\n",
    "            else:\n",
    "                right_ans = 0\n",
    "            return left_ans + right_ans\n",
    "        else:\n",
    "            return ans\n",
    "\n",
    "\n",
    "# 简介版：条件合并\n",
    "class Solution:\n",
    "    def sumNumbers(self, root: TreeNode) -> int:\n",
    "        return self.dfs(root, 0)\n",
    "\n",
    "    def dfs(self, root, ans):\n",
    "        if root is None:\n",
    "            return 0\n",
    "\n",
    "        ans = ans * 10 + root.val\n",
    "        if root.left is None and root.right is None:\n",
    "            return ans\n",
    "        else:\n",
    "            return self.dfs(root.left, ans) + self.dfs(root.right, ans)"
   ]
  },
  {
   "cell_type": "code",
   "execution_count": null,
   "metadata": {},
   "outputs": [],
   "source": []
  }
 ],
 "metadata": {
  "kernelspec": {
   "display_name": "Python 3 (ipykernel)",
   "language": "python",
   "name": "python3"
  },
  "language_info": {
   "codemirror_mode": {
    "name": "ipython",
    "version": 3
   },
   "file_extension": ".py",
   "mimetype": "text/x-python",
   "name": "python",
   "nbconvert_exporter": "python",
   "pygments_lexer": "ipython3",
   "version": "3.8.3"
  }
 },
 "nbformat": 4,
 "nbformat_minor": 4
}
