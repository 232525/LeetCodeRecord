{
 "cells": [
  {
   "cell_type": "code",
   "execution_count": 1,
   "metadata": {},
   "outputs": [],
   "source": [
    "import typing\n",
    "from typing import List"
   ]
  },
  {
   "cell_type": "code",
   "execution_count": 2,
   "metadata": {},
   "outputs": [],
   "source": [
    "class Solution:\n",
    "    def merge(self, nums1: List[int], m: int, nums2: List[int], n: int) -> None:\n",
    "        \"\"\"\n",
    "        Do not return anything, modify nums1 in-place instead.\n",
    "        \"\"\"\n",
    "        ptr1 = m - 1\n",
    "        ptr2 = n - 1\n",
    "        ptr = m + n - 1\n",
    "        while ptr >= 0:\n",
    "            # 循环退出条件\n",
    "            if ptr1 < 0:\n",
    "                nums1[:ptr+1] = nums2[:ptr2+1]\n",
    "                break\n",
    "            if ptr2 < 0:\n",
    "                break\n",
    "            \n",
    "            # 放入数据\n",
    "            if nums1[ptr1] > nums2[ptr2]:\n",
    "                nums1[ptr] = nums1[ptr1]\n",
    "                ptr1 -= 1\n",
    "                ptr -= 1\n",
    "            else:\n",
    "                nums1[ptr] = nums2[ptr2]\n",
    "                ptr2 -= 1\n",
    "                ptr -= 1"
   ]
  },
  {
   "cell_type": "code",
   "execution_count": 3,
   "metadata": {},
   "outputs": [
    {
     "name": "stdout",
     "output_type": "stream",
     "text": [
      "[1, 2, 2, 3, 5, 6]\n"
     ]
    }
   ],
   "source": [
    "nums1 = [1,2,3,0,0,0]\n",
    "m = 3\n",
    "nums2 = [2,5,6]\n",
    "n = 3\n",
    "\n",
    "nums1 = [1]\n",
    "m = 1\n",
    "nums2 = []\n",
    "n = 0\n",
    "\n",
    "nums1 = [0]\n",
    "m = 0\n",
    "nums2 = [1]\n",
    "n = 1\n",
    "\n",
    "nums1 = [2,5,6,0,0,0]\n",
    "m = 3\n",
    "nums2 = [1,2,3]\n",
    "n = 3\n",
    "Solution().merge(nums1, m, nums2, n)\n",
    "print(nums1)"
   ]
  },
  {
   "cell_type": "code",
   "execution_count": null,
   "metadata": {},
   "outputs": [],
   "source": []
  }
 ],
 "metadata": {
  "kernelspec": {
   "display_name": "Python 3 (ipykernel)",
   "language": "python",
   "name": "python3"
  },
  "language_info": {
   "codemirror_mode": {
    "name": "ipython",
    "version": 3
   },
   "file_extension": ".py",
   "mimetype": "text/x-python",
   "name": "python",
   "nbconvert_exporter": "python",
   "pygments_lexer": "ipython3",
   "version": "3.8.3"
  }
 },
 "nbformat": 4,
 "nbformat_minor": 4
}
