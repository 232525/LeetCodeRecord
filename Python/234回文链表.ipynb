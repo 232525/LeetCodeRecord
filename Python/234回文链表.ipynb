{
 "cells": [
  {
   "cell_type": "code",
   "execution_count": 1,
   "metadata": {},
   "outputs": [],
   "source": [
    "import typing\n",
    "from typing import List"
   ]
  },
  {
   "cell_type": "code",
   "execution_count": null,
   "metadata": {},
   "outputs": [],
   "source": [
    "# Definition for singly-linked list.\n",
    "class ListNode:\n",
    "    def __init__(self, val=0, next=None):\n",
    "        self.val = val\n",
    "        self.next = next\n",
    "\n",
    "class Solution:\n",
    "    def isPalindrome(self, head: ListNode) -> bool:\n",
    "        # 快慢指针\n",
    "        slow, fast = head, head\n",
    "        while fast is not None:\n",
    "            if fast.next is None:\n",
    "                break\n",
    "            slow = slow.next\n",
    "            fast = fast.next.next\n",
    "        \n",
    "        # 反转后半子链表\n",
    "        tail = self.reverseList(slow)\n",
    "        # 判断 head 和 tail 子链表值是否相同\n",
    "        while slow != tail:\n",
    "            if head.val != tail.val:\n",
    "                return False\n",
    "            head = head.next\n",
    "            tail = tail.next\n",
    "        return head.val == tail.val\n",
    "\n",
    "    def reverseList(self, head):\n",
    "        past = None\n",
    "        cur = head\n",
    "        while cur is not None:\n",
    "            next_ = cur.next\n",
    "            cur.next = past\n",
    "            past = cur\n",
    "            cur = next_\n",
    "        return past"
   ]
  }
 ],
 "metadata": {
  "kernelspec": {
   "display_name": "Python 3 (ipykernel)",
   "language": "python",
   "name": "python3"
  },
  "language_info": {
   "codemirror_mode": {
    "name": "ipython",
    "version": 3
   },
   "file_extension": ".py",
   "mimetype": "text/x-python",
   "name": "python",
   "nbconvert_exporter": "python",
   "pygments_lexer": "ipython3",
   "version": "3.8.3"
  }
 },
 "nbformat": 4,
 "nbformat_minor": 4
}
