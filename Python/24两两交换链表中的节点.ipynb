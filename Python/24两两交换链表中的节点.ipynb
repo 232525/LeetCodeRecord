{
 "cells": [
  {
   "cell_type": "code",
   "execution_count": 1,
   "metadata": {},
   "outputs": [],
   "source": [
    "import typing"
   ]
  },
  {
   "cell_type": "code",
   "execution_count": 9,
   "metadata": {},
   "outputs": [],
   "source": [
    "class ListNode:\n",
    "    def __init__(self, val=0, next=None):\n",
    "        self.val = val\n",
    "        self.next = next\n",
    "\n",
    "class Solution:\n",
    "    def swapPairs(self, head: ListNode) -> ListNode:\n",
    "        if head is None:\n",
    "            return head\n",
    "        \n",
    "        new_head = ListNode(0, head)\n",
    "        left = new_head\n",
    "        right = head\n",
    "        while(right.next is not None):\n",
    "            # 节点交换\n",
    "            left.next = right.next\n",
    "            right.next = right.next.next\n",
    "            left.next.next = right\n",
    "            # right指针需要重置为left.next\n",
    "            right = left.next\n",
    "            # left, right 右移\n",
    "            if right.next.next is None:\n",
    "                break\n",
    "            right = right.next.next\n",
    "            left = left.next.next\n",
    "        return new_head.next"
   ]
  },
  {
   "cell_type": "code",
   "execution_count": 13,
   "metadata": {},
   "outputs": [
    {
     "name": "stdout",
     "output_type": "stream",
     "text": [
      "2 1 3 "
     ]
    }
   ],
   "source": [
    "# head = ListNode(1, ListNode(2, ListNode(3, ListNode(4))))\n",
    "head = ListNode(1, ListNode(2, ListNode(3)))\n",
    "_ = Solution().swapPairs(head)\n",
    "while(_ is not None):\n",
    "    print(_.val, end=\" \")\n",
    "    _ = _.next"
   ]
  },
  {
   "cell_type": "code",
   "execution_count": null,
   "metadata": {},
   "outputs": [],
   "source": []
  }
 ],
 "metadata": {
  "kernelspec": {
   "display_name": "Python 3 (ipykernel)",
   "language": "python",
   "name": "python3"
  },
  "language_info": {
   "codemirror_mode": {
    "name": "ipython",
    "version": 3
   },
   "file_extension": ".py",
   "mimetype": "text/x-python",
   "name": "python",
   "nbconvert_exporter": "python",
   "pygments_lexer": "ipython3",
   "version": "3.8.3"
  }
 },
 "nbformat": 4,
 "nbformat_minor": 4
}
