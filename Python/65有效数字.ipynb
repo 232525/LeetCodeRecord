{
 "cells": [
  {
   "cell_type": "code",
   "execution_count": 1,
   "metadata": {},
   "outputs": [],
   "source": [
    "import typing\n",
    "from typing import List"
   ]
  },
  {
   "cell_type": "code",
   "execution_count": 2,
   "metadata": {},
   "outputs": [],
   "source": [
    "# 有限状态自动机\n",
    "class Solution:\n",
    "    def isNumber(self, s: str) -> bool:\n",
    "        # 状态 和 字符类型\n",
    "        # state = [\"state_begin\", \"state_int_sign\", \"state_int\", \"state_point\", \"state_point_wo_int\", \"state_fraction\", \"state_exp\", \"state_exp_sign\", \"state_exp_int\"]\n",
    "        # char_type = [\"char_sign\", \"char_num\", \"char_point\", \"char_exp\", \"char_illegal\"]\n",
    "        def char2type(ch):\n",
    "            if ch.isdigit():\n",
    "                return \"char_num\"\n",
    "            elif ch.lower() == \"e\":\n",
    "                return \"char_exp\"\n",
    "            elif ch == \".\":\n",
    "                return \"char_point\"\n",
    "            elif ch == \"+\" or ch == \"-\":\n",
    "                return \"char_sign\"\n",
    "            else:\n",
    "                return \"char_illegal\"\n",
    "            \n",
    "        # 状态转移表\n",
    "        transfer = {\n",
    "            \"state_begin\": {\n",
    "                \"char_sign\": \"state_int_sign\",\n",
    "                \"char_num\": \"state_int\",\n",
    "                \"char_point\": \"state_point_wo_int\"\n",
    "            },\n",
    "            \"state_int_sign\": {\n",
    "                \"char_num\": \"state_int\",\n",
    "                \"char_point\": \"state_point_wo_int\"\n",
    "            },\n",
    "            \"state_int\": {\n",
    "                \"char_num\": \"state_int\",\n",
    "                \"char_point\": \"state_point\",\n",
    "                \"char_exp\": \"state_exp\"\n",
    "            },\n",
    "            \"state_point\": {\n",
    "                \"char_num\": \"state_fraction\",\n",
    "                \"char_exp\": \"state_exp\"\n",
    "            },\n",
    "            \"state_point_wo_int\": {\n",
    "                \"char_num\": \"state_fraction\"\n",
    "            },\n",
    "            \"state_fraction\": {\n",
    "                \"char_num\": \"state_fraction\",\n",
    "                \"char_exp\": \"state_exp\"\n",
    "            },\n",
    "            \"state_exp\": {\n",
    "                \"char_num\": \"state_exp_int\",\n",
    "                \"char_sign\": \"state_exp_sign\"\n",
    "            },\n",
    "            \"state_exp_sign\": {\n",
    "                \"char_num\": \"state_exp_int\"\n",
    "            },\n",
    "            \"state_exp_int\": {\n",
    "                \"char_num\": \"state_exp_int\"\n",
    "            }\n",
    "        }\n",
    "        \n",
    "        current_state = \"state_begin\"\n",
    "        for ch in s:\n",
    "            char_type = char2type(ch)\n",
    "            if char_type not in transfer[current_state]:\n",
    "                return False\n",
    "            current_state = transfer[current_state][char_type]\n",
    "        return current_state in [\"state_int\", \"state_point\", \"state_fraction\", \"state_exp_int\"]"
   ]
  },
  {
   "cell_type": "code",
   "execution_count": 3,
   "metadata": {},
   "outputs": [
    {
     "name": "stdout",
     "output_type": "stream",
     "text": [
      "2 True\n",
      "0089 True\n",
      "-0.1 True\n",
      "+3.14 True\n",
      "4. True\n",
      "-.9 True\n",
      "2e10 True\n",
      "-90E3 True\n",
      "3e+7 True\n",
      "+6e-1 True\n",
      "53.5e93 True\n",
      "-123.456e789 True\n",
      "abc False\n",
      "1a False\n",
      "1e False\n",
      "e3 False\n",
      "99e2.5 False\n",
      "--6 False\n",
      "-+3 False\n",
      "95a54e53 False\n"
     ]
    }
   ],
   "source": [
    "legal = [\"2\", \"0089\", \"-0.1\", \"+3.14\", \"4.\", \"-.9\", \"2e10\", \"-90E3\", \"3e+7\", \"+6e-1\", \"53.5e93\", \"-123.456e789\"]\n",
    "illegal = [\"abc\", \"1a\", \"1e\", \"e3\", \"99e2.5\", \"--6\", \"-+3\", \"95a54e53\"]\n",
    "for _ in legal:\n",
    "    print(_, Solution().isNumber(_))\n",
    "    \n",
    "for _ in illegal:\n",
    "    print(_, Solution().isNumber(_))\n",
    "    "
   ]
  },
  {
   "cell_type": "code",
   "execution_count": null,
   "metadata": {},
   "outputs": [],
   "source": []
  }
 ],
 "metadata": {
  "kernelspec": {
   "display_name": "Python 3 (ipykernel)",
   "language": "python",
   "name": "python3"
  },
  "language_info": {
   "codemirror_mode": {
    "name": "ipython",
    "version": 3
   },
   "file_extension": ".py",
   "mimetype": "text/x-python",
   "name": "python",
   "nbconvert_exporter": "python",
   "pygments_lexer": "ipython3",
   "version": "3.8.3"
  }
 },
 "nbformat": 4,
 "nbformat_minor": 4
}
