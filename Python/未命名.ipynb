{
 "cells": [
  {
   "cell_type": "code",
   "execution_count": 1,
   "metadata": {},
   "outputs": [],
   "source": [
    "import typing\n",
    "from typing import List"
   ]
  },
  {
   "cell_type": "code",
   "execution_count": null,
   "metadata": {},
   "outputs": [],
   "source": [
    "# Definition for a binary tree node.\n",
    "# class TreeNode:\n",
    "#     def __init__(self, val=0, left=None, right=None):\n",
    "#         self.val = val\n",
    "#         self.left = left\n",
    "#         self.right = right\n",
    "\n",
    "# 回溯\n",
    "class Solution:\n",
    "    def generateTrees(self, n: int) -> List[TreeNode]:\n",
    "        def backtrack(start_i, end_i):\n",
    "            if start_i > end_i:\n",
    "                return [None, ]\n",
    "            \n",
    "            results = []\n",
    "            for i in range(start_i, end_i+1):\n",
    "                left_trees = backtrack(start_i, i-1)\n",
    "                right_trees = backtrack(i+1, end_i)\n",
    "                for l in left_trees:\n",
    "                    for r in right_trees:\n",
    "                        node = TreeNode(i)\n",
    "                        node.left = l\n",
    "                        node.right = r\n",
    "                        results.append(ndoe)\n",
    "                        # results.append(TreeNode(i, left=l, right=r))\n",
    "            return results\n",
    "\n",
    "        return backtrack(1, n)"
   ]
  }
 ],
 "metadata": {
  "kernelspec": {
   "display_name": "Python 3 (ipykernel)",
   "language": "python",
   "name": "python3"
  },
  "language_info": {
   "codemirror_mode": {
    "name": "ipython",
    "version": 3
   },
   "file_extension": ".py",
   "mimetype": "text/x-python",
   "name": "python",
   "nbconvert_exporter": "python",
   "pygments_lexer": "ipython3",
   "version": "3.8.3"
  }
 },
 "nbformat": 4,
 "nbformat_minor": 4
}
