{
 "cells": [
  {
   "cell_type": "code",
   "execution_count": 1,
   "metadata": {},
   "outputs": [],
   "source": [
    "import typing"
   ]
  },
  {
   "cell_type": "code",
   "execution_count": 2,
   "metadata": {},
   "outputs": [],
   "source": [
    "class Solution:\n",
    "    def romanToInt(self, s: str) -> int:\n",
    "        dict_roman = {\n",
    "            'I': 1, 'IV': 4, 'V': 5, 'IX': 9,\n",
    "            'X': 10, 'XL': 40, 'L': 50, 'XC': 90,\n",
    "            'C': 100, 'CD': 400, 'D': 500, 'CM': 900,\n",
    "            'M': 1000\n",
    "        }\n",
    "        special_roman = ['I', 'X', 'C']\n",
    "        result = 0\n",
    "        idx = 0\n",
    "        while(idx < len(s)):\n",
    "            roman_c = s[idx]\n",
    "            if roman_c in special_roman and s[idx: idx+1+1] in dict_roman:\n",
    "                roman_c = s[idx: idx+1+1]\n",
    "                result += dict_roman[roman_c]\n",
    "                idx += 2\n",
    "                continue\n",
    "            result += dict_roman[roman_c]\n",
    "            idx += 1\n",
    "        return result                "
   ]
  },
  {
   "cell_type": "code",
   "execution_count": 3,
   "metadata": {},
   "outputs": [
    {
     "name": "stdout",
     "output_type": "stream",
     "text": [
      "1994\n"
     ]
    }
   ],
   "source": [
    "s = \"MCMXCIV\"\n",
    "print(Solution().romanToInt(s))"
   ]
  },
  {
   "cell_type": "code",
   "execution_count": null,
   "metadata": {},
   "outputs": [],
   "source": []
  }
 ],
 "metadata": {
  "kernelspec": {
   "display_name": "Python 3 (ipykernel)",
   "language": "python",
   "name": "python3"
  },
  "language_info": {
   "codemirror_mode": {
    "name": "ipython",
    "version": 3
   },
   "file_extension": ".py",
   "mimetype": "text/x-python",
   "name": "python",
   "nbconvert_exporter": "python",
   "pygments_lexer": "ipython3",
   "version": "3.8.3"
  }
 },
 "nbformat": 4,
 "nbformat_minor": 4
}
