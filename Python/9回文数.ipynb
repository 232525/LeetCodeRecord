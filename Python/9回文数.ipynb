{
 "cells": [
  {
   "cell_type": "code",
   "execution_count": 1,
   "metadata": {},
   "outputs": [],
   "source": [
    "import typing"
   ]
  },
  {
   "cell_type": "code",
   "execution_count": 102,
   "metadata": {},
   "outputs": [],
   "source": [
    "class Solution:\n",
    "    def isPalindrome_1(self, x: int) -> bool:\n",
    "        if x < 0:\n",
    "            return False\n",
    "        # 转为字符串处理\n",
    "        str_x = str(x)\n",
    "        left, right = 0, len(str_x) - 1\n",
    "        while(left <= right):\n",
    "            if str_x[left] != str_x[right]:\n",
    "                return False\n",
    "            left += 1\n",
    "            right -= 1\n",
    "        return True\n",
    "    \n",
    "    def isPalindrome(self, x: int) -> bool:\n",
    "        if x < 0:\n",
    "            return False\n",
    "        if x < 10:\n",
    "            return True\n",
    "        \n",
    "        right_x = x % 10\n",
    "        left_x = x // 10\n",
    "        # 末位为0，直接返回False，否则进循环处理\n",
    "        if right_x == 0:\n",
    "            return False\n",
    "        # 循环整除判断\n",
    "        while(left_x > 0):\n",
    "            # right_x // left_x > 999，说明right_x至少比left_x大2个数量级，直接返回False\n",
    "            if right_x // left_x > 999:\n",
    "                return False\n",
    "            if left_x == right_x:\n",
    "                return True\n",
    "            if left_x // 10 == right_x:\n",
    "                return True\n",
    "            \n",
    "            bit = left_x % 10\n",
    "            right_x = right_x * 10 + bit\n",
    "            left_x = left_x // 10\n",
    "        return False"
   ]
  },
  {
   "cell_type": "code",
   "execution_count": 103,
   "metadata": {},
   "outputs": [
    {
     "name": "stdout",
     "output_type": "stream",
     "text": [
      "12 3\n",
      "1 32\n",
      "False\n"
     ]
    }
   ],
   "source": [
    "x = 123\n",
    "print(Solution().isPalindrome(x))"
   ]
  },
  {
   "cell_type": "code",
   "execution_count": 43,
   "metadata": {},
   "outputs": [
    {
     "data": {
      "text/plain": [
       "999"
      ]
     },
     "execution_count": 43,
     "metadata": {},
     "output_type": "execute_result"
    }
   ],
   "source": [
    "9999 // 10"
   ]
  },
  {
   "cell_type": "code",
   "execution_count": null,
   "metadata": {},
   "outputs": [],
   "source": []
  }
 ],
 "metadata": {
  "kernelspec": {
   "display_name": "Python 3 (ipykernel)",
   "language": "python",
   "name": "python3"
  },
  "language_info": {
   "codemirror_mode": {
    "name": "ipython",
    "version": 3
   },
   "file_extension": ".py",
   "mimetype": "text/x-python",
   "name": "python",
   "nbconvert_exporter": "python",
   "pygments_lexer": "ipython3",
   "version": "3.8.3"
  }
 },
 "nbformat": 4,
 "nbformat_minor": 4
}
