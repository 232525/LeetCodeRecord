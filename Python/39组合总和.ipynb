{
 "cells": [
  {
   "cell_type": "code",
   "execution_count": null,
   "metadata": {},
   "outputs": [],
   "source": [
    "import typing\n",
    "from typing import List"
   ]
  },
  {
   "cell_type": "code",
   "execution_count": null,
   "metadata": {},
   "outputs": [],
   "source": [
    "# 比较复杂，考虑不同的判断条件进行递归\n",
    "# 时间复杂度怎么算？？？\n",
    "class Solution:\n",
    "    def combinationSum(self, candidates: List[int], target: int) -> List[List[int]]:\n",
    "        # 先排序\n",
    "        candidates.sort()\n",
    "        res = self._combinationSum(candidates, target)\n",
    "        return res\n",
    "        \n",
    "    def _combinationSum(self, sorted_candidates, target):\n",
    "        # 题目规定 1<=target，及下面判断中的sorted_candidates[-1] == target，可以保证不会出现target == 0 的情况\n",
    "        # 因此该判断条件冗余，可删去\n",
    "        # if target == 0:\n",
    "        #     return []\n",
    "        if len(sorted_candidates) == 1:\n",
    "            # 边界情况，只有一个数\n",
    "            if target % sorted_candidates[0] == 0:\n",
    "                return [[sorted_candidates[0] for i in range(target // sorted_candidates[0])]]\n",
    "            else:\n",
    "                return []\n",
    "        else:\n",
    "            # 一般情况\n",
    "            if sorted_candidates[0] > target:\n",
    "                # target 太小，无解，直接返回\n",
    "                return []\n",
    "            if sorted_candidates[-1] > target:\n",
    "                # 最后一个数大于target，题目规定所有数均大于0，因此该数不可能构成解，直接丢弃\n",
    "                return self._combinationSum(sorted_candidates[:-1], target)\n",
    "            elif sorted_candidates[-1] == target:\n",
    "                # 最后一个数等于target，则继续搜索去除该数后的数字是否能构成别的解，并与[target]本身组合作为最终解\n",
    "                tmp_res = self._combinationSum(sorted_candidates[:-1], target)\n",
    "                tmp_res.append([target])\n",
    "                return tmp_res\n",
    "            else:\n",
    "                # 最后一个数小于target，则需要分情况讨论\n",
    "                tmp_res = []\n",
    "                tmp_res1 = self._combinationSum(sorted_candidates[:-1], target - sorted_candidates[-1])\n",
    "                if tmp_res1:\n",
    "                    tmp_res1 = [_ + [sorted_candidates[-1]] for _ in tmp_res1]\n",
    "                    tmp_res += tmp_res1\n",
    "                tmp_res2 = self._combinationSum(sorted_candidates[:-1], target)\n",
    "                if tmp_res2:\n",
    "                    tmp_res += tmp_res2\n",
    "                tmp_res3 = self._combinationSum(sorted_candidates, target - sorted_candidates[-1])\n",
    "                if tmp_res3:\n",
    "                    # 只有结果中包含sorted_candidates[-1]值的结果，才为非重复结果\n",
    "                    tmp_res3 = [_ + [sorted_candidates[-1]] for _ in tmp_res3 if sorted_candidates[-1] in _]\n",
    "                    tmp_res += tmp_res3\n",
    "                return tmp_res"
   ]
  },
  {
   "cell_type": "code",
   "execution_count": 5,
   "metadata": {},
   "outputs": [
    {
     "name": "stdout",
     "output_type": "stream",
     "text": [
      "[[2, 5], [3, 4], [2, 2, 3], [7]]\n"
     ]
    }
   ],
   "source": [
    "candidates = [2,3,6,7]\n",
    "target = 7\n",
    "# candidates = [2,3,5]\n",
    "# target = 8\n",
    "# candidates = [2]\n",
    "# target = 1\n",
    "candidates = [2, 3, 4, 5, 6, 7]\n",
    "target = 7\n",
    "# candidates = [2]\n",
    "# target = 1\n",
    "print(Solution().combinationSum(candidates, target))"
   ]
  },
  {
   "cell_type": "code",
   "execution_count": null,
   "metadata": {},
   "outputs": [],
   "source": []
  },
  {
   "cell_type": "code",
   "execution_count": null,
   "metadata": {},
   "outputs": [],
   "source": []
  },
  {
   "cell_type": "code",
   "execution_count": null,
   "metadata": {},
   "outputs": [],
   "source": []
  }
 ],
 "metadata": {
  "kernelspec": {
   "display_name": "Python 3 (ipykernel)",
   "language": "python",
   "name": "python3"
  },
  "language_info": {
   "codemirror_mode": {
    "name": "ipython",
    "version": 3
   },
   "file_extension": ".py",
   "mimetype": "text/x-python",
   "name": "python",
   "nbconvert_exporter": "python",
   "pygments_lexer": "ipython3",
   "version": "3.8.3"
  }
 },
 "nbformat": 4,
 "nbformat_minor": 4
}
