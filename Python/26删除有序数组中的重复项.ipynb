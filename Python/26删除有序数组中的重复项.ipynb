{
 "cells": [
  {
   "cell_type": "code",
   "execution_count": 1,
   "metadata": {},
   "outputs": [],
   "source": [
    "import typing\n",
    "from typing import List"
   ]
  },
  {
   "cell_type": "code",
   "execution_count": 2,
   "metadata": {},
   "outputs": [],
   "source": [
    "class Solution:\n",
    "    def removeDuplicates(self, nums: List[int]) -> int:\n",
    "        # 实际上没有这个测试用例也能通过，似乎题目要求里的 0 <= nums.length <= 30000\n",
    "        # 与实际的测试用例不符\n",
    "        if not nums:\n",
    "            return 0\n",
    "        \n",
    "        \"\"\"\n",
    "        # 本质上也是双指针，cnt为慢指针（同时表示解），i为快指针\n",
    "        cnt = 1\n",
    "        current_num = nums[0]\n",
    "        for i in range(1, len(nums)):\n",
    "            if nums[i] != current_num:\n",
    "                current_num = nums[i]\n",
    "                nums[cnt] = current_num\n",
    "                cnt += 1\n",
    "        return cnt\n",
    "        \"\"\"\n",
    "        # 常规写法\n",
    "        slow = 0\n",
    "        fast = 0\n",
    "        while fast < len(nums):\n",
    "            if nums[fast] != nums[slow]:\n",
    "                nums[slow + 1] = nums[fast]\n",
    "                slow += 1\n",
    "            fast += 1\n",
    "            \n",
    "        return slow+1"
   ]
  },
  {
   "cell_type": "code",
   "execution_count": 3,
   "metadata": {},
   "outputs": [
    {
     "name": "stdout",
     "output_type": "stream",
     "text": [
      "6\n",
      "[1, 2, 3, 4, 5, 6, 5, 6]\n"
     ]
    }
   ],
   "source": [
    "nums = [1, 2, 2, 3, 4, 5, 5, 6]\n",
    "print(Solution().removeDuplicates(nums))\n",
    "print(nums)"
   ]
  },
  {
   "cell_type": "code",
   "execution_count": null,
   "metadata": {},
   "outputs": [],
   "source": []
  }
 ],
 "metadata": {
  "kernelspec": {
   "display_name": "Python 3 (ipykernel)",
   "language": "python",
   "name": "python3"
  },
  "language_info": {
   "codemirror_mode": {
    "name": "ipython",
    "version": 3
   },
   "file_extension": ".py",
   "mimetype": "text/x-python",
   "name": "python",
   "nbconvert_exporter": "python",
   "pygments_lexer": "ipython3",
   "version": "3.8.3"
  }
 },
 "nbformat": 4,
 "nbformat_minor": 4
}
