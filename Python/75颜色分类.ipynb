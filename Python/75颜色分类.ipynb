{
 "cells": [
  {
   "cell_type": "code",
   "execution_count": 1,
   "metadata": {},
   "outputs": [],
   "source": [
    "import typing\n",
    "from typing import List"
   ]
  },
  {
   "cell_type": "markdown",
   "metadata": {},
   "source": [
    "这题第一反应没想到什么巧妙的办法，直接看了官方题解"
   ]
  },
  {
   "cell_type": "code",
   "execution_count": 23,
   "metadata": {},
   "outputs": [],
   "source": [
    "# 单指针，记录被移动到头部的数字数量，遍历两次\n",
    "# 第一次将 0 移动到头部，第二次将 1 移动到头部\n",
    "class Solution:\n",
    "    def sortColors(self, nums: List[int]) -> None:\n",
    "        \"\"\"\n",
    "        Do not return anything, modify nums in-place instead.\n",
    "        \"\"\"\n",
    "        ptr = 0\n",
    "        n = len(nums)\n",
    "        # 把所有的 0 移动到头部，记录头部位置\n",
    "        for i, num in enumerate(nums):\n",
    "            if num == 0:\n",
    "                nums[i], nums[ptr] = nums[ptr], nums[i]\n",
    "                ptr += 1\n",
    "            \n",
    "        # 把剩下的所有的 1 移动到头部\n",
    "        for i in range(ptr, n):\n",
    "            if nums[i] == 1:\n",
    "                nums[i], nums[ptr] = nums[ptr], nums[i]\n",
    "                ptr += 1\n",
    "                \n",
    "# 双指针，分别用于交换 0 和 1\n",
    "class Solution:\n",
    "    def sortColors(self, nums: List[int]) -> None:\n",
    "        \"\"\"\n",
    "        Do not return anything, modify nums in-place instead.\n",
    "        \"\"\"\n",
    "        ptr0 = ptr1 = 0\n",
    "        for i, num in enumerate(nums):\n",
    "            if num == 1:\n",
    "                # 把数字 1 移动到头部\n",
    "                nums[i], nums[ptr1] = nums[ptr1], nums[i]\n",
    "                ptr1 += 1\n",
    "            elif num == 0:\n",
    "                # 把数字 0 移动到头部，此处存在两种情况：\n",
    "                # 1、数字 0 后面已经有了一部分已经被移动到头部的连续的 1\n",
    "                # 2、数字 0 后面没有被移动的 1\n",
    "                nums[i], nums[ptr0] = nums[ptr0], nums[i]\n",
    "                if ptr0 < ptr1:\n",
    "                    # 对应情况1，在进行第一次交换后，数字0后的一个1被交换到了位置i，因此需要再次交换，将其放置于连续的1后面\n",
    "                    nums[i], nums[ptr1] = nums[ptr1], nums[i]\n",
    "                ptr0 += 1\n",
    "                # 此处 ptr1 也需要 +1 的原因是：\n",
    "                # 情况1下，第二次交换理应使ptr1 + 1；\n",
    "                # 情况2下，数字0在首位，所以ptr1 必须得大于等于ptr0，因此同步+1\n",
    "                ptr1 += 1"
   ]
  },
  {
   "cell_type": "code",
   "execution_count": 25,
   "metadata": {},
   "outputs": [
    {
     "name": "stdout",
     "output_type": "stream",
     "text": [
      "None\n",
      "[0, 1, 2]\n"
     ]
    }
   ],
   "source": [
    "nums = [2,0,2,1,1,0]\n",
    "nums = [2,0,1]\n",
    "print(Solution().sortColors(nums))\n",
    "print(nums)"
   ]
  },
  {
   "cell_type": "code",
   "execution_count": null,
   "metadata": {},
   "outputs": [],
   "source": []
  },
  {
   "cell_type": "code",
   "execution_count": null,
   "metadata": {},
   "outputs": [],
   "source": []
  }
 ],
 "metadata": {
  "kernelspec": {
   "display_name": "Python 3 (ipykernel)",
   "language": "python",
   "name": "python3"
  },
  "language_info": {
   "codemirror_mode": {
    "name": "ipython",
    "version": 3
   },
   "file_extension": ".py",
   "mimetype": "text/x-python",
   "name": "python",
   "nbconvert_exporter": "python",
   "pygments_lexer": "ipython3",
   "version": "3.8.3"
  }
 },
 "nbformat": 4,
 "nbformat_minor": 4
}
