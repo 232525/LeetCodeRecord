{
 "cells": [
  {
   "cell_type": "code",
   "execution_count": 1,
   "metadata": {},
   "outputs": [],
   "source": [
    "import typing\n",
    "from typing import List"
   ]
  },
  {
   "cell_type": "code",
   "execution_count": 4,
   "metadata": {},
   "outputs": [],
   "source": [
    "class Solution:\n",
    "    def threeSumClosest(self, nums: List[int], target: int) -> int:\n",
    "        len_nums = len(nums)\n",
    "        # 排序\n",
    "        sorted_nums = sorted(nums)\n",
    "        \n",
    "        result = None\n",
    "        result_abs = None\n",
    "        # 一层循环 + 双指针\n",
    "        for center, num in enumerate(nums):\n",
    "            c_num = sorted_nums[center]\n",
    "            left = center - 1\n",
    "            right = center + 1\n",
    "            # 双指针退出条件是否可以优化？？？\n",
    "            while(left >= 0 and right < len_nums):\n",
    "                if result is None:\n",
    "                    result = sorted_nums[left] + c_num + sorted_nums[right]\n",
    "                    result_abs = abs(result - target)\n",
    "                    continue\n",
    "                tmp_sum = sorted_nums[left] + c_num + sorted_nums[right]\n",
    "                if abs(tmp_sum - target) < result_abs:\n",
    "                    result = tmp_sum\n",
    "                    result_abs = abs(result - target)\n",
    "                # 双指针移动\n",
    "                if tmp_sum < target:\n",
    "                    right += 1\n",
    "                elif tmp_sum > target:\n",
    "                    left -= 1\n",
    "                else:\n",
    "                    # 直接返回结果\n",
    "                    return tmp_sum\n",
    "        return result"
   ]
  },
  {
   "cell_type": "code",
   "execution_count": 6,
   "metadata": {},
   "outputs": [
    {
     "name": "stdout",
     "output_type": "stream",
     "text": [
      "0\n"
     ]
    }
   ],
   "source": [
    "nums = [-1,2,1,-4]\n",
    "target = 1\n",
    "nums = [0,0,0]\n",
    "target = 1\n",
    "print(Solution().threeSumClosest(nums, target))"
   ]
  },
  {
   "cell_type": "code",
   "execution_count": null,
   "metadata": {},
   "outputs": [],
   "source": []
  }
 ],
 "metadata": {
  "kernelspec": {
   "display_name": "Python 3 (ipykernel)",
   "language": "python",
   "name": "python3"
  },
  "language_info": {
   "codemirror_mode": {
    "name": "ipython",
    "version": 3
   },
   "file_extension": ".py",
   "mimetype": "text/x-python",
   "name": "python",
   "nbconvert_exporter": "python",
   "pygments_lexer": "ipython3",
   "version": "3.8.3"
  }
 },
 "nbformat": 4,
 "nbformat_minor": 4
}
