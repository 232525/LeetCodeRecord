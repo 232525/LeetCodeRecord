{
 "cells": [
  {
   "cell_type": "code",
   "execution_count": 31,
   "metadata": {},
   "outputs": [],
   "source": [
    "import typing\n",
    "from typing import List\n",
    "\n",
    "# 直接两层循环\n",
    "def twoSum_1(nums: List[int], target: int) -> List[int]:\n",
    "    for _idx1, _1 in enumerate(nums):\n",
    "        _target_2 = target - _1\n",
    "        for _idx2, _2 in enumerate(nums):\n",
    "            if _idx2 == _idx1:\n",
    "                continue\n",
    "            else:\n",
    "                if _2 == _target_2:\n",
    "                    _res = [_idx1, _idx2]\n",
    "                    print(_res)\n",
    "                    return\n",
    "                \n",
    "def twoSum_2(nums: List[int], target: int) -> List[int]:\n",
    "    # 先存储所有的数据，按照dict组织\n",
    "    _dict_nums = {}\n",
    "    for _idx, _num in enumerate(nums):\n",
    "        if _num not in _dict_nums:\n",
    "            _dict_nums[_num] = [_idx]\n",
    "        else:\n",
    "            _dict_nums[_num] += [_idx]\n",
    "        \n",
    "    for idx, _num in enumerate(nums):\n",
    "        _target = target - _num\n",
    "        if _target in _dict_nums:\n",
    "            for _idx in _dict_nums[_target]:\n",
    "                if _idx != idx:\n",
    "                    _res = [idx, _idx]\n",
    "                    return _res\n",
    "                \n",
    "def twoSum(nums: List[int], target: int) -> List[int]:\n",
    "    # 存储已经遍历的数据下标，{num: index}\n",
    "    _left_data = {}\n",
    "    for idx, num in enumerate(nums):\n",
    "        num2 = target - num\n",
    "        # 如果num2已经存在于已遍历数据中，则输出结果\n",
    "        if num2 in _left_data:\n",
    "            return [_left_data[num2], idx]\n",
    "        # 否则将其存储进_left_data中\n",
    "        _left_data[num] = idx\n",
    "    return []"
   ]
  },
  {
   "cell_type": "code",
   "execution_count": 32,
   "metadata": {},
   "outputs": [
    {
     "data": {
      "text/plain": [
       "[0, 1]"
      ]
     },
     "execution_count": 32,
     "metadata": {},
     "output_type": "execute_result"
    }
   ],
   "source": [
    "twoSum([2,7,11,15], 9)"
   ]
  },
  {
   "cell_type": "code",
   "execution_count": null,
   "metadata": {},
   "outputs": [],
   "source": []
  },
  {
   "cell_type": "code",
   "execution_count": null,
   "metadata": {},
   "outputs": [],
   "source": []
  }
 ],
 "metadata": {
  "kernelspec": {
   "display_name": "Python 3 (ipykernel)",
   "language": "python",
   "name": "python3"
  },
  "language_info": {
   "codemirror_mode": {
    "name": "ipython",
    "version": 3
   },
   "file_extension": ".py",
   "mimetype": "text/x-python",
   "name": "python",
   "nbconvert_exporter": "python",
   "pygments_lexer": "ipython3",
   "version": "3.8.3"
  }
 },
 "nbformat": 4,
 "nbformat_minor": 4
}
