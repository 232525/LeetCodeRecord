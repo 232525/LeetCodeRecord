{
 "cells": [
  {
   "cell_type": "code",
   "execution_count": 1,
   "metadata": {},
   "outputs": [],
   "source": [
    "import typing\n",
    "from typing import List"
   ]
  },
  {
   "cell_type": "code",
   "execution_count": null,
   "metadata": {},
   "outputs": [],
   "source": [
    "# Definition for singly-linked list.\n",
    "class ListNode:\n",
    "    def __init__(self, val=0, next=None):\n",
    "        self.val = val\n",
    "        self.next = next\n",
    "\n",
    "class Solution:\n",
    "    def reorderList(self, head: ListNode) -> None:\n",
    "        \"\"\"\n",
    "        Do not return anything, modify head in-place instead.\n",
    "        \"\"\"\n",
    "        slow, fast = head, head\n",
    "        while fast is not None:\n",
    "            if fast.next is None:\n",
    "                break\n",
    "            # 注意此处节点移动，在 if 语句之后\n",
    "            slow = slow.next\n",
    "            fast = fast.next.next\n",
    "\n",
    "        # 此时 slow 位于中间节点，fast 位于末尾节点\n",
    "        # 反转 slow -> fast 之间的子链表\n",
    "        tail = self.reverseList(slow)\n",
    "        slow.next = None\n",
    "        # 指针链接变换\n",
    "        while slow != tail:\n",
    "            tmp1 = head.next\n",
    "            head.next = tail\n",
    "            head = tmp1\n",
    "\n",
    "            tmp2 = tail.next\n",
    "            tail.next = head\n",
    "            tail = tmp2\n",
    "\n",
    "    def reverseList(self, head):\n",
    "        past = None\n",
    "        cur = head\n",
    "        while cur is not None:\n",
    "            next_ = cur.next\n",
    "            cur.next = past\n",
    "            past = cur\n",
    "            cur = next_\n",
    "\n",
    "        return past"
   ]
  }
 ],
 "metadata": {
  "kernelspec": {
   "display_name": "Python 3 (ipykernel)",
   "language": "python",
   "name": "python3"
  },
  "language_info": {
   "codemirror_mode": {
    "name": "ipython",
    "version": 3
   },
   "file_extension": ".py",
   "mimetype": "text/x-python",
   "name": "python",
   "nbconvert_exporter": "python",
   "pygments_lexer": "ipython3",
   "version": "3.8.3"
  }
 },
 "nbformat": 4,
 "nbformat_minor": 4
}
