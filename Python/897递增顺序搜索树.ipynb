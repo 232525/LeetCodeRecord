{
 "cells": [
  {
   "cell_type": "code",
   "execution_count": 1,
   "metadata": {},
   "outputs": [],
   "source": [
    "import typing\n",
    "from typing import List, Optional"
   ]
  },
  {
   "cell_type": "code",
   "execution_count": null,
   "metadata": {},
   "outputs": [],
   "source": [
    "# Definition for a binary tree node.\n",
    "class TreeNode:\n",
    "    def __init__(self, val=0, left=None, right=None):\n",
    "        self.val = val\n",
    "        self.left = left\n",
    "        self.right = right\n",
    "\n",
    "# 中序遍历：迭代实现\n",
    "class Solution:\n",
    "    def increasingBST(self, root: TreeNode) -> TreeNode:\n",
    "        # 需要 如下信息 表明当前节点、上一节点及变换后的第一个节点位置\n",
    "        prevNode = None\n",
    "        currNode = root\n",
    "        firstNode = None\n",
    "\n",
    "        stack = []\n",
    "        # 中序遍历 迭代实现\n",
    "        while currNode is not None or len(stack) > 0:\n",
    "            # 该 while 第一次循环后找到的即为 左下角的 节点\n",
    "            while currNode is not None:\n",
    "                stack.append(currNode)\n",
    "                currNode = currNode.left\n",
    "\n",
    "            currNode = stack.pop()\n",
    "            if prevNode is not None:\n",
    "                prevNode.right = currNode\n",
    "            else:\n",
    "                firstNode = currNode\n",
    "            prevNode = currNode\n",
    "            prevNode.left = None\n",
    "            currNode = currNode.right\n",
    "\n",
    "        return firstNode\n",
    "        \n",
    "# 中序遍历：递归实现\n",
    "class Solution:\n",
    "    def __init__(self, ):\n",
    "        self.dummy = TreeNode(0)  # 需要创建一个辅助节点\n",
    "        self.curr = self.dummy\n",
    "\n",
    "    def increasingBST(self, root: TreeNode) -> TreeNode:\n",
    "        self.dfs(root)\n",
    "        return self.dummy.right\n",
    "    \n",
    "    def dfs(self, root):\n",
    "        if root is None:\n",
    "            return\n",
    "        \n",
    "        # 递归调用，左子树\n",
    "        self.dfs(root.left)\n",
    "        # 访问 根节点，变为为对根节点的指针指向修改\n",
    "        self.curr.right = root\n",
    "        root.left = None\n",
    "        self.curr = self.curr.right\n",
    "        # 递归调用，右子树\n",
    "        self.dfs(root.right)"
   ]
  }
 ],
 "metadata": {
  "kernelspec": {
   "display_name": "Python 3 (ipykernel)",
   "language": "python",
   "name": "python3"
  },
  "language_info": {
   "codemirror_mode": {
    "name": "ipython",
    "version": 3
   },
   "file_extension": ".py",
   "mimetype": "text/x-python",
   "name": "python",
   "nbconvert_exporter": "python",
   "pygments_lexer": "ipython3",
   "version": "3.8.3"
  }
 },
 "nbformat": 4,
 "nbformat_minor": 4
}
