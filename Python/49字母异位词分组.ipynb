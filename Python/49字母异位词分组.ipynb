{
 "cells": [
  {
   "cell_type": "code",
   "execution_count": 2,
   "metadata": {},
   "outputs": [],
   "source": [
    "import typing\n",
    "from typing import List"
   ]
  },
  {
   "cell_type": "code",
   "execution_count": 9,
   "metadata": {},
   "outputs": [],
   "source": [
    "class Solution:\n",
    "    def groupAnagrams(self, strs: List[str]) -> List[List[str]]:\n",
    "        word_dict = {}\n",
    "        for word in strs:\n",
    "            # 首先按照字母序对word重新排序，然后加入到word_dict中\n",
    "            letter_word = [_ for _ in word]\n",
    "            letter_word.sort()\n",
    "            sorted_word = \"\".join(letter_word)\n",
    "            if sorted_word not in word_dict:\n",
    "                word_dict[sorted_word] = [word]\n",
    "            else:\n",
    "                word_dict[sorted_word].append(word)\n",
    "        result = [v for k, v in word_dict.items()]\n",
    "        return result\n",
    "    \n",
    "# 剑指offer II 题解\n",
    "# 把每一个字母映射为一个质数，把单词中所有字母对应质数相乘\n",
    "# Note：如果单词非常长，有可能出现乘法溢出\n",
    "class Solution:\n",
    "    def groupAnagrams(self, strs: List[str]) -> List[List[str]]:\n",
    "        char2num = [2, 3, 5, 7, 11, 13, 17, 19, 23, 29, 31, 37, 41, 43, 47, 53, 59, 61, 67, 71, 73, 79, 83, 89, 97, 101]\n",
    "        hash_map = {}\n",
    "        for word in strs:\n",
    "            key = 1\n",
    "            for char in word:\n",
    "                key *= char2num[ord(char) - ord('a')]\n",
    "            if key not in hash_map:\n",
    "                hash_map[key] = [word]\n",
    "            else:\n",
    "                hash_map[key].append(word)\n",
    "        result = [v for k, v in hash_map.items()]\n",
    "        return result"
   ]
  },
  {
   "cell_type": "code",
   "execution_count": 10,
   "metadata": {},
   "outputs": [
    {
     "name": "stdout",
     "output_type": "stream",
     "text": [
      "[['a']]\n"
     ]
    }
   ],
   "source": [
    "strs = [\"eat\", \"tea\", \"tan\", \"ate\", \"nat\", \"bat\"]\n",
    "strs = [\"\"]\n",
    "strs = [\"a\"]\n",
    "print(Solution().groupAnagrams(strs))"
   ]
  },
  {
   "cell_type": "code",
   "execution_count": null,
   "metadata": {},
   "outputs": [],
   "source": []
  }
 ],
 "metadata": {
  "kernelspec": {
   "display_name": "Python 3 (ipykernel)",
   "language": "python",
   "name": "python3"
  },
  "language_info": {
   "codemirror_mode": {
    "name": "ipython",
    "version": 3
   },
   "file_extension": ".py",
   "mimetype": "text/x-python",
   "name": "python",
   "nbconvert_exporter": "python",
   "pygments_lexer": "ipython3",
   "version": "3.8.3"
  }
 },
 "nbformat": 4,
 "nbformat_minor": 4
}
