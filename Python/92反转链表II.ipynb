{
 "cells": [
  {
   "cell_type": "code",
   "execution_count": null,
   "metadata": {},
   "outputs": [],
   "source": [
    "import typing\n",
    "from typing import List"
   ]
  },
  {
   "cell_type": "code",
   "execution_count": 2,
   "metadata": {},
   "outputs": [],
   "source": [
    "# Definition for singly-linked list.\n",
    "class ListNode:\n",
    "    def __init__(self, val=0, next=None):\n",
    "        self.val = val\n",
    "        self.next = next\n",
    "\n",
    "class Solution:\n",
    "    def reverseBetween(self, head: ListNode, left: int, right: int) -> ListNode:\n",
    "        if left == right:\n",
    "            return head\n",
    "            \n",
    "        new_head = ListNode(0, head)\n",
    "        pre_left_ptr = pre_right_ptr = new_head\n",
    "        left_ptr = right_ptr = head\n",
    "        \n",
    "        cnt = 0\n",
    "        stack = []\n",
    "        # 节点入栈\n",
    "        while right_ptr is not None:\n",
    "            cnt += 1\n",
    "            if cnt < left:\n",
    "                pre_left_ptr = left_ptr\n",
    "                left_ptr = left_ptr.next\n",
    "                pre_right_ptr = right_ptr\n",
    "                right_ptr = right_ptr.next\n",
    "                continue\n",
    "            if cnt < right:\n",
    "                stack.append(right_ptr)\n",
    "                pre_right_ptr = right_ptr\n",
    "                right_ptr = right_ptr.next\n",
    "            else:\n",
    "                stack.append(right_ptr)\n",
    "                break\n",
    "        \n",
    "        # 反转栈中的链表节点\n",
    "        final_tail = right_ptr.next\n",
    "        pre_left_ptr.next = right_ptr\n",
    "        stack.pop()\n",
    "        while len(stack) > 0:\n",
    "            right_ptr.next = stack[-1]\n",
    "            right_ptr = right_ptr.next\n",
    "            stack.pop()\n",
    "        right_ptr.next = final_tail\n",
    "        return new_head.next"
   ]
  },
  {
   "cell_type": "code",
   "execution_count": 3,
   "metadata": {},
   "outputs": [
    {
     "name": "stdout",
     "output_type": "stream",
     "text": [
      "5 4 3 2 1 "
     ]
    }
   ],
   "source": [
    "head = [1,2,3,4,5]\n",
    "head = ListNode(1, ListNode(2, ListNode(3, ListNode(4, ListNode(5)))))\n",
    "left = 1\n",
    "right = 5\n",
    "# head = ListNode(5, ListNode(3))\n",
    "# left = 1\n",
    "# right = 2\n",
    "_ = Solution().reverseBetween(head, left, right)\n",
    "while _ is not None:\n",
    "    print(_.val, end=\" \")\n",
    "    _ = _.next"
   ]
  },
  {
   "cell_type": "code",
   "execution_count": null,
   "metadata": {},
   "outputs": [],
   "source": []
  },
  {
   "cell_type": "code",
   "execution_count": null,
   "metadata": {},
   "outputs": [],
   "source": []
  }
 ],
 "metadata": {
  "kernelspec": {
   "display_name": "Python 3 (ipykernel)",
   "language": "python",
   "name": "python3"
  },
  "language_info": {
   "codemirror_mode": {
    "name": "ipython",
    "version": 3
   },
   "file_extension": ".py",
   "mimetype": "text/x-python",
   "name": "python",
   "nbconvert_exporter": "python",
   "pygments_lexer": "ipython3",
   "version": "3.8.3"
  }
 },
 "nbformat": 4,
 "nbformat_minor": 4
}
