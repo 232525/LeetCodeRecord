{
 "cells": [
  {
   "cell_type": "code",
   "execution_count": 2,
   "metadata": {},
   "outputs": [],
   "source": [
    "import typing\n",
    "from typing import List"
   ]
  },
  {
   "cell_type": "code",
   "execution_count": 5,
   "metadata": {},
   "outputs": [],
   "source": [
    "class Solution:\n",
    "    def myPow(self, x: float, n: int) -> float:\n",
    "        # 特殊情况，直接输出\n",
    "        if n == 0 or x == 1:\n",
    "            return 1.\n",
    "        \n",
    "        negetive = False\n",
    "        if n < 0:\n",
    "            n = -n\n",
    "            negetive = True\n",
    "        # core\n",
    "        x = self._pow(x, x, n, 1)\n",
    "        # 负数幂\n",
    "        if negetive:\n",
    "            x = 1. / x\n",
    "        return x\n",
    "        \n",
    "    def _pow(self, x, _x, n, _n):\n",
    "        # 快速乘\n",
    "        while _n * 2 < n and _n > 0:\n",
    "            _x = _x * _x\n",
    "            _n = _n * 2\n",
    "        if n - _n > 0:\n",
    "            _x *= self._pow(x, x, n - _n, 1)\n",
    "        return _x\n",
    "\n",
    "# 迭代实现（官方题解）\n",
    "# 基于十进制数值的二进制拆分\n",
    "class Solution:\n",
    "    def myPow(self, x: float, n: int) -> float:\n",
    "        def quickMul(N):\n",
    "            ans = 1.0\n",
    "            # 贡献的初始值为 x\n",
    "            x_contribute = x\n",
    "            # 在对 N 进行二进制拆分的同时计算答案\n",
    "            # while循环，逐步计算 x, x^2, x^4, x^8, x^16, x^32 ... \n",
    "            # 其中 if 判断，则基于二进制拆分判断何时将 contribute 数值乘入 ans 中\n",
    "            while N > 0:\n",
    "                if N % 2 == 1:\n",
    "                    # 如果 N 二进制表示的最低位为 1，那么需要计入贡献\n",
    "                    ans *= x_contribute\n",
    "                # 将贡献不断地平方\n",
    "                x_contribute *= x_contribute\n",
    "                # 舍弃 N 二进制表示的最低位，这样我们每次只要判断最低位即可\n",
    "                N //= 2\n",
    "            return ans\n",
    "        \n",
    "        return quickMul(n) if n >= 0 else 1.0 / quickMul(-n)"
   ]
  },
  {
   "cell_type": "code",
   "execution_count": 6,
   "metadata": {},
   "outputs": [
    {
     "name": "stdout",
     "output_type": "stream",
     "text": [
      "0.25\n"
     ]
    }
   ],
   "source": [
    "print(Solution().myPow(2, -2))"
   ]
  },
  {
   "cell_type": "code",
   "execution_count": null,
   "metadata": {},
   "outputs": [],
   "source": []
  },
  {
   "cell_type": "code",
   "execution_count": null,
   "metadata": {},
   "outputs": [],
   "source": []
  },
  {
   "cell_type": "code",
   "execution_count": null,
   "metadata": {},
   "outputs": [],
   "source": []
  }
 ],
 "metadata": {
  "kernelspec": {
   "display_name": "Python 3 (ipykernel)",
   "language": "python",
   "name": "python3"
  },
  "language_info": {
   "codemirror_mode": {
    "name": "ipython",
    "version": 3
   },
   "file_extension": ".py",
   "mimetype": "text/x-python",
   "name": "python",
   "nbconvert_exporter": "python",
   "pygments_lexer": "ipython3",
   "version": "3.8.3"
  }
 },
 "nbformat": 4,
 "nbformat_minor": 4
}
