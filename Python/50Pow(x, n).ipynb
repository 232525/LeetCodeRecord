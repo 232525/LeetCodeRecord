{
 "cells": [
  {
   "cell_type": "code",
   "execution_count": 2,
   "metadata": {},
   "outputs": [],
   "source": [
    "import typing\n",
    "from typing import List"
   ]
  },
  {
   "cell_type": "code",
   "execution_count": 20,
   "metadata": {},
   "outputs": [],
   "source": [
    "class Solution:\n",
    "    def myPow(self, x: float, n: int) -> float:\n",
    "        # 特殊情况，直接输出\n",
    "        if n == 0 or x == 1:\n",
    "            return 1.\n",
    "        \n",
    "        negetive = False\n",
    "        if n < 0:\n",
    "            n = -n\n",
    "            negetive = True\n",
    "        # core\n",
    "        x = self._pow(x, x, n, 1)\n",
    "        # 负数幂\n",
    "        if negetive:\n",
    "            x = 1. / x\n",
    "        return x\n",
    "        \n",
    "    def _pow(self, x, _x, n, _n):\n",
    "        # 快速乘\n",
    "        while _n * 2 < n and _n > 0:\n",
    "            _x = _x * _x\n",
    "            _n = _n * 2\n",
    "        if n - _n > 0:\n",
    "            _x *= self._pow(x, x, n - _n, 1)\n",
    "        return _x"
   ]
  },
  {
   "cell_type": "code",
   "execution_count": 28,
   "metadata": {},
   "outputs": [
    {
     "name": "stdout",
     "output_type": "stream",
     "text": [
      "0.25\n"
     ]
    }
   ],
   "source": [
    "print(Solution().myPow(2, -2))"
   ]
  },
  {
   "cell_type": "code",
   "execution_count": null,
   "metadata": {},
   "outputs": [],
   "source": []
  },
  {
   "cell_type": "code",
   "execution_count": null,
   "metadata": {},
   "outputs": [],
   "source": []
  }
 ],
 "metadata": {
  "kernelspec": {
   "display_name": "Python 3 (ipykernel)",
   "language": "python",
   "name": "python3"
  },
  "language_info": {
   "codemirror_mode": {
    "name": "ipython",
    "version": 3
   },
   "file_extension": ".py",
   "mimetype": "text/x-python",
   "name": "python",
   "nbconvert_exporter": "python",
   "pygments_lexer": "ipython3",
   "version": "3.8.3"
  }
 },
 "nbformat": 4,
 "nbformat_minor": 4
}
