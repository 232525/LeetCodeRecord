{
 "cells": [
  {
   "cell_type": "code",
   "execution_count": 1,
   "metadata": {},
   "outputs": [],
   "source": [
    "import typing\n",
    "from typing import List"
   ]
  },
  {
   "cell_type": "code",
   "execution_count": 2,
   "metadata": {},
   "outputs": [],
   "source": [
    "# 滑动窗口，使用 哈希表 判断是否包含全部字符\n",
    "class Solution:\n",
    "    def minWindow(self, s: str, t: str) -> str:\n",
    "        len_s, len_t = len(s), len(t)\n",
    "        \n",
    "        # dict_t: 记录字符串 t 的所有字符的数量信息\n",
    "        # dict_s: 滑动窗口内的字符数量信息\n",
    "        dict_t = {}\n",
    "        dict_s = {}\n",
    "        for ch in t:\n",
    "            if ch not in dict_t:\n",
    "                dict_t[ch] = 1\n",
    "                dict_s[ch] = 0\n",
    "            else:\n",
    "                dict_t[ch] += 1\n",
    "        \n",
    "        # 判断滑动窗口内是否包含字符串 t 的所有字符\n",
    "        def check():\n",
    "            for ch in dict_s:\n",
    "                if dict_s[ch] < dict_t[ch]:\n",
    "                    return False\n",
    "            return True\n",
    "        \n",
    "        left, right = 0, 0  # 滑动窗口的左右指针\n",
    "        ans_left = -1        # 解的左指针\n",
    "        ans_len = 10e6       # 解的长度\n",
    "        while right < len_s:\n",
    "            if s[right] in dict_s:\n",
    "                dict_s[s[right]] += 1\n",
    "            print(s[left:right+1], dict_s, dict_t)\n",
    "            while check() and left <= right:\n",
    "                print(s[left:right+1], left, right, ans_len)\n",
    "                if right - left + 1 < ans_len:\n",
    "                    ans_len = right - left + 1\n",
    "                    ans_left = left\n",
    "                    # 如果 ans_len == len_t，结果不可能更短，可以直接输出\n",
    "                    if ans_len == len_t:\n",
    "                        return s[ans_left : ans_left + ans_len]\n",
    "                if s[left] in dict_s:\n",
    "                    dict_s[s[left]] -= 1\n",
    "                left += 1\n",
    "            right += 1\n",
    "                    \n",
    "        return \"\" if ans_left == -1 else s[ans_left : ans_left + ans_len]"
   ]
  },
  {
   "cell_type": "code",
   "execution_count": 3,
   "metadata": {},
   "outputs": [
    {
     "name": "stdout",
     "output_type": "stream",
     "text": [
      "b {'a': 0} {'a': 2}\n",
      "ba {'a': 1} {'a': 2}\n",
      "baa {'a': 2} {'a': 2}\n",
      "baa 0 2 10000000.0\n",
      "aa 1 2 3\n",
      ">> aa\n"
     ]
    }
   ],
   "source": [
    "s = \"ADOBECODEBANC\"\n",
    "t = \"ABC\"\n",
    "s = \"abacc\"\n",
    "t = \"aa\"\n",
    "s = \"baab\"\n",
    "t = \"aa\"\n",
    "print(\">>\", Solution().minWindow(s, t))"
   ]
  },
  {
   "cell_type": "code",
   "execution_count": null,
   "metadata": {},
   "outputs": [],
   "source": []
  },
  {
   "cell_type": "code",
   "execution_count": null,
   "metadata": {},
   "outputs": [],
   "source": []
  }
 ],
 "metadata": {
  "kernelspec": {
   "display_name": "Python 3 (ipykernel)",
   "language": "python",
   "name": "python3"
  },
  "language_info": {
   "codemirror_mode": {
    "name": "ipython",
    "version": 3
   },
   "file_extension": ".py",
   "mimetype": "text/x-python",
   "name": "python",
   "nbconvert_exporter": "python",
   "pygments_lexer": "ipython3",
   "version": "3.8.3"
  }
 },
 "nbformat": 4,
 "nbformat_minor": 4
}
