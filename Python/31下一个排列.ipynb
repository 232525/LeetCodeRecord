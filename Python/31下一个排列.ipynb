{
 "cells": [
  {
   "cell_type": "code",
   "execution_count": 1,
   "metadata": {},
   "outputs": [],
   "source": [
    "import typing\n",
    "from typing import List"
   ]
  },
  {
   "cell_type": "code",
   "execution_count": 42,
   "metadata": {},
   "outputs": [],
   "source": [
    "class Solution:\n",
    "    def nextPermutation(self, nums: List[int]) -> None:\n",
    "        \"\"\"\n",
    "        Do not return anything, modify nums in-place instead.\n",
    "        \"\"\"\n",
    "        # 从右向左，找到第一个左数 < 右数的位置 left\n",
    "        left = len(nums) - 1 - 1\n",
    "        while left >= 0 and nums[left] >= nums[left+1]:\n",
    "            left -= 1\n",
    "            \n",
    "        if left >= 0:\n",
    "            right = len(nums) - 1\n",
    "            # 找到从右往左第一个比 left 位置值大的数（即尽可能小的大值）\n",
    "            while right >= left and nums[right] <= nums[left]:\n",
    "                right -= 1\n",
    "            # 交换\n",
    "            nums[left], nums[right] = nums[right], nums[left]\n",
    "        \n",
    "        # 反转left后的数值（本质上即为重排为升序）\n",
    "        left, right = left + 1, len(nums) - 1\n",
    "        while left < right:\n",
    "            nums[left], nums[right] = nums[right], nums[left]\n",
    "            left += 1\n",
    "            right -= 1"
   ]
  },
  {
   "cell_type": "code",
   "execution_count": 43,
   "metadata": {},
   "outputs": [
    {
     "name": "stdout",
     "output_type": "stream",
     "text": [
      "[5, 1, 1]\n"
     ]
    }
   ],
   "source": [
    "nums = [1,5,1]\n",
    "Solution().nextPermutation(nums)\n",
    "print(nums)"
   ]
  },
  {
   "cell_type": "code",
   "execution_count": null,
   "metadata": {},
   "outputs": [],
   "source": []
  }
 ],
 "metadata": {
  "kernelspec": {
   "display_name": "Python 3 (ipykernel)",
   "language": "python",
   "name": "python3"
  },
  "language_info": {
   "codemirror_mode": {
    "name": "ipython",
    "version": 3
   },
   "file_extension": ".py",
   "mimetype": "text/x-python",
   "name": "python",
   "nbconvert_exporter": "python",
   "pygments_lexer": "ipython3",
   "version": "3.8.3"
  }
 },
 "nbformat": 4,
 "nbformat_minor": 4
}
