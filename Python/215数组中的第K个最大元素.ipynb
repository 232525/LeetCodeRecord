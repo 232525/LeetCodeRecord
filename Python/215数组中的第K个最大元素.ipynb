{
 "cells": [
  {
   "cell_type": "code",
   "execution_count": 4,
   "metadata": {},
   "outputs": [],
   "source": [
    "import typing\n",
    "import random\n",
    "from typing import List"
   ]
  },
  {
   "cell_type": "code",
   "execution_count": 5,
   "metadata": {},
   "outputs": [],
   "source": [
    "class Solution:\n",
    "    def findKthLargest(self, nums: List[int], k: int) -> int:\n",
    "        n = len(nums)\n",
    "        target_idx = n - k\n",
    "        start = 0\n",
    "        end = n - 1\n",
    "        idx = self.partition(nums, start, end)\n",
    "        while idx != target_idx:\n",
    "            if idx > target_idx:\n",
    "                idx = self.partition(nums, start, idx - 1)\n",
    "            else:\n",
    "                idx = self.partition(nums, idx + 1, end)\n",
    "        return nums[idx]\n",
    "\n",
    "    def swap(self, nums, idx1, idx2):\n",
    "        if idx1 != idx2:\n",
    "            nums[idx1], nums[idx2] = nums[idx2], nums[idx1]\n",
    "\n",
    "    def partition(self, nums, start, end):\n",
    "        # 随机选择 pivot\n",
    "        pivot = random.randint(start, end)\n",
    "        # 将 pivot 交换到末尾\n",
    "        self.swap(nums, pivot, end)\n",
    "\n",
    "        # 遍历nums start --> end，进行数值交换\n",
    "        small = start - 1\n",
    "        for i in range(start, end):\n",
    "            if nums[i] < nums[end]:\n",
    "                small += 1\n",
    "                self.swap(nums, i, small)\n",
    "\n",
    "        small += 1\n",
    "        self.swap(nums, small, end)\n",
    "        return small\n"
   ]
  },
  {
   "cell_type": "code",
   "execution_count": 6,
   "metadata": {},
   "outputs": [
    {
     "name": "stdout",
     "output_type": "stream",
     "text": [
      "5\n"
     ]
    }
   ],
   "source": [
    "nums = [3,2,1,5,6,4]\n",
    "k = 2\n",
    "print(Solution().findKthLargest(nums, k))"
   ]
  },
  {
   "cell_type": "code",
   "execution_count": null,
   "metadata": {},
   "outputs": [],
   "source": []
  }
 ],
 "metadata": {
  "kernelspec": {
   "display_name": "Python 3 (ipykernel)",
   "language": "python",
   "name": "python3"
  },
  "language_info": {
   "codemirror_mode": {
    "name": "ipython",
    "version": 3
   },
   "file_extension": ".py",
   "mimetype": "text/x-python",
   "name": "python",
   "nbconvert_exporter": "python",
   "pygments_lexer": "ipython3",
   "version": "3.8.3"
  }
 },
 "nbformat": 4,
 "nbformat_minor": 4
}
