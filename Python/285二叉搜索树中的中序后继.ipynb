{
 "cells": [
  {
   "cell_type": "code",
   "execution_count": 1,
   "metadata": {},
   "outputs": [],
   "source": [
    "import typing\n",
    "from typing import List, Optional"
   ]
  },
  {
   "cell_type": "code",
   "execution_count": 2,
   "metadata": {},
   "outputs": [],
   "source": [
    "# 该题为 LeeoCode 会员专享题\n",
    "# 同 剑指offer II 053题\n",
    "\n",
    "# Definition for a binary tree node.\n",
    "class TreeNode:\n",
    "    def __init__(self, x):\n",
    "        self.val = x\n",
    "        self.left = None\n",
    "        self.right = None\n",
    "\n",
    "class Solution:\n",
    "    def __init__(self):\n",
    "        self.tag = False\n",
    "\n",
    "    def inorderSuccessor(self, root: 'TreeNode', p: 'TreeNode') -> 'TreeNode':\n",
    "        # 基于二叉树的中序遍历（迭代版本）\n",
    "        stack = []\n",
    "        curr = root\n",
    "        \n",
    "        while curr is not None or len(stack) > 0:\n",
    "            while curr is not None:\n",
    "                stack.append(curr)\n",
    "                curr = curr.left\n",
    "            \n",
    "            curr = stack.pop()\n",
    "            # 标志位 tag 为 True，说明上一个节点为目标节点，则返回当前节点\n",
    "            if self.tag:\n",
    "                return curr\n",
    "            # 找到目标节点，将标志位 tag 置为 True\n",
    "            if curr == p:\n",
    "                self.tag = True\n",
    "            curr = curr.right\n",
    "        \n",
    "        return None"
   ]
  },
  {
   "cell_type": "code",
   "execution_count": null,
   "metadata": {},
   "outputs": [],
   "source": []
  }
 ],
 "metadata": {
  "kernelspec": {
   "display_name": "Python 3 (ipykernel)",
   "language": "python",
   "name": "python3"
  },
  "language_info": {
   "codemirror_mode": {
    "name": "ipython",
    "version": 3
   },
   "file_extension": ".py",
   "mimetype": "text/x-python",
   "name": "python",
   "nbconvert_exporter": "python",
   "pygments_lexer": "ipython3",
   "version": "3.8.3"
  }
 },
 "nbformat": 4,
 "nbformat_minor": 4
}
