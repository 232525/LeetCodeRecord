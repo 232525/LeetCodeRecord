{
 "cells": [
  {
   "cell_type": "code",
   "execution_count": 1,
   "metadata": {},
   "outputs": [],
   "source": [
    "import typing \n",
    "from typing import List"
   ]
  },
  {
   "cell_type": "code",
   "execution_count": null,
   "metadata": {},
   "outputs": [],
   "source": [
    "# Definition for singly-linked list.\n",
    "class ListNode:\n",
    "    def __init__(self, x):\n",
    "        self.val = x\n",
    "        self.next = None\n",
    "        \n",
    "# 剑指offer II 题解：快慢指针\n",
    "class Solution:\n",
    "    def detectCycle(self, head: ListNode) -> ListNode:\n",
    "        inLoop = self.getNodeInLoop(head)\n",
    "        if inLoop is None:\n",
    "            return inLoop\n",
    "        \n",
    "        node = head\n",
    "        while node != inLoop:\n",
    "            node = node.next\n",
    "            inLoop = inLoop.next\n",
    "        \n",
    "        return node\n",
    "\n",
    "    # 快慢指针，查找位于环中的节点\n",
    "    def getNodeInLoop(self, head):\n",
    "        if head is None or head.next is None:\n",
    "            return None\n",
    "\n",
    "        slow = head.next\n",
    "        fast = slow.next\n",
    "        while slow != None and fast != None:\n",
    "            if slow == fast:\n",
    "                return slow\n",
    "\n",
    "            slow = slow.next\n",
    "            fast = fast.next\n",
    "            if fast != None:\n",
    "                fast = fast.next\n",
    "\n",
    "        return None\n",
    "\n",
    "# 快慢指针：在一个函数中实现\n",
    "class Solution:\n",
    "    def detectCycle(self, head: ListNode) -> ListNode:\n",
    "        slow, fast = head, head\n",
    "        while fast is not None:\n",
    "            slow = slow.next\n",
    "            if fast.next is None:\n",
    "                return None\n",
    "            fast = fast.next.next\n",
    "            if slow == fast:\n",
    "                fast = head\n",
    "                while fast != slow:\n",
    "                    fast = fast.next\n",
    "                    slow = slow.next\n",
    "                return fast\n",
    "\n",
    "        return None"
   ]
  }
 ],
 "metadata": {
  "kernelspec": {
   "display_name": "Python 3 (ipykernel)",
   "language": "python",
   "name": "python3"
  },
  "language_info": {
   "codemirror_mode": {
    "name": "ipython",
    "version": 3
   },
   "file_extension": ".py",
   "mimetype": "text/x-python",
   "name": "python",
   "nbconvert_exporter": "python",
   "pygments_lexer": "ipython3",
   "version": "3.8.3"
  }
 },
 "nbformat": 4,
 "nbformat_minor": 4
}
