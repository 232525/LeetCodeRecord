{
 "cells": [
  {
   "cell_type": "code",
   "execution_count": 1,
   "metadata": {},
   "outputs": [],
   "source": [
    "import typing"
   ]
  },
  {
   "cell_type": "code",
   "execution_count": 115,
   "metadata": {},
   "outputs": [],
   "source": [
    "class Solution:\n",
    "    def longestValidParentheses(self, s: str) -> int:\n",
    "        # 使用 栈 进行判断？\n",
    "        stack_left = []\n",
    "        stack_right = []\n",
    "        for idx, c in enumerate(s):\n",
    "            if c == '(':\n",
    "                # 左括号: 入栈\n",
    "                stack_left.append(idx)\n",
    "                continue\n",
    "            else:\n",
    "                # 右括号: 判断栈中是否存在与之匹配的左括号，存在则 tmp_len + 2，并出栈一个左括号\n",
    "                # 否则判断 max_len 与 tmp_len 的大小，并重置 tmp_len = 0\n",
    "                if len(stack_left) != 0:\n",
    "                    # stack_right.append([stack_left[-1], idx])\n",
    "                    stack_right.append(stack_left[-1])\n",
    "                    stack_right.append(idx)\n",
    "                    stack_left.pop()\n",
    "        \n",
    "        # 排序\n",
    "        stack_right.sort()\n",
    "        if len(stack_right) == 0:\n",
    "            return 0\n",
    "        \n",
    "        # 断点\n",
    "        max_len = 0\n",
    "        tmp_len = 1\n",
    "        for i in range(1, len(stack_right)):\n",
    "            if stack_right[i] - stack_right[i-1] == 1:\n",
    "                tmp_len += 1\n",
    "            else:\n",
    "                max_len = max(max_len, tmp_len)\n",
    "                tmp_len = 1\n",
    "        max_len = max(max_len, tmp_len)\n",
    "        return max_len"
   ]
  },
  {
   "cell_type": "code",
   "execution_count": 119,
   "metadata": {},
   "outputs": [
    {
     "name": "stdout",
     "output_type": "stream",
     "text": [
      "[0, 1, 3, 4]\n",
      "2\n"
     ]
    }
   ],
   "source": [
    "s = \"((()())(()))())\"\n",
    "s = \"()(()\"\n",
    "# s = \"(()((())\"\n",
    "# s = \"(())(())\"\n",
    "print(Solution().longestValidParentheses(s))"
   ]
  },
  {
   "cell_type": "code",
   "execution_count": null,
   "metadata": {},
   "outputs": [],
   "source": []
  }
 ],
 "metadata": {
  "kernelspec": {
   "display_name": "Python 3 (ipykernel)",
   "language": "python",
   "name": "python3"
  },
  "language_info": {
   "codemirror_mode": {
    "name": "ipython",
    "version": 3
   },
   "file_extension": ".py",
   "mimetype": "text/x-python",
   "name": "python",
   "nbconvert_exporter": "python",
   "pygments_lexer": "ipython3",
   "version": "3.8.3"
  }
 },
 "nbformat": 4,
 "nbformat_minor": 4
}
