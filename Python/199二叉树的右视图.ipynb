{
 "cells": [
  {
   "cell_type": "code",
   "execution_count": 1,
   "metadata": {},
   "outputs": [],
   "source": [
    "import typing\n",
    "from typing import List"
   ]
  },
  {
   "cell_type": "code",
   "execution_count": null,
   "metadata": {},
   "outputs": [],
   "source": [
    "# Definition for a binary tree node.\n",
    "class TreeNode:\n",
    "    def __init__(self, val=0, left=None, right=None):\n",
    "        self.val = val\n",
    "        self.left = left\n",
    "        self.right = right\n",
    "        \n",
    "class Solution:\n",
    "    def rightSideView(self, root: Optional[TreeNode]) -> List[int]:\n",
    "        queue1 = deque()\n",
    "        queue2 = deque()\n",
    "\n",
    "        ans = []\n",
    "        if root is not None:\n",
    "            queue1.append(root)\n",
    "            ans.append(root.val)\n",
    "\n",
    "        while len(queue1) > 0:\n",
    "            node = queue1.popleft()\n",
    "            if node.left is not None:\n",
    "                queue2.append(node.left)\n",
    "            if node.right is not None:\n",
    "                queue2.append(node.right)\n",
    "\n",
    "            if len(queue1) == 0:\n",
    "                queue1 = queue2\n",
    "                queue2 = deque()\n",
    "                # 在新一行时，读取末尾节点\n",
    "                if len(queue1) > 0:\n",
    "                    ans.append(queue1[-1].val)\n",
    "\n",
    "        return ans\n",
    "    \n",
    "class Solution:\n",
    "    def rightSideView(self, root: Optional[TreeNode]) -> List[int]:\n",
    "        queue1 = deque()\n",
    "        queue2 = deque()\n",
    "\n",
    "        ans = []\n",
    "        if root is not None:\n",
    "            queue1.append(root)\n",
    "\n",
    "        while len(queue1) > 0:\n",
    "            node = queue1.popleft()\n",
    "            if node.left is not None:\n",
    "                queue2.append(node.left)\n",
    "            if node.right is not None:\n",
    "                queue2.append(node.right)\n",
    "\n",
    "            if len(queue1) == 0:\n",
    "                # 在旧一行中，读取当前节点\n",
    "                ans.append(node.val)\n",
    "                queue1 = queue2\n",
    "                queue2 = deque()\n",
    "\n",
    "        return ans"
   ]
  }
 ],
 "metadata": {
  "kernelspec": {
   "display_name": "Python 3 (ipykernel)",
   "language": "python",
   "name": "python3"
  },
  "language_info": {
   "codemirror_mode": {
    "name": "ipython",
    "version": 3
   },
   "file_extension": ".py",
   "mimetype": "text/x-python",
   "name": "python",
   "nbconvert_exporter": "python",
   "pygments_lexer": "ipython3",
   "version": "3.8.3"
  }
 },
 "nbformat": 4,
 "nbformat_minor": 4
}
