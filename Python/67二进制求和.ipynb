{
 "cells": [
  {
   "cell_type": "code",
   "execution_count": 1,
   "metadata": {},
   "outputs": [],
   "source": [
    "import typing\n",
    "from typing import List"
   ]
  },
  {
   "cell_type": "code",
   "execution_count": 2,
   "metadata": {},
   "outputs": [],
   "source": [
    "class Solution:\n",
    "    def addBinary(self, a: str, b: str) -> str:\n",
    "        ans = []\n",
    "        ptr_a, ptr_b = len(a) - 1, len(b) - 1\n",
    "        carry = 0\n",
    "        while ptr_a >= 0 or ptr_b >= 0:\n",
    "            bit_a = int(a[ptr_a]) if ptr_a >= 0 else 0\n",
    "            bit_b = int(b[ptr_b]) if ptr_b >= 0 else 0\n",
    "            ptr_a -= 1\n",
    "            ptr_b -= 1\n",
    "            # 计算\n",
    "            _sum = bit_a + bit_b + carry\n",
    "            ans.append(str(_sum % 2))\n",
    "            carry = _sum // 2\n",
    "            \n",
    "        if carry != 0:\n",
    "            ans.append(str(carry))\n",
    "            \n",
    "        return \"\".join(ans[::-1])"
   ]
  },
  {
   "cell_type": "code",
   "execution_count": 3,
   "metadata": {},
   "outputs": [
    {
     "name": "stdout",
     "output_type": "stream",
     "text": [
      "110\n"
     ]
    }
   ],
   "source": [
    "a = \"11\"\n",
    "b = \"1\"\n",
    "a = \"1010\"\n",
    "b = \"1011\"\n",
    "a = \"11\"\n",
    "b = \"11\"\n",
    "print(Solution().addBinary(a, b))"
   ]
  },
  {
   "cell_type": "code",
   "execution_count": null,
   "metadata": {},
   "outputs": [],
   "source": []
  }
 ],
 "metadata": {
  "kernelspec": {
   "display_name": "Python 3 (ipykernel)",
   "language": "python",
   "name": "python3"
  },
  "language_info": {
   "codemirror_mode": {
    "name": "ipython",
    "version": 3
   },
   "file_extension": ".py",
   "mimetype": "text/x-python",
   "name": "python",
   "nbconvert_exporter": "python",
   "pygments_lexer": "ipython3",
   "version": "3.8.3"
  }
 },
 "nbformat": 4,
 "nbformat_minor": 4
}
