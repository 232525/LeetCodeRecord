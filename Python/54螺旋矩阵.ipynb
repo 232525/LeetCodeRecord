{
 "cells": [
  {
   "cell_type": "code",
   "execution_count": 1,
   "metadata": {},
   "outputs": [],
   "source": [
    "import typing\n",
    "from typing import List"
   ]
  },
  {
   "cell_type": "code",
   "execution_count": 2,
   "metadata": {},
   "outputs": [],
   "source": [
    "class Solution:\n",
    "    def spiralOrder(self, matrix: List[List[int]]) -> List[int]:\n",
    "        m, n = len(matrix), len(matrix[0])\n",
    "        results = [0] * (m*n)\n",
    "        results[0] = matrix[0][0]\n",
    "        matrix[0][0] = -101  # 已用，标记\n",
    "        direction = 1  # 方向：1/2/3/4 分别表示右/下/左/上\n",
    "        x, y = 0, 0\n",
    "        i = 1\n",
    "        while i < m*n:\n",
    "            # 根据direction更新 _x 和 _y\n",
    "            if direction == 1:\n",
    "                _x, _y = x, y + 1\n",
    "            elif direction == 2:\n",
    "                _x, _y = x + 1, y\n",
    "            elif direction == 3:\n",
    "                _x, _y = x, y - 1\n",
    "            else:\n",
    "                _x, _y = x - 1, y\n",
    "            \n",
    "            # 然后判断 _x _y 是否越界\n",
    "            if (_x >=0 and _x < m) and (_y >= 0 and _y < n):\n",
    "                # 未越界，进一步判断是否可填充\n",
    "                if matrix[_x][_y] != -101:\n",
    "                    results[i] = matrix[_x][_y] # 赋值\n",
    "                    matrix[_x][_y] = -101       # 已用，标记\n",
    "                    x, y = _x, _y               # 当前位置更新\n",
    "                    i += 1                      # 计数\n",
    "                    continue\n",
    "            # 越界或者不满足可填充条件，需要更改方向\n",
    "            direction = (direction + 1) if direction < 4 else 1   \n",
    "        return results"
   ]
  },
  {
   "cell_type": "code",
   "execution_count": 3,
   "metadata": {},
   "outputs": [
    {
     "name": "stdout",
     "output_type": "stream",
     "text": [
      "[1, 2, 3, 4, 8, 12, 11, 10, 9, 5, 6, 7]\n"
     ]
    }
   ],
   "source": [
    "matrix = [[1,2,3],[4,5,6],[7,8,9]]\n",
    "matrix = [[1,2,3,4],[5,6,7,8],[9,10,11,12]]\n",
    "print(Solution().spiralOrder(matrix))"
   ]
  },
  {
   "cell_type": "code",
   "execution_count": null,
   "metadata": {},
   "outputs": [],
   "source": []
  }
 ],
 "metadata": {
  "kernelspec": {
   "display_name": "Python 3 (ipykernel)",
   "language": "python",
   "name": "python3"
  },
  "language_info": {
   "codemirror_mode": {
    "name": "ipython",
    "version": 3
   },
   "file_extension": ".py",
   "mimetype": "text/x-python",
   "name": "python",
   "nbconvert_exporter": "python",
   "pygments_lexer": "ipython3",
   "version": "3.8.3"
  }
 },
 "nbformat": 4,
 "nbformat_minor": 4
}
