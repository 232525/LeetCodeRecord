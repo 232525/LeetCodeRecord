{
 "cells": [
  {
   "cell_type": "code",
   "execution_count": 1,
   "metadata": {},
   "outputs": [],
   "source": [
    "import typing\n",
    "from typing import List"
   ]
  },
  {
   "cell_type": "code",
   "execution_count": 2,
   "metadata": {},
   "outputs": [],
   "source": [
    "class Solution:\n",
    "    def uniquePathsWithObstacles(self, obstacleGrid: List[List[int]]) -> int:\n",
    "        # 始末位置为障碍，直接返回0\n",
    "        if obstacleGrid[0][0] == 1 or obstacleGrid[-1][-1] == 1:\n",
    "            return 0\n",
    "        \n",
    "        m, n = len(obstacleGrid), len(obstacleGrid[0])\n",
    "        obstacleGrid[0][0] = -1\n",
    "        for i in range(m):\n",
    "            for j in range(n):\n",
    "                # 障碍物 或者 obstacleGrid[0][0] 跳过\n",
    "                if obstacleGrid[i][j] == 1 or obstacleGrid[i][j] == -1:\n",
    "                    continue\n",
    "                # 动态规划填充\n",
    "                if i == 0 and obstacleGrid[i][j] != 1:\n",
    "                    # 使用负数，为了与障碍物的 1 进行区分\n",
    "                    obstacleGrid[i][j] = obstacleGrid[i][j-1]\n",
    "                elif j == 0 and obstacleGrid[i][j] != 1:\n",
    "                    # 使用负数，为了与障碍物的 1 进行区分\n",
    "                    obstacleGrid[i][j] = obstacleGrid[i-1][j]\n",
    "                else:\n",
    "                    _left = obstacleGrid[i][j-1]\n",
    "                    _left = 0 if _left == 1 else _left\n",
    "                    _up = obstacleGrid[i-1][j]\n",
    "                    _up = 0 if _up == 1 else _up\n",
    "                    obstacleGrid[i][j] = _left + _up\n",
    "        # 返回结果时，取反转换为正数即可\n",
    "        return -obstacleGrid[-1][-1]\n",
    "    \n",
    "class Solution:\n",
    "    def uniquePathsWithObstacles(self, obstacleGrid: List[List[int]]) -> int:\n",
    "        # 始末位置为障碍，直接返回0\n",
    "        if obstacleGrid[0][0] == 1 or obstacleGrid[-1][-1] == 1:\n",
    "            return 0\n",
    "        \n",
    "        m, n = len(obstacleGrid), len(obstacleGrid[0])\n",
    "        DP = obstacleGrid[0].copy()\n",
    "        DP[0] = -1\n",
    "        for i in range(m):\n",
    "            DP[0] = DP[0] if obstacleGrid[i][0] != 1 else 0\n",
    "            pre_dp = DP[0]\n",
    "            for j in range(1, n):\n",
    "                if obstacleGrid[i][j] == 1:\n",
    "                    DP[j] = 1\n",
    "                    pre_dp = DP[j]\n",
    "                    continue\n",
    "                if i == 0 and DP[j-1] != 1:\n",
    "                    DP[j] = DP[j-1]\n",
    "                    pre_dp = DP[j]\n",
    "                else:\n",
    "                    pre_dp = pre_dp if pre_dp != 1 else 0\n",
    "                    DP[j] = pre_dp + DP[j] if DP[j] != 1 else pre_dp + 0\n",
    "                    pre_dp = DP[j]\n",
    "            \n",
    "        return -DP[-1]"
   ]
  },
  {
   "cell_type": "code",
   "execution_count": 3,
   "metadata": {},
   "outputs": [
    {
     "name": "stdout",
     "output_type": "stream",
     "text": [
      "2\n"
     ]
    }
   ],
   "source": [
    "obstacleGrid = [[0,0,0],[0,1,0],[0,0,0]]\n",
    "# obstacleGrid = [[0,1],[0,0]]\n",
    "# obstacleGrid = [[0,0],[0,1]]\n",
    "# obstacleGrid = [[0,1],[1,0]]\n",
    "# obstacleGrid = [[0,1,1,0],[0,0,0,0]]\n",
    "print(Solution().uniquePathsWithObstacles(obstacleGrid))"
   ]
  },
  {
   "cell_type": "code",
   "execution_count": null,
   "metadata": {},
   "outputs": [],
   "source": []
  }
 ],
 "metadata": {
  "kernelspec": {
   "display_name": "Python 3 (ipykernel)",
   "language": "python",
   "name": "python3"
  },
  "language_info": {
   "codemirror_mode": {
    "name": "ipython",
    "version": 3
   },
   "file_extension": ".py",
   "mimetype": "text/x-python",
   "name": "python",
   "nbconvert_exporter": "python",
   "pygments_lexer": "ipython3",
   "version": "3.8.3"
  }
 },
 "nbformat": 4,
 "nbformat_minor": 4
}
