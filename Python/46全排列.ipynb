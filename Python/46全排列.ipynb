{
 "cells": [
  {
   "cell_type": "code",
   "execution_count": 1,
   "metadata": {},
   "outputs": [],
   "source": [
    "import typing\n",
    "from typing import List"
   ]
  },
  {
   "cell_type": "code",
   "execution_count": 2,
   "metadata": {},
   "outputs": [],
   "source": [
    "# 思路一：把选择的元素加入到combine中\n",
    "class Solution:\n",
    "    def permute(self, nums: List[int]) -> List[List[int]]:\n",
    "        n = len(nums)\n",
    "        res = []\n",
    "        combine = []\n",
    "        def backtrack(combine):\n",
    "            if len(combine) == n:\n",
    "                res.append(combine[:])\n",
    "                combine = []\n",
    "            else:\n",
    "                for i in range(n):\n",
    "                    if nums[i] not in combine:\n",
    "                        combine.append(nums[i])\n",
    "                        backtrack(combine)\n",
    "                        combine.pop()\n",
    "        backtrack(combine)\n",
    "        return res\n",
    "    \n",
    "# 思路二：直接对nums的元素进行交换构造解（交换之后需要再次还原）\n",
    "class Solution:\n",
    "    def permute(self, nums: List[int]) -> List[List[int]]:\n",
    "        n = len(nums)\n",
    "        res = []\n",
    "        def backtrack(idx1):\n",
    "            if idx1 == n:\n",
    "                res.append(nums[:])\n",
    "            else:\n",
    "                for idx2 in range(idx1, n):\n",
    "                    # 交换\n",
    "                    nums[idx1], nums[idx2] = nums[idx2], nums[idx1]\n",
    "                    backtrack(idx1 + 1)\n",
    "                    # 还原\n",
    "                    nums[idx2], nums[idx1] = nums[idx1], nums[idx2]\n",
    "        backtrack(0)\n",
    "        return res"
   ]
  },
  {
   "cell_type": "code",
   "execution_count": 3,
   "metadata": {},
   "outputs": [
    {
     "name": "stdout",
     "output_type": "stream",
     "text": [
      "[[1, 2, 3], [1, 3, 2], [2, 1, 3], [2, 3, 1], [3, 2, 1], [3, 1, 2]]\n"
     ]
    }
   ],
   "source": [
    "nums = [1,2,3]\n",
    "print(Solution().permute(nums))"
   ]
  },
  {
   "cell_type": "code",
   "execution_count": null,
   "metadata": {},
   "outputs": [],
   "source": []
  }
 ],
 "metadata": {
  "kernelspec": {
   "display_name": "Python 3 (ipykernel)",
   "language": "python",
   "name": "python3"
  },
  "language_info": {
   "codemirror_mode": {
    "name": "ipython",
    "version": 3
   },
   "file_extension": ".py",
   "mimetype": "text/x-python",
   "name": "python",
   "nbconvert_exporter": "python",
   "pygments_lexer": "ipython3",
   "version": "3.8.3"
  }
 },
 "nbformat": 4,
 "nbformat_minor": 4
}
