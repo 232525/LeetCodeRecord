{
 "cells": [
  {
   "cell_type": "code",
   "execution_count": 1,
   "metadata": {},
   "outputs": [],
   "source": [
    "import typing\n",
    "from typing import List"
   ]
  },
  {
   "cell_type": "code",
   "execution_count": 2,
   "metadata": {},
   "outputs": [],
   "source": [
    "class LRUCache:\n",
    "\n",
    "    def __init__(self, capacity: int):\n",
    "        self.capacity = capacity\n",
    "        # hash map\n",
    "        self.map = {}\n",
    "        # 哨兵节点，方便进行节点的删除与插入\n",
    "        self.head = ListNode(-1, -1)\n",
    "        self.tail = ListNode(-1, -1)\n",
    "        self.head.next = self.tail\n",
    "        self.tail.prev = self.head\n",
    "\n",
    "    def get(self, key: int) -> int:\n",
    "        if key not in self.map:\n",
    "            return -1\n",
    "        # 访问该 元素 之后，将其移动到链表末尾，表明最近被使用过\n",
    "        self.move2tail(self.map[key])\n",
    "        return self.map[key].value\n",
    "\n",
    "    def put(self, key: int, value: int) -> None:\n",
    "        if key not in self.map:\n",
    "            # 判断元素个数是否已经等于 capacity\n",
    "            if len(self.map) == self.capacity:\n",
    "                # 删除 self.head.next 节点 （即最近最少使用的节点）\n",
    "                deleteNode = self.head.next\n",
    "                self.delete(deleteNode)\n",
    "                # 删除 hash map 中元素\n",
    "                del self.map[deleteNode.key]\n",
    "            # 然后创建新节点，并将其插入到链表末尾（即 self.tail 之前）\n",
    "            self.map[key] = ListNode(key, value)\n",
    "            self.insert2tail(self.map[key])\n",
    "        else:\n",
    "            # 已经存在该元素，则更新对应节点的 value，并将其移动到链表末尾\n",
    "            self.map[key].value = value  # value 值更新\n",
    "            # 将该节点移动到链表末尾，表明最近被使用过\n",
    "            self.move2tail(self.map[key])\n",
    "\n",
    "    # 一些辅助函数\n",
    "    def move2tail(self, node):\n",
    "        # 先从当前位置断开\n",
    "        self.delete(node)\n",
    "        # 链接到末尾位置\n",
    "        self.insert2tail(node)\n",
    "\n",
    "    # 将 node 节点从当前位置删除，即与其前后指针指向的节点断开\n",
    "    def delete(self, node):\n",
    "        node.prev.next = node.next\n",
    "        node.next.prev = node.prev\n",
    "\n",
    "    # 将 node 节点插入到 self.tail.prev 与 self.tail 之间\n",
    "    def insert2tail(self, node):\n",
    "        self.tail.prev.next = node\n",
    "        node.prev = self.tail.prev\n",
    "        self.tail.prev = node\n",
    "        node.next = self.tail\n",
    "\n",
    "class ListNode:\n",
    "    def __init__(self, k, v, prev=None, next=None):\n",
    "        self.key = k\n",
    "        self.value = v\n",
    "        self.prev = prev\n",
    "        self.next = next\n",
    "\n",
    "\n",
    "# Your LRUCache object will be instantiated and called as such:\n",
    "# obj = LRUCache(capacity)\n",
    "# param_1 = obj.get(key)\n",
    "# obj.put(key,value)"
   ]
  },
  {
   "cell_type": "code",
   "execution_count": null,
   "metadata": {},
   "outputs": [],
   "source": []
  }
 ],
 "metadata": {
  "kernelspec": {
   "display_name": "Python 3 (ipykernel)",
   "language": "python",
   "name": "python3"
  },
  "language_info": {
   "codemirror_mode": {
    "name": "ipython",
    "version": 3
   },
   "file_extension": ".py",
   "mimetype": "text/x-python",
   "name": "python",
   "nbconvert_exporter": "python",
   "pygments_lexer": "ipython3",
   "version": "3.8.3"
  }
 },
 "nbformat": 4,
 "nbformat_minor": 4
}
