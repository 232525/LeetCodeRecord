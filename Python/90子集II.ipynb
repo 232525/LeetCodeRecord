{
 "cells": [
  {
   "cell_type": "code",
   "execution_count": null,
   "metadata": {},
   "outputs": [],
   "source": [
    "import typing\n",
    "from typing import List"
   ]
  },
  {
   "cell_type": "code",
   "execution_count": 2,
   "metadata": {},
   "outputs": [],
   "source": [
    "class Solution:\n",
    "    def subsetsWithDup(self, nums: List[int]) -> List[List[int]]:\n",
    "        # 先排序\n",
    "        nums.sort()\n",
    "        results = list()\n",
    "        n = len(nums)\n",
    "        def backtrack(begin, combine):\n",
    "            results.append(combine[:])\n",
    "            end = n + 1\n",
    "            for i in range(begin, end):\n",
    "                # 在此处判断能些微减少耗时\n",
    "                if combine + [nums[i-1]] in results:\n",
    "                    continue\n",
    "                combine.append(nums[i-1])\n",
    "                backtrack(i + 1, combine)  # 下界设置为 i+1\n",
    "                combine.pop()\n",
    "                    \n",
    "        backtrack(1, combine=[]) # 初始下界为 1\n",
    "        return results"
   ]
  },
  {
   "cell_type": "code",
   "execution_count": 3,
   "metadata": {},
   "outputs": [
    {
     "name": "stdout",
     "output_type": "stream",
     "text": [
      "[[], [1], [1, 4], [1, 4, 4], [1, 4, 4, 4], [1, 4, 4, 4, 4], [4], [4, 4], [4, 4, 4], [4, 4, 4, 4]]\n"
     ]
    }
   ],
   "source": [
    "nums = [1,2,2]\n",
    "nums = [0]\n",
    "nums = [4,4,4,1,4]\n",
    "print(Solution().subsetsWithDup(nums))"
   ]
  },
  {
   "cell_type": "code",
   "execution_count": null,
   "metadata": {},
   "outputs": [],
   "source": []
  }
 ],
 "metadata": {
  "kernelspec": {
   "display_name": "Python 3 (ipykernel)",
   "language": "python",
   "name": "python3"
  },
  "language_info": {
   "codemirror_mode": {
    "name": "ipython",
    "version": 3
   },
   "file_extension": ".py",
   "mimetype": "text/x-python",
   "name": "python",
   "nbconvert_exporter": "python",
   "pygments_lexer": "ipython3",
   "version": "3.8.3"
  }
 },
 "nbformat": 4,
 "nbformat_minor": 4
}
