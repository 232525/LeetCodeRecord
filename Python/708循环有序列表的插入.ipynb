{
 "cells": [
  {
   "cell_type": "code",
   "execution_count": 1,
   "metadata": {},
   "outputs": [],
   "source": [
    "import typing\n",
    "from typing import List"
   ]
  },
  {
   "cell_type": "code",
   "execution_count": null,
   "metadata": {},
   "outputs": [],
   "source": [
    "# 该题为LeetCode VIP专享题\n",
    "# 与“剑指offer II 029题”一样\n",
    "\n",
    "# Definition for a Node.\n",
    "class Node:\n",
    "    def __init__(self, val=None, next=None):\n",
    "        self.val = val\n",
    "        self.next = next\n",
    "\n",
    "class Solution:\n",
    "    def insert(self, head: 'Node', insertVal: int) -> 'Node':\n",
    "        node = Node(insertVal)\n",
    "        if head is None:\n",
    "            head = node\n",
    "            head.next = head\n",
    "        elif head.next == head:\n",
    "            head.next = node\n",
    "            node.next = head\n",
    "        else:\n",
    "            curr = head\n",
    "            next_ = head.next\n",
    "            biggest = head\n",
    "            # 查找插入位置\n",
    "            while next_ != head:\n",
    "                # 正常插入位置，直接退出循环\n",
    "                if curr.val <= node.val and node.val <= next_.val:\n",
    "                    break\n",
    "                curr = next_\n",
    "                next_ = next_.next\n",
    "                if curr.val >= biggest.val:\n",
    "                    biggest = curr\n",
    "            # 指针重新连接\n",
    "            if node.val >= biggest.val or node.val <= biggest.next.val:\n",
    "                node.next = biggest.next\n",
    "                biggest.next = node\n",
    "            else:\n",
    "                node.next = next_\n",
    "                curr.next = node\n",
    "\n",
    "        return head"
   ]
  }
 ],
 "metadata": {
  "kernelspec": {
   "display_name": "Python 3 (ipykernel)",
   "language": "python",
   "name": "python3"
  },
  "language_info": {
   "codemirror_mode": {
    "name": "ipython",
    "version": 3
   },
   "file_extension": ".py",
   "mimetype": "text/x-python",
   "name": "python",
   "nbconvert_exporter": "python",
   "pygments_lexer": "ipython3",
   "version": "3.8.3"
  }
 },
 "nbformat": 4,
 "nbformat_minor": 4
}
