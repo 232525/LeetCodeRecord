{
 "cells": [
  {
   "cell_type": "code",
   "execution_count": 1,
   "metadata": {},
   "outputs": [],
   "source": [
    "import typing\n",
    "from typing import List"
   ]
  },
  {
   "cell_type": "code",
   "execution_count": 88,
   "metadata": {},
   "outputs": [],
   "source": [
    "# 时间超限\n",
    "class Solution:\n",
    "    def combinationSum2(self, candidates: List[int], target: int) -> List[List[int]]:\n",
    "        # 先排序\n",
    "        candidates.sort()\n",
    "        res = self._combinationSum(candidates, target)\n",
    "        return res\n",
    "        \n",
    "    def _combinationSum(self, sorted_candidates, target):\n",
    "        # 题目规定 1<=target，及下面判断中的sorted_candidates[-1] == target，可以保证不会出现target == 0 的情况\n",
    "        # 因此该判断条件冗余，可删去\n",
    "        # if target == 0:\n",
    "        #     return []\n",
    "        if len(sorted_candidates) == 1:\n",
    "            # 边界情况，只有一个数\n",
    "            if target == sorted_candidates[0]:\n",
    "                return [[target]]\n",
    "            else:\n",
    "                return []\n",
    "        else:\n",
    "            # 一般情况\n",
    "            if sorted_candidates[0] > target:\n",
    "                # target 太小，无解，直接返回\n",
    "                return []\n",
    "            if sorted_candidates[-1] > target:\n",
    "                # 最后一个数大于target，题目规定所有数均大于0，因此该数不可能构成解，直接丢弃\n",
    "                return self._combinationSum(sorted_candidates[:-1], target)\n",
    "            elif sorted_candidates[-1] == target:\n",
    "                # 最后一个数等于target，则继续搜索去除该数后的数字是否能构成别的解，并与[target]本身组合作为最终解\n",
    "                tmp_res = self._combinationSum(sorted_candidates[:-1], target)\n",
    "                # 避免重复解\n",
    "                if [target] not in tmp_res:\n",
    "                    tmp_res.append([target])\n",
    "                return tmp_res\n",
    "            else:\n",
    "                # 最后一个数小于target，则需要分情况讨论\n",
    "                tmp_res = []\n",
    "                tmp_res1 = self._combinationSum(sorted_candidates[:-1], target - sorted_candidates[-1])\n",
    "                if tmp_res1:\n",
    "                    # 避免重复解\n",
    "                    for _ in tmp_res1:\n",
    "                        _tmp = _ + [sorted_candidates[-1]]\n",
    "                        if _tmp not in tmp_res:\n",
    "                            tmp_res.append(_tmp)\n",
    "                tmp_res2 = self._combinationSum(sorted_candidates[:-1], target)\n",
    "                if tmp_res2:\n",
    "                    # 避免重复解\n",
    "                    for _ in tmp_res2:\n",
    "                        if _ not in tmp_res:\n",
    "                            tmp_res.append(_)\n",
    "                return tmp_res\n",
    "\n",
    "# 回溯 （官方题解）\n",
    "import collections\n",
    "class Solution:\n",
    "    def combinationSum2(self, candidates: List[int], target: int) -> List[List[int]]:\n",
    "        def dfs(pos: int, rest: int):\n",
    "            nonlocal sequence\n",
    "            # 回溯退出条件\n",
    "            if rest == 0:\n",
    "                ans.append(sequence[:])\n",
    "                return\n",
    "            if pos == len(freq) or rest < freq[pos][0]:\n",
    "                return\n",
    "            \n",
    "            # 不使用当前数值\n",
    "            dfs(pos + 1, rest)\n",
    "\n",
    "            # 使用当前数值\n",
    "            # most 表示该数值可使用次数\n",
    "            most = min(rest // freq[pos][0], freq[pos][1])\n",
    "            # 依次加入当前数值，并进行递归\n",
    "            for i in range(1, most + 1):\n",
    "                sequence.append(freq[pos][0])\n",
    "                dfs(pos + 1, rest - i * freq[pos][0])\n",
    "            # 去除加入的数值\n",
    "            sequence = sequence[:-most]\n",
    "        \n",
    "        # 统计输入candidates里，元素出现频数\n",
    "        freq = sorted(collections.Counter(candidates).items())\n",
    "        ans = list()\n",
    "        sequence = list()\n",
    "        dfs(0, target)\n",
    "        return ans"
   ]
  },
  {
   "cell_type": "code",
   "execution_count": 89,
   "metadata": {},
   "outputs": [
    {
     "name": "stdout",
     "output_type": "stream",
     "text": [
      "[[5], [1, 2, 2]]\n"
     ]
    }
   ],
   "source": [
    "# candidates = [10,1,2,7,6,1,5]\n",
    "# target = 8\n",
    "candidates = [2,5,2,1,2]\n",
    "target = 5\n",
    "# candidates = [1,1,1,1,1,1,1,1,1,1,1,1,1,1,1,1,1,1,1,1,1,1,1,1,1,1,1,1,1,1,1,1,1,1,1,1,1,1,1,1,1,1,1,1,1,1,1,1,1,1,1,1,1,1,1,1,1,1,1,1,1,1,1,1,1,1,1,1,1,1,1,1,1,1,1,1,1,1,1,1,1,1,1,1,1,1,1,1,1,1,1,1,1,1,1,1,1,1,1,1]\n",
    "# target = 30\n",
    "print(Solution().combinationSum2(candidates, target))"
   ]
  },
  {
   "cell_type": "code",
   "execution_count": null,
   "metadata": {},
   "outputs": [],
   "source": []
  }
 ],
 "metadata": {
  "kernelspec": {
   "display_name": "Python 3 (ipykernel)",
   "language": "python",
   "name": "python3"
  },
  "language_info": {
   "codemirror_mode": {
    "name": "ipython",
    "version": 3
   },
   "file_extension": ".py",
   "mimetype": "text/x-python",
   "name": "python",
   "nbconvert_exporter": "python",
   "pygments_lexer": "ipython3",
   "version": "3.8.3"
  }
 },
 "nbformat": 4,
 "nbformat_minor": 4
}
