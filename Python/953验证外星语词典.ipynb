{
 "cells": [
  {
   "cell_type": "code",
   "execution_count": 1,
   "metadata": {},
   "outputs": [],
   "source": [
    "import typing\n",
    "from typing import List"
   ]
  },
  {
   "cell_type": "code",
   "execution_count": 2,
   "metadata": {},
   "outputs": [],
   "source": [
    "class Solution:\n",
    "    def isAlienSorted(self, words: List[str], order: str) -> bool:\n",
    "        # 词汇表字母的字典序\n",
    "        char2idx = {char: i for i, char in enumerate(order)}\n",
    "\n",
    "        prev_word_idx = []\n",
    "        for word in words:\n",
    "            # 当前单词的字典序\n",
    "            word_idx = [char2idx[char] for char in word]\n",
    "            if prev_word_idx > word_idx:\n",
    "                return False\n",
    "            prev_word_idx = word_idx\n",
    "\n",
    "        return True\n",
    "    \n",
    "# 使用数组模拟哈希表\n",
    "class Solution:\n",
    "    def isAlienSorted(self, words: List[str], order: str) -> bool:\n",
    "        # 词汇表字母的字典序\n",
    "        char2idx = [0] * 26\n",
    "        for i, char in enumerate(order):\n",
    "            char2idx[ord(char) - ord('a')] = i\n",
    "\n",
    "        prev_word_idx = []\n",
    "        for word in words:\n",
    "            # 当前单词的字典序\n",
    "            word_idx = [char2idx[ord(char) - ord('a')] for char in word]\n",
    "            if prev_word_idx > word_idx:\n",
    "                return False\n",
    "            prev_word_idx = word_idx\n",
    "\n",
    "        return True\n",
    "    \n",
    "# 使用数组模拟哈希表\n",
    "# 自己实现字典序比较\n",
    "class Solution:\n",
    "    def isAlienSorted(self, words: List[str], order: str) -> bool:\n",
    "        # 词汇表字母的字典序\n",
    "        char2idx = [0] * 26\n",
    "        for i, char in enumerate(order):\n",
    "            char2idx[ord(char) - ord('a')] = i\n",
    "\n",
    "        for i in range(len(words) - 1):\n",
    "            # 自己实现字典序比较\n",
    "            if not self.isSorted(words[i], words[i+1], char2idx):\n",
    "                return False\n",
    "\n",
    "        return True\n",
    "    \n",
    "    def isSorted(self, word1, word2, char2idx):\n",
    "        i = 0\n",
    "        while i < min(len(word1), len(word2)):\n",
    "            ch1, ch2 = word1[i], word2[i]\n",
    "            if char2idx[ord(ch1) - ord('a')] < char2idx[ord(ch2) - ord('a')]:\n",
    "                return True\n",
    "            if char2idx[ord(ch1) - ord('a')] > char2idx[ord(ch2) - ord('a')]:\n",
    "                return False\n",
    "            i += 1\n",
    "        return i == len(word1)"
   ]
  },
  {
   "cell_type": "code",
   "execution_count": null,
   "metadata": {},
   "outputs": [],
   "source": []
  }
 ],
 "metadata": {
  "kernelspec": {
   "display_name": "Python 3 (ipykernel)",
   "language": "python",
   "name": "python3"
  },
  "language_info": {
   "codemirror_mode": {
    "name": "ipython",
    "version": 3
   },
   "file_extension": ".py",
   "mimetype": "text/x-python",
   "name": "python",
   "nbconvert_exporter": "python",
   "pygments_lexer": "ipython3",
   "version": "3.8.3"
  }
 },
 "nbformat": 4,
 "nbformat_minor": 4
}
