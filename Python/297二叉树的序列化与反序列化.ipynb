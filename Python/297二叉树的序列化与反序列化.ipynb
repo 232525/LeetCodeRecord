{
 "cells": [
  {
   "cell_type": "code",
   "execution_count": 1,
   "metadata": {},
   "outputs": [],
   "source": [
    "import typing\n",
    "from typing import List"
   ]
  },
  {
   "cell_type": "code",
   "execution_count": 2,
   "metadata": {},
   "outputs": [],
   "source": [
    "# Definition for a binary tree node.\n",
    "class TreeNode(object):\n",
    "    def __init__(self, x):\n",
    "        self.val = x\n",
    "        self.left = None\n",
    "        self.right = None\n",
    "\n",
    "class Codec:\n",
    "\n",
    "    def serialize(self, root):\n",
    "        \"\"\"Encodes a tree to a single string.\n",
    "        \n",
    "        :type root: TreeNode\n",
    "        :rtype: str\n",
    "        \"\"\"\n",
    "        # 使用前序遍历进行序列化\n",
    "        if root is None:\n",
    "            return \"null\"\n",
    "        leftStr = self.serialize(root.left)\n",
    "        rightStr = self.serialize(root.right)\n",
    "        return str(root.val) + \",\" + leftStr + \",\" + rightStr\n",
    "\n",
    "    def deserialize(self, data):\n",
    "        \"\"\"Decodes your encoded data to tree.\n",
    "        \n",
    "        :type data: str\n",
    "        :rtype: TreeNode\n",
    "        \"\"\"\n",
    "        node_strs = data.split(\",\")\n",
    "        global idx\n",
    "        idx = 0\n",
    "        \n",
    "        def dfs(node_strs):\n",
    "            global idx\n",
    "            curr_str = node_strs[idx]\n",
    "            idx += 1\n",
    "            # node_strs.pop(0)  # 每取出一个值，则从 node_strs 中弹出一个值\n",
    "\n",
    "            if curr_str == \"null\":\n",
    "                return None\n",
    "            \n",
    "            # 前序遍历 递归\n",
    "            node = TreeNode(int(curr_str))\n",
    "            node.left = dfs(node_strs)\n",
    "            node.right = dfs(node_strs)\n",
    "            return node\n",
    "\n",
    "        return dfs(node_strs)\n",
    "\n",
    "    \n",
    "        \n",
    "\n",
    "# Your Codec object will be instantiated and called as such:\n",
    "# ser = Codec()\n",
    "# deser = Codec()\n",
    "# ans = deser.deserialize(ser.serialize(root))"
   ]
  },
  {
   "cell_type": "code",
   "execution_count": null,
   "metadata": {},
   "outputs": [],
   "source": []
  }
 ],
 "metadata": {
  "kernelspec": {
   "display_name": "Python 3 (ipykernel)",
   "language": "python",
   "name": "python3"
  },
  "language_info": {
   "codemirror_mode": {
    "name": "ipython",
    "version": 3
   },
   "file_extension": ".py",
   "mimetype": "text/x-python",
   "name": "python",
   "nbconvert_exporter": "python",
   "pygments_lexer": "ipython3",
   "version": "3.8.3"
  }
 },
 "nbformat": 4,
 "nbformat_minor": 4
}
