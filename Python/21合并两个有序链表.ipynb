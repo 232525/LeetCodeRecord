{
 "cells": [
  {
   "cell_type": "code",
   "execution_count": 1,
   "metadata": {},
   "outputs": [],
   "source": [
    "import typing\n",
    "from typing import Optional"
   ]
  },
  {
   "cell_type": "code",
   "execution_count": 2,
   "metadata": {},
   "outputs": [],
   "source": [
    "# Definition for singly-linked list.\n",
    "class ListNode:\n",
    "    def __init__(self, val=0, next=None):\n",
    "        self.val = val\n",
    "        self.next = next\n",
    "\n",
    "class Solution:\n",
    "    def mergeTwoLists(self, list1: Optional[ListNode], list2: Optional[ListNode]) -> Optional[ListNode]:\n",
    "        ptr1 = list1\n",
    "        ptr2 = list2\n",
    "\n",
    "        new_head = ListNode(0)\n",
    "        ptr = new_head\n",
    "        while ptr1 is not None and ptr2 is not None:\n",
    "            # ptr.next 指定\n",
    "            if ptr1.val < ptr2.val:\n",
    "                ptr.next = ptr1\n",
    "                ptr1 = ptr1.next\n",
    "            else:\n",
    "                ptr.next = ptr2\n",
    "                ptr2 = ptr2.next\n",
    "            # ptr 后移\n",
    "            ptr = ptr.next\n",
    "            \n",
    "        # 收尾\n",
    "        if ptr1 is not None:\n",
    "            ptr.next = ptr1\n",
    "        if ptr2 is not None:\n",
    "            ptr.next = ptr2\n",
    "\n",
    "        return new_head.next"
   ]
  },
  {
   "cell_type": "code",
   "execution_count": 3,
   "metadata": {},
   "outputs": [
    {
     "name": "stdout",
     "output_type": "stream",
     "text": [
      "1 1 2 3 4 4 "
     ]
    }
   ],
   "source": [
    "list1 = ListNode(1, ListNode(2, ListNode(4)))\n",
    "list2 = ListNode(1, ListNode(3, ListNode(4)))\n",
    "_ = Solution().mergeTwoLists(list1, list2)\n",
    "while(_ is not None):\n",
    "    print(_.val, end=\" \")\n",
    "    _ = _.next"
   ]
  },
  {
   "cell_type": "code",
   "execution_count": null,
   "metadata": {},
   "outputs": [],
   "source": []
  }
 ],
 "metadata": {
  "kernelspec": {
   "display_name": "Python 3 (ipykernel)",
   "language": "python",
   "name": "python3"
  },
  "language_info": {
   "codemirror_mode": {
    "name": "ipython",
    "version": 3
   },
   "file_extension": ".py",
   "mimetype": "text/x-python",
   "name": "python",
   "nbconvert_exporter": "python",
   "pygments_lexer": "ipython3",
   "version": "3.8.3"
  }
 },
 "nbformat": 4,
 "nbformat_minor": 4
}
