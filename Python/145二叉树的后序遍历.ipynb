{
 "cells": [
  {
   "cell_type": "code",
   "execution_count": 1,
   "metadata": {},
   "outputs": [],
   "source": [
    "import typing\n",
    "from typing import List"
   ]
  },
  {
   "cell_type": "code",
   "execution_count": null,
   "metadata": {},
   "outputs": [],
   "source": [
    "# Definition for a binary tree node.\n",
    "class TreeNode:\n",
    "    def __init__(self, val=0, left=None, right=None):\n",
    "        self.val = val\n",
    "        self.left = left\n",
    "        self.right = right\n",
    "\n",
    "# 后续遍历，递归实现\n",
    "class Solution:\n",
    "    def postorderTraversal(self, root: Optional[TreeNode]) -> List[int]:\n",
    "        nodes = []\n",
    "        self.dfs(root, nodes)\n",
    "        return nodes\n",
    "\n",
    "    # 递归实现\n",
    "    def dfs(self, root, nodes):\n",
    "        if root is not None:\n",
    "            self.dfs(root.left, nodes)\n",
    "            self.dfs(root.right, nodes)\n",
    "            nodes.append(root.val)\n",
    "        \n",
    "# 后续遍历，迭代实现\n",
    "class Solution:\n",
    "    # 迭代实现，使用到栈\n",
    "    def postorderTraversal(self, root: Optional[TreeNode]) -> List[int]:\n",
    "        nodes = []\n",
    "        stack = []\n",
    "\n",
    "        curr_node = root\n",
    "        prev_node = None\n",
    "        while curr_node is not None or len(stack) > 0:\n",
    "            while curr_node is not None:\n",
    "                stack.append(curr_node)       # 当前节点存入栈中\n",
    "                curr_node = curr_node.left    # 节点向左遍历\n",
    "            \n",
    "            curr_node = stack[-1]             # 栈顶节点\n",
    "            if curr_node.right is not None and curr_node.right != prev_node:\n",
    "                # 如果 prev_node 节点不为 curr_node 的右节点，则说明右节点未遍历，当前需要遍历右节点\n",
    "                curr_node = curr_node.right\n",
    "            else:\n",
    "                # 否则，表明左节点和右节点已经遍历，当前需要遍历根节点（即curr_node节点），并重置 prev_node 和 curr_node\n",
    "                curr_node = stack.pop()\n",
    "                nodes.append(curr_node.val)\n",
    "                prev_node = curr_node\n",
    "                curr_node = None\n",
    "        return nodes"
   ]
  }
 ],
 "metadata": {
  "kernelspec": {
   "display_name": "Python 3 (ipykernel)",
   "language": "python",
   "name": "python3"
  },
  "language_info": {
   "codemirror_mode": {
    "name": "ipython",
    "version": 3
   },
   "file_extension": ".py",
   "mimetype": "text/x-python",
   "name": "python",
   "nbconvert_exporter": "python",
   "pygments_lexer": "ipython3",
   "version": "3.8.3"
  }
 },
 "nbformat": 4,
 "nbformat_minor": 4
}
