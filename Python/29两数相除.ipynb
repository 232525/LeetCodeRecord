{
 "cells": [
  {
   "cell_type": "code",
   "execution_count": 1,
   "metadata": {},
   "outputs": [],
   "source": [
    "import typing"
   ]
  },
  {
   "cell_type": "code",
   "execution_count": 60,
   "metadata": {},
   "outputs": [],
   "source": [
    "# 时间超限\n",
    "class Solution:\n",
    "    def divide(self, dividend: int, divisor: int) -> int:\n",
    "        INT_MIN, INT_MAX = -2**31, 2**31-1\n",
    "        # 除数为1，返回原值\n",
    "        # 溢出只有一种情况，dividend=INT_MIN, divisor=-1\n",
    "        if dividend == INT_MIN and divisor == -1:\n",
    "            return INT_MAX\n",
    "        # 特殊情况，直接输出结果\n",
    "        if abs(divisor) == 1:\n",
    "            return dividend if divisor == 1 else -dividend\n",
    "        \n",
    "        negetive = (dividend < 0) != (divisor < 0)\n",
    "        # 其余情况，都转为负数\n",
    "        dividend = -abs(dividend)\n",
    "        divisor = -abs(divisor)\n",
    "        result = 0\n",
    "        while True:\n",
    "            if dividend <= divisor:\n",
    "                result += 1\n",
    "                dividend -= divisor\n",
    "            else:\n",
    "                break\n",
    "        return result if not negetive else -result\n",
    "    \n",
    "\n",
    "class Solution:\n",
    "    def divide(self, dividend: int, divisor: int) -> int:\n",
    "        INT_MIN, INT_MAX = -2**31, 2**31-1\n",
    "        # 特殊情况\n",
    "        if dividend == 0:\n",
    "            return 0\n",
    "        if divisor == 1:\n",
    "            return dividend\n",
    "        elif divisor == -1:\n",
    "            return -dividend if dividend > INT_MIN else INT_MAX\n",
    "        elif divisor == 0:\n",
    "            return 0\n",
    "        \n",
    "        negetive = (dividend < 0) != (divisor < 0)\n",
    "        # 都转为负数，防止数据溢出（INT_MIN如果转正数会溢出）\n",
    "        dividend = dividend if dividend < 0 else -dividend\n",
    "        divisor = divisor if divisor < 0 else -divisor\n",
    "        \n",
    "        # 核心计算\n",
    "        result = 0\n",
    "        if dividend <= divisor:\n",
    "            result = self.div(dividend, divisor)\n",
    "            \n",
    "        return -result if negetive else result\n",
    "    \n",
    "    # 递归\n",
    "    def div(self, y, x):\n",
    "        # 注意此处y、x都为负数\n",
    "        if y > x:\n",
    "            return 0\n",
    "        result = 1\n",
    "        _x = x\n",
    "        while _x + _x >= y:\n",
    "            result = result + result\n",
    "            _x = _x + _x\n",
    "        return result + self.div(y - _x, x)"
   ]
  },
  {
   "cell_type": "code",
   "execution_count": 70,
   "metadata": {},
   "outputs": [
    {
     "name": "stdout",
     "output_type": "stream",
     "text": [
      "1073741823\n"
     ]
    }
   ],
   "source": [
    "dividend = 2147483647\n",
    "divisor = 2\n",
    "print(Solution().divide(dividend, divisor))"
   ]
  },
  {
   "cell_type": "code",
   "execution_count": null,
   "metadata": {},
   "outputs": [],
   "source": []
  }
 ],
 "metadata": {
  "kernelspec": {
   "display_name": "Python 3 (ipykernel)",
   "language": "python",
   "name": "python3"
  },
  "language_info": {
   "codemirror_mode": {
    "name": "ipython",
    "version": 3
   },
   "file_extension": ".py",
   "mimetype": "text/x-python",
   "name": "python",
   "nbconvert_exporter": "python",
   "pygments_lexer": "ipython3",
   "version": "3.8.3"
  }
 },
 "nbformat": 4,
 "nbformat_minor": 4
}
