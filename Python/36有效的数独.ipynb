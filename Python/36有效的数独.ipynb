{
 "cells": [
  {
   "cell_type": "code",
   "execution_count": 1,
   "metadata": {},
   "outputs": [],
   "source": [
    "import typing\n",
    "from typing import List"
   ]
  },
  {
   "cell_type": "code",
   "execution_count": 2,
   "metadata": {},
   "outputs": [],
   "source": [
    "# 先记录、再判断\n",
    "class Solution1:\n",
    "    def isValidSudoku(self, board: List[List[str]]) -> bool:\n",
    "        num_dict = {}\n",
    "        for i in range(9):\n",
    "            for j in range(9):\n",
    "                if board[i][j] != \".\":\n",
    "                    if board[i][j] not in num_dict:\n",
    "                        num_dict[board[i][j]] = [[i, j]]\n",
    "                    else:\n",
    "                        num_dict[board[i][j]].append([i, j])\n",
    "\n",
    "        for k, v in num_dict.items():\n",
    "            x = []\n",
    "            y = []\n",
    "            idx = []\n",
    "            for _ in v:\n",
    "                x.append(_[0])\n",
    "                y.append(_[1])\n",
    "                idx.append(_[0] // 3 * 3 + _[1] // 3)\n",
    "            if len(x) != len(set(x)):\n",
    "                return False\n",
    "            if len(y) != len(set(y)):\n",
    "                return False\n",
    "            if len(idx) != len(set(idx)):\n",
    "                return False\n",
    "\n",
    "        return True\n",
    "\n",
    "# 边记录、边判断\n",
    "class Solution:\n",
    "    def isValidSudoku(self, board: List[List[str]]) -> bool:\n",
    "        num_dict = {}\n",
    "        for i in range(9):\n",
    "            num_dict[str(i+1)] = [[], [], []]  # x, y, idx\n",
    "            \n",
    "        for i in range(9):\n",
    "            for j in range(9):\n",
    "                if board[i][j] != \".\":\n",
    "                    data = num_dict[board[i][j]]\n",
    "                    if i in data[0] or j in data[1] or i // 3 * 3 + j // 3 in data[2]:\n",
    "                        return False\n",
    "                    else:\n",
    "                        data[0].append(i)\n",
    "                        data[1].append(j)\n",
    "                        data[2].append(i // 3 * 3 + j // 3)\n",
    "        return True"
   ]
  },
  {
   "cell_type": "code",
   "execution_count": 3,
   "metadata": {},
   "outputs": [
    {
     "name": "stdout",
     "output_type": "stream",
     "text": [
      "True\n"
     ]
    }
   ],
   "source": [
    "board = [[\"5\",\"3\",\".\",\".\",\"7\",\".\",\".\",\".\",\".\"],[\"6\",\".\",\".\",\"1\",\"9\",\"5\",\".\",\".\",\".\"],[\".\",\"9\",\"8\",\".\",\".\",\".\",\".\",\"6\",\".\"],[\"8\",\".\",\".\",\".\",\"6\",\".\",\".\",\".\",\"3\"],[\"4\",\".\",\".\",\"8\",\".\",\"3\",\".\",\".\",\"1\"],[\"7\",\".\",\".\",\".\",\"2\",\".\",\".\",\".\",\"6\"],[\".\",\"6\",\".\",\".\",\".\",\".\",\"2\",\"8\",\".\"],[\".\",\".\",\".\",\"4\",\"1\",\"9\",\".\",\".\",\"5\"],[\".\",\".\",\".\",\".\",\"8\",\".\",\".\",\"7\",\"9\"]]\n",
    "print(Solution().isValidSudoku(board))"
   ]
  },
  {
   "cell_type": "code",
   "execution_count": null,
   "metadata": {},
   "outputs": [],
   "source": []
  }
 ],
 "metadata": {
  "kernelspec": {
   "display_name": "Python 3 (ipykernel)",
   "language": "python",
   "name": "python3"
  },
  "language_info": {
   "codemirror_mode": {
    "name": "ipython",
    "version": 3
   },
   "file_extension": ".py",
   "mimetype": "text/x-python",
   "name": "python",
   "nbconvert_exporter": "python",
   "pygments_lexer": "ipython3",
   "version": "3.8.3"
  }
 },
 "nbformat": 4,
 "nbformat_minor": 4
}
